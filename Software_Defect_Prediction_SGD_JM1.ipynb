{
  "nbformat": 4,
  "nbformat_minor": 0,
  "metadata": {
    "colab": {
      "name": "Software-Defect-Prediction",
      "provenance": [],
      "collapsed_sections": [],
      "authorship_tag": "ABX9TyOiYsBzXvwdiQN/8HlvFIF4"
    },
    "kernelspec": {
      "name": "python3",
      "display_name": "Python 3"
    },
    "language_info": {
      "name": "python"
    }
  },
  "cells": [
    {
      "cell_type": "markdown",
      "metadata": {
        "id": "NEMlVb_5biF0"
      },
      "source": [
        "Importing all nescessary packages."
      ]
    },
    {
      "cell_type": "code",
      "metadata": {
        "id": "zWiqWojS2qJW"
      },
      "source": [
        "import pandas as pd\n",
        "import tensorflow as tf\n",
        "import numpy as np\n",
        "import matplotlib as plt\n",
        "import seaborn as sns\n"
      ],
      "execution_count": 1,
      "outputs": []
    },
    {
      "cell_type": "markdown",
      "metadata": {
        "id": "JdCeRHRAcFkb"
      },
      "source": [
        "Downloading & Printing the dataset"
      ]
    },
    {
      "cell_type": "code",
      "metadata": {
        "id": "4pSiCustcEzK"
      },
      "source": [
        "url = 'https://raw.githubusercontent.com/MilanBinsMathew/Software-Defect-Prediction-JM1/main/jm1_csv.csv'"
      ],
      "execution_count": 2,
      "outputs": []
    },
    {
      "cell_type": "code",
      "metadata": {
        "colab": {
          "base_uri": "https://localhost:8080/"
        },
        "id": "cFKX_vJCd1Bk",
        "outputId": "398c931d-dfe9-46ef-edd3-e0fa2dd16de9"
      },
      "source": [
        "df = pd.read_csv(url)\n",
        "print(df.head())\n",
        "\n",
        "df.isnull().sum()"
      ],
      "execution_count": 3,
      "outputs": [
        {
          "output_type": "stream",
          "name": "stdout",
          "text": [
            "     loc  v(g)  ev(g)  iv(g)  ...  total_Op  total_Opnd  branchCount  defects\n",
            "0    1.1   1.4    1.4    1.4  ...       1.2         1.2          1.4        0\n",
            "1    1.0   1.0    1.0    1.0  ...       1.0         1.0          1.0        1\n",
            "2   72.0   7.0    1.0    6.0  ...     112.0        86.0         13.0        1\n",
            "3  190.0   3.0    1.0    3.0  ...     329.0       271.0          5.0        1\n",
            "4   37.0   4.0    1.0    4.0  ...      76.0        50.0          7.0        1\n",
            "\n",
            "[5 rows x 22 columns]\n"
          ]
        },
        {
          "output_type": "execute_result",
          "data": {
            "text/plain": [
              "loc                  0\n",
              "v(g)                 0\n",
              "ev(g)                0\n",
              "iv(g)                0\n",
              "n                    0\n",
              "v                    0\n",
              "l                    0\n",
              "d                    0\n",
              "i                    0\n",
              "e                    0\n",
              "b                    0\n",
              "t                    0\n",
              "lOCode               0\n",
              "lOComment            0\n",
              "lOBlank              0\n",
              "locCodeAndComment    0\n",
              "uniq_Op              0\n",
              "uniq_Opnd            0\n",
              "total_Op             0\n",
              "total_Opnd           0\n",
              "branchCount          0\n",
              "defects              0\n",
              "dtype: int64"
            ]
          },
          "metadata": {},
          "execution_count": 3
        }
      ]
    },
    {
      "cell_type": "markdown",
      "metadata": {
        "id": "d2m3WgW3l7zp"
      },
      "source": [
        "Shuffling the dataset.\n",
        "Segementation into training and test set (80% - 20%)\n",
        "Normalizing the values"
      ]
    },
    {
      "cell_type": "code",
      "metadata": {
        "id": "hSG4zkugmM0Y"
      },
      "source": [
        "from sklearn.model_selection import train_test_split\n",
        "\n",
        "X = df.drop(['defects'], axis =1).values\n",
        "\n",
        "y = df['defects'].values\n",
        "\n",
        "\n"
      ],
      "execution_count": 4,
      "outputs": []
    },
    {
      "cell_type": "markdown",
      "metadata": {
        "id": "O3VMk2pJri8R"
      },
      "source": [
        "Feature Scaling"
      ]
    },
    {
      "cell_type": "code",
      "metadata": {
        "id": "4G-KTc-ArmWC"
      },
      "source": [
        "from sklearn.preprocessing import MinMaxScaler\n",
        "scaler = MinMaxScaler(feature_range=[-1,1])\n",
        "X = scaler.fit_transform(X) \n",
        "\n",
        "train_X,test_X,train_Y,test_Y = train_test_split(X, y, test_size=0.2, random_state = 2)\n",
        "\n"
      ],
      "execution_count": 5,
      "outputs": []
    },
    {
      "cell_type": "markdown",
      "metadata": {
        "id": "B2rWS3crnMva"
      },
      "source": [
        "\n",
        "\n",
        "Keras Model Definition"
      ]
    },
    {
      "cell_type": "code",
      "metadata": {
        "id": "Wbso4gW0r_zM"
      },
      "source": [
        "from tensorflow.keras.models import Sequential\n",
        "from tensorflow.keras.layers import Dense,Activation,BatchNormalization\n",
        "from tensorflow.keras.optimizers import SGD\n",
        "from tensorflow.keras.losses import BinaryCrossentropy"
      ],
      "execution_count": 6,
      "outputs": []
    },
    {
      "cell_type": "code",
      "metadata": {
        "id": "4TZgUlkbxblE"
      },
      "source": [
        "class mycallback(tf.keras.callbacks.Callback):\n",
        "  def on_epoch_end(self, epoch, log = {}):\n",
        "    if log.get('accuracy') > 0.92:\n",
        "      self.model.stop_training = True\n",
        "\n",
        "model = Sequential([ \n",
        "(Dense(512,activation = 'relu',kernel_initializer='he_uniform',input_shape = (21,))),\n",
        "(BatchNormalization()),\n",
        "(Dense(512,activation = 'relu')),\n",
        "\n",
        "(BatchNormalization()),\n",
        "(Dense(256,activation = 'relu')),\n",
        "(Dense(1,activation = 'sigmoid'))\n",
        "])\n",
        "ad = SGD(learning_rate=0.01, decay=1e-6, momentum=0.9, nesterov=True)\n",
        "\n",
        "call = mycallback()\n",
        "model.compile(optimizer = ad, loss='binary_crossentropy',metrics = ['accuracy'])"
      ],
      "execution_count": 7,
      "outputs": []
    },
    {
      "cell_type": "markdown",
      "metadata": {
        "id": "XGMY88g8rQuO"
      },
      "source": [
        "Training"
      ]
    },
    {
      "cell_type": "code",
      "metadata": {
        "id": "88pIatPU85m-",
        "colab": {
          "base_uri": "https://localhost:8080/"
        },
        "outputId": "69cd5875-6e7b-43c9-8cfe-331c0a0ed61a"
      },
      "source": [
        "model.fit(x = train_X, y = train_Y, batch_size = 256, epochs = 200, callbacks=  [call])\n",
        "model.summary()"
      ],
      "execution_count": 8,
      "outputs": [
        {
          "output_type": "stream",
          "name": "stdout",
          "text": [
            "Epoch 1/200\n",
            "34/34 [==============================] - 2s 24ms/step - loss: 0.4857 - accuracy: 0.7878\n",
            "Epoch 2/200\n",
            "34/34 [==============================] - 1s 22ms/step - loss: 0.4403 - accuracy: 0.8202\n",
            "Epoch 3/200\n",
            "34/34 [==============================] - 1s 24ms/step - loss: 0.4346 - accuracy: 0.8225\n",
            "Epoch 4/200\n",
            "34/34 [==============================] - 1s 24ms/step - loss: 0.4304 - accuracy: 0.8204\n",
            "Epoch 5/200\n",
            "34/34 [==============================] - 1s 24ms/step - loss: 0.4286 - accuracy: 0.8238\n",
            "Epoch 6/200\n",
            "34/34 [==============================] - 1s 25ms/step - loss: 0.4259 - accuracy: 0.8236\n",
            "Epoch 7/200\n",
            "34/34 [==============================] - 1s 24ms/step - loss: 0.4256 - accuracy: 0.8227\n",
            "Epoch 8/200\n",
            "34/34 [==============================] - 1s 25ms/step - loss: 0.4210 - accuracy: 0.8256\n",
            "Epoch 9/200\n",
            "34/34 [==============================] - 1s 23ms/step - loss: 0.4228 - accuracy: 0.8263\n",
            "Epoch 10/200\n",
            "34/34 [==============================] - 1s 22ms/step - loss: 0.4234 - accuracy: 0.8264\n",
            "Epoch 11/200\n",
            "34/34 [==============================] - 1s 21ms/step - loss: 0.4216 - accuracy: 0.8279\n",
            "Epoch 12/200\n",
            "34/34 [==============================] - 1s 21ms/step - loss: 0.4187 - accuracy: 0.8272\n",
            "Epoch 13/200\n",
            "34/34 [==============================] - 1s 21ms/step - loss: 0.4172 - accuracy: 0.8272\n",
            "Epoch 14/200\n",
            "34/34 [==============================] - 1s 22ms/step - loss: 0.4180 - accuracy: 0.8286\n",
            "Epoch 15/200\n",
            "34/34 [==============================] - 1s 24ms/step - loss: 0.4151 - accuracy: 0.8305\n",
            "Epoch 16/200\n",
            "34/34 [==============================] - 1s 23ms/step - loss: 0.4167 - accuracy: 0.8296\n",
            "Epoch 17/200\n",
            "34/34 [==============================] - 1s 23ms/step - loss: 0.4126 - accuracy: 0.8310\n",
            "Epoch 18/200\n",
            "34/34 [==============================] - 1s 25ms/step - loss: 0.4120 - accuracy: 0.8304\n",
            "Epoch 19/200\n",
            "34/34 [==============================] - 1s 24ms/step - loss: 0.4116 - accuracy: 0.8328\n",
            "Epoch 20/200\n",
            "34/34 [==============================] - 1s 22ms/step - loss: 0.4108 - accuracy: 0.8334\n",
            "Epoch 21/200\n",
            "34/34 [==============================] - 1s 25ms/step - loss: 0.4101 - accuracy: 0.8344\n",
            "Epoch 22/200\n",
            "34/34 [==============================] - 1s 21ms/step - loss: 0.4107 - accuracy: 0.8320\n",
            "Epoch 23/200\n",
            "34/34 [==============================] - 1s 22ms/step - loss: 0.4116 - accuracy: 0.8300\n",
            "Epoch 24/200\n",
            "34/34 [==============================] - 1s 22ms/step - loss: 0.4097 - accuracy: 0.8316\n",
            "Epoch 25/200\n",
            "34/34 [==============================] - 1s 24ms/step - loss: 0.4066 - accuracy: 0.8338\n",
            "Epoch 26/200\n",
            "34/34 [==============================] - 1s 24ms/step - loss: 0.4079 - accuracy: 0.8321\n",
            "Epoch 27/200\n",
            "34/34 [==============================] - 1s 23ms/step - loss: 0.4063 - accuracy: 0.8348\n",
            "Epoch 28/200\n",
            "34/34 [==============================] - 1s 24ms/step - loss: 0.4060 - accuracy: 0.8355\n",
            "Epoch 29/200\n",
            "34/34 [==============================] - 1s 24ms/step - loss: 0.4019 - accuracy: 0.8339\n",
            "Epoch 30/200\n",
            "34/34 [==============================] - 1s 21ms/step - loss: 0.4051 - accuracy: 0.8350\n",
            "Epoch 31/200\n",
            "34/34 [==============================] - 1s 21ms/step - loss: 0.4045 - accuracy: 0.8350\n",
            "Epoch 32/200\n",
            "34/34 [==============================] - 1s 23ms/step - loss: 0.4016 - accuracy: 0.8334\n",
            "Epoch 33/200\n",
            "34/34 [==============================] - 1s 24ms/step - loss: 0.4015 - accuracy: 0.8361\n",
            "Epoch 34/200\n",
            "34/34 [==============================] - 1s 21ms/step - loss: 0.4005 - accuracy: 0.8372\n",
            "Epoch 35/200\n",
            "34/34 [==============================] - 1s 21ms/step - loss: 0.4004 - accuracy: 0.8390\n",
            "Epoch 36/200\n",
            "34/34 [==============================] - 1s 22ms/step - loss: 0.3994 - accuracy: 0.8372\n",
            "Epoch 37/200\n",
            "34/34 [==============================] - 1s 23ms/step - loss: 0.3981 - accuracy: 0.8372\n",
            "Epoch 38/200\n",
            "34/34 [==============================] - 1s 21ms/step - loss: 0.3993 - accuracy: 0.8356\n",
            "Epoch 39/200\n",
            "34/34 [==============================] - 1s 21ms/step - loss: 0.3964 - accuracy: 0.8373\n",
            "Epoch 40/200\n",
            "34/34 [==============================] - 1s 22ms/step - loss: 0.3970 - accuracy: 0.8369\n",
            "Epoch 41/200\n",
            "34/34 [==============================] - 1s 24ms/step - loss: 0.3960 - accuracy: 0.8394\n",
            "Epoch 42/200\n",
            "34/34 [==============================] - 1s 24ms/step - loss: 0.3940 - accuracy: 0.8382\n",
            "Epoch 43/200\n",
            "34/34 [==============================] - 1s 24ms/step - loss: 0.3948 - accuracy: 0.8369\n",
            "Epoch 44/200\n",
            "34/34 [==============================] - 1s 24ms/step - loss: 0.3948 - accuracy: 0.8375\n",
            "Epoch 45/200\n",
            "34/34 [==============================] - 1s 23ms/step - loss: 0.3918 - accuracy: 0.8393\n",
            "Epoch 46/200\n",
            "34/34 [==============================] - 1s 21ms/step - loss: 0.3930 - accuracy: 0.8406\n",
            "Epoch 47/200\n",
            "34/34 [==============================] - 1s 24ms/step - loss: 0.3891 - accuracy: 0.8412\n",
            "Epoch 48/200\n",
            "34/34 [==============================] - 1s 25ms/step - loss: 0.3914 - accuracy: 0.8403\n",
            "Epoch 49/200\n",
            "34/34 [==============================] - 1s 24ms/step - loss: 0.3922 - accuracy: 0.8402\n",
            "Epoch 50/200\n",
            "34/34 [==============================] - 1s 23ms/step - loss: 0.3895 - accuracy: 0.8412\n",
            "Epoch 51/200\n",
            "34/34 [==============================] - 1s 25ms/step - loss: 0.3885 - accuracy: 0.8412\n",
            "Epoch 52/200\n",
            "34/34 [==============================] - 1s 22ms/step - loss: 0.3899 - accuracy: 0.8420\n",
            "Epoch 53/200\n",
            "34/34 [==============================] - 1s 23ms/step - loss: 0.3874 - accuracy: 0.8392\n",
            "Epoch 54/200\n",
            "34/34 [==============================] - 1s 24ms/step - loss: 0.3868 - accuracy: 0.8405\n",
            "Epoch 55/200\n",
            "34/34 [==============================] - 1s 24ms/step - loss: 0.3870 - accuracy: 0.8428\n",
            "Epoch 56/200\n",
            "34/34 [==============================] - 1s 23ms/step - loss: 0.3869 - accuracy: 0.8431\n",
            "Epoch 57/200\n",
            "34/34 [==============================] - 1s 22ms/step - loss: 0.3870 - accuracy: 0.8413\n",
            "Epoch 58/200\n",
            "34/34 [==============================] - 1s 23ms/step - loss: 0.3846 - accuracy: 0.8435\n",
            "Epoch 59/200\n",
            "34/34 [==============================] - 1s 25ms/step - loss: 0.3830 - accuracy: 0.8449\n",
            "Epoch 60/200\n",
            "34/34 [==============================] - 1s 24ms/step - loss: 0.3823 - accuracy: 0.8458\n",
            "Epoch 61/200\n",
            "34/34 [==============================] - 1s 24ms/step - loss: 0.3838 - accuracy: 0.8428\n",
            "Epoch 62/200\n",
            "34/34 [==============================] - 1s 23ms/step - loss: 0.3847 - accuracy: 0.8417\n",
            "Epoch 63/200\n",
            "34/34 [==============================] - 1s 23ms/step - loss: 0.3806 - accuracy: 0.8477\n",
            "Epoch 64/200\n",
            "34/34 [==============================] - 1s 25ms/step - loss: 0.3786 - accuracy: 0.8471\n",
            "Epoch 65/200\n",
            "34/34 [==============================] - 1s 24ms/step - loss: 0.3829 - accuracy: 0.8470\n",
            "Epoch 66/200\n",
            "34/34 [==============================] - 1s 23ms/step - loss: 0.3798 - accuracy: 0.8469\n",
            "Epoch 67/200\n",
            "34/34 [==============================] - 1s 24ms/step - loss: 0.3793 - accuracy: 0.8475\n",
            "Epoch 68/200\n",
            "34/34 [==============================] - 1s 23ms/step - loss: 0.3771 - accuracy: 0.8472\n",
            "Epoch 69/200\n",
            "34/34 [==============================] - 1s 25ms/step - loss: 0.3809 - accuracy: 0.8451\n",
            "Epoch 70/200\n",
            "34/34 [==============================] - 1s 24ms/step - loss: 0.3808 - accuracy: 0.8452\n",
            "Epoch 71/200\n",
            "34/34 [==============================] - 1s 24ms/step - loss: 0.3772 - accuracy: 0.8487\n",
            "Epoch 72/200\n",
            "34/34 [==============================] - 1s 24ms/step - loss: 0.3759 - accuracy: 0.8464\n",
            "Epoch 73/200\n",
            "34/34 [==============================] - 1s 24ms/step - loss: 0.3714 - accuracy: 0.8482\n",
            "Epoch 74/200\n",
            "34/34 [==============================] - 1s 24ms/step - loss: 0.3766 - accuracy: 0.8472\n",
            "Epoch 75/200\n",
            "34/34 [==============================] - 1s 23ms/step - loss: 0.3758 - accuracy: 0.8457\n",
            "Epoch 76/200\n",
            "34/34 [==============================] - 1s 24ms/step - loss: 0.3730 - accuracy: 0.8474\n",
            "Epoch 77/200\n",
            "34/34 [==============================] - 1s 23ms/step - loss: 0.3724 - accuracy: 0.8489\n",
            "Epoch 78/200\n",
            "34/34 [==============================] - 1s 22ms/step - loss: 0.3727 - accuracy: 0.8502\n",
            "Epoch 79/200\n",
            "34/34 [==============================] - 1s 24ms/step - loss: 0.3706 - accuracy: 0.8486\n",
            "Epoch 80/200\n",
            "34/34 [==============================] - 1s 24ms/step - loss: 0.3725 - accuracy: 0.8497\n",
            "Epoch 81/200\n",
            "34/34 [==============================] - 1s 24ms/step - loss: 0.3676 - accuracy: 0.8526\n",
            "Epoch 82/200\n",
            "34/34 [==============================] - 1s 24ms/step - loss: 0.3665 - accuracy: 0.8514\n",
            "Epoch 83/200\n",
            "34/34 [==============================] - 1s 25ms/step - loss: 0.3711 - accuracy: 0.8482\n",
            "Epoch 84/200\n",
            "34/34 [==============================] - 1s 24ms/step - loss: 0.3679 - accuracy: 0.8517\n",
            "Epoch 85/200\n",
            "34/34 [==============================] - 1s 24ms/step - loss: 0.3667 - accuracy: 0.8521\n",
            "Epoch 86/200\n",
            "34/34 [==============================] - 1s 25ms/step - loss: 0.3626 - accuracy: 0.8523\n",
            "Epoch 87/200\n",
            "34/34 [==============================] - 1s 24ms/step - loss: 0.3683 - accuracy: 0.8494\n",
            "Epoch 88/200\n",
            "34/34 [==============================] - 1s 25ms/step - loss: 0.3660 - accuracy: 0.8527\n",
            "Epoch 89/200\n",
            "34/34 [==============================] - 1s 24ms/step - loss: 0.3687 - accuracy: 0.8537\n",
            "Epoch 90/200\n",
            "34/34 [==============================] - 1s 24ms/step - loss: 0.3687 - accuracy: 0.8512\n",
            "Epoch 91/200\n",
            "34/34 [==============================] - 1s 24ms/step - loss: 0.3626 - accuracy: 0.8539\n",
            "Epoch 92/200\n",
            "34/34 [==============================] - 1s 24ms/step - loss: 0.3618 - accuracy: 0.8533\n",
            "Epoch 93/200\n",
            "34/34 [==============================] - 1s 25ms/step - loss: 0.3645 - accuracy: 0.8504\n",
            "Epoch 94/200\n",
            "34/34 [==============================] - 1s 24ms/step - loss: 0.3650 - accuracy: 0.8519\n",
            "Epoch 95/200\n",
            "34/34 [==============================] - 1s 24ms/step - loss: 0.3648 - accuracy: 0.8545\n",
            "Epoch 96/200\n",
            "34/34 [==============================] - 1s 24ms/step - loss: 0.3610 - accuracy: 0.8555\n",
            "Epoch 97/200\n",
            "34/34 [==============================] - 1s 24ms/step - loss: 0.3554 - accuracy: 0.8578\n",
            "Epoch 98/200\n",
            "34/34 [==============================] - 1s 24ms/step - loss: 0.3580 - accuracy: 0.8562\n",
            "Epoch 99/200\n",
            "34/34 [==============================] - 1s 23ms/step - loss: 0.3562 - accuracy: 0.8578\n",
            "Epoch 100/200\n",
            "34/34 [==============================] - 1s 26ms/step - loss: 0.3611 - accuracy: 0.8556\n",
            "Epoch 101/200\n",
            "34/34 [==============================] - 1s 24ms/step - loss: 0.3582 - accuracy: 0.8566\n",
            "Epoch 102/200\n",
            "34/34 [==============================] - 1s 22ms/step - loss: 0.3557 - accuracy: 0.8589\n",
            "Epoch 103/200\n",
            "34/34 [==============================] - 1s 24ms/step - loss: 0.3534 - accuracy: 0.8588\n",
            "Epoch 104/200\n",
            "34/34 [==============================] - 1s 25ms/step - loss: 0.3580 - accuracy: 0.8563\n",
            "Epoch 105/200\n",
            "34/34 [==============================] - 1s 25ms/step - loss: 0.3556 - accuracy: 0.8564\n",
            "Epoch 106/200\n",
            "34/34 [==============================] - 1s 26ms/step - loss: 0.3549 - accuracy: 0.8585\n",
            "Epoch 107/200\n",
            "34/34 [==============================] - 1s 22ms/step - loss: 0.3502 - accuracy: 0.8628\n",
            "Epoch 108/200\n",
            "34/34 [==============================] - 1s 23ms/step - loss: 0.3500 - accuracy: 0.8608\n",
            "Epoch 109/200\n",
            "34/34 [==============================] - 1s 25ms/step - loss: 0.3476 - accuracy: 0.8603\n",
            "Epoch 110/200\n",
            "34/34 [==============================] - 1s 24ms/step - loss: 0.3497 - accuracy: 0.8613\n",
            "Epoch 111/200\n",
            "34/34 [==============================] - 1s 21ms/step - loss: 0.3513 - accuracy: 0.8604\n",
            "Epoch 112/200\n",
            "34/34 [==============================] - 1s 23ms/step - loss: 0.3510 - accuracy: 0.8610\n",
            "Epoch 113/200\n",
            "34/34 [==============================] - 1s 24ms/step - loss: 0.3490 - accuracy: 0.8622\n",
            "Epoch 114/200\n",
            "34/34 [==============================] - 1s 25ms/step - loss: 0.3480 - accuracy: 0.8603\n",
            "Epoch 115/200\n",
            "34/34 [==============================] - 1s 24ms/step - loss: 0.3438 - accuracy: 0.8633\n",
            "Epoch 116/200\n",
            "34/34 [==============================] - 1s 25ms/step - loss: 0.3487 - accuracy: 0.8583\n",
            "Epoch 117/200\n",
            "34/34 [==============================] - 1s 25ms/step - loss: 0.3485 - accuracy: 0.8601\n",
            "Epoch 118/200\n",
            "34/34 [==============================] - 1s 25ms/step - loss: 0.3432 - accuracy: 0.8652\n",
            "Epoch 119/200\n",
            "34/34 [==============================] - 1s 25ms/step - loss: 0.3392 - accuracy: 0.8660\n",
            "Epoch 120/200\n",
            "34/34 [==============================] - 1s 26ms/step - loss: 0.3421 - accuracy: 0.8621\n",
            "Epoch 121/200\n",
            "34/34 [==============================] - 1s 25ms/step - loss: 0.3474 - accuracy: 0.8621\n",
            "Epoch 122/200\n",
            "34/34 [==============================] - 1s 22ms/step - loss: 0.3414 - accuracy: 0.8628\n",
            "Epoch 123/200\n",
            "34/34 [==============================] - 1s 24ms/step - loss: 0.3427 - accuracy: 0.8620\n",
            "Epoch 124/200\n",
            "34/34 [==============================] - 1s 25ms/step - loss: 0.3435 - accuracy: 0.8635\n",
            "Epoch 125/200\n",
            "34/34 [==============================] - 1s 25ms/step - loss: 0.3380 - accuracy: 0.8665\n",
            "Epoch 126/200\n",
            "34/34 [==============================] - 1s 24ms/step - loss: 0.3417 - accuracy: 0.8640\n",
            "Epoch 127/200\n",
            "34/34 [==============================] - 1s 24ms/step - loss: 0.3431 - accuracy: 0.8659\n",
            "Epoch 128/200\n",
            "34/34 [==============================] - 1s 24ms/step - loss: 0.3346 - accuracy: 0.8720\n",
            "Epoch 129/200\n",
            "34/34 [==============================] - 1s 24ms/step - loss: 0.3380 - accuracy: 0.8671\n",
            "Epoch 130/200\n",
            "34/34 [==============================] - 1s 23ms/step - loss: 0.3358 - accuracy: 0.8699\n",
            "Epoch 131/200\n",
            "34/34 [==============================] - 1s 21ms/step - loss: 0.3336 - accuracy: 0.8681\n",
            "Epoch 132/200\n",
            "34/34 [==============================] - 1s 24ms/step - loss: 0.3355 - accuracy: 0.8682\n",
            "Epoch 133/200\n",
            "34/34 [==============================] - 1s 24ms/step - loss: 0.3355 - accuracy: 0.8679\n",
            "Epoch 134/200\n",
            "34/34 [==============================] - 1s 23ms/step - loss: 0.3329 - accuracy: 0.8689\n",
            "Epoch 135/200\n",
            "34/34 [==============================] - 1s 23ms/step - loss: 0.3297 - accuracy: 0.8710\n",
            "Epoch 136/200\n",
            "34/34 [==============================] - 1s 23ms/step - loss: 0.3256 - accuracy: 0.8739\n",
            "Epoch 137/200\n",
            "34/34 [==============================] - 1s 24ms/step - loss: 0.3245 - accuracy: 0.8711\n",
            "Epoch 138/200\n",
            "34/34 [==============================] - 1s 22ms/step - loss: 0.3244 - accuracy: 0.8732\n",
            "Epoch 139/200\n",
            "34/34 [==============================] - 1s 23ms/step - loss: 0.3239 - accuracy: 0.8737\n",
            "Epoch 140/200\n",
            "34/34 [==============================] - 1s 25ms/step - loss: 0.3241 - accuracy: 0.8735\n",
            "Epoch 141/200\n",
            "34/34 [==============================] - 1s 26ms/step - loss: 0.3282 - accuracy: 0.8735\n",
            "Epoch 142/200\n",
            "34/34 [==============================] - 1s 26ms/step - loss: 0.3215 - accuracy: 0.8768\n",
            "Epoch 143/200\n",
            "34/34 [==============================] - 1s 27ms/step - loss: 0.3244 - accuracy: 0.8726\n",
            "Epoch 144/200\n",
            "34/34 [==============================] - 1s 24ms/step - loss: 0.3209 - accuracy: 0.8726\n",
            "Epoch 145/200\n",
            "34/34 [==============================] - 1s 26ms/step - loss: 0.3184 - accuracy: 0.8789\n",
            "Epoch 146/200\n",
            "34/34 [==============================] - 1s 24ms/step - loss: 0.3203 - accuracy: 0.8721\n",
            "Epoch 147/200\n",
            "34/34 [==============================] - 1s 24ms/step - loss: 0.3204 - accuracy: 0.8759\n",
            "Epoch 148/200\n",
            "34/34 [==============================] - 1s 24ms/step - loss: 0.3218 - accuracy: 0.8736\n",
            "Epoch 149/200\n",
            "34/34 [==============================] - 1s 22ms/step - loss: 0.3325 - accuracy: 0.8694\n",
            "Epoch 150/200\n",
            "34/34 [==============================] - 1s 22ms/step - loss: 0.3269 - accuracy: 0.8712\n",
            "Epoch 151/200\n",
            "34/34 [==============================] - 1s 22ms/step - loss: 0.3316 - accuracy: 0.8728\n",
            "Epoch 152/200\n",
            "34/34 [==============================] - 1s 22ms/step - loss: 0.3272 - accuracy: 0.8733\n",
            "Epoch 153/200\n",
            "34/34 [==============================] - 1s 22ms/step - loss: 0.3228 - accuracy: 0.8770\n",
            "Epoch 154/200\n",
            "34/34 [==============================] - 1s 23ms/step - loss: 0.3208 - accuracy: 0.8759\n",
            "Epoch 155/200\n",
            "34/34 [==============================] - 1s 25ms/step - loss: 0.3190 - accuracy: 0.8755\n",
            "Epoch 156/200\n",
            "34/34 [==============================] - 1s 27ms/step - loss: 0.3161 - accuracy: 0.8757\n",
            "Epoch 157/200\n",
            "34/34 [==============================] - 1s 22ms/step - loss: 0.3156 - accuracy: 0.8770\n",
            "Epoch 158/200\n",
            "34/34 [==============================] - 1s 24ms/step - loss: 0.3220 - accuracy: 0.8759\n",
            "Epoch 159/200\n",
            "34/34 [==============================] - 1s 24ms/step - loss: 0.3193 - accuracy: 0.8732\n",
            "Epoch 160/200\n",
            "34/34 [==============================] - 1s 22ms/step - loss: 0.3176 - accuracy: 0.8775\n",
            "Epoch 161/200\n",
            "34/34 [==============================] - 1s 22ms/step - loss: 0.3257 - accuracy: 0.8743\n",
            "Epoch 162/200\n",
            "34/34 [==============================] - 1s 24ms/step - loss: 0.3144 - accuracy: 0.8789\n",
            "Epoch 163/200\n",
            "34/34 [==============================] - 1s 25ms/step - loss: 0.3076 - accuracy: 0.8812\n",
            "Epoch 164/200\n",
            "34/34 [==============================] - 1s 26ms/step - loss: 0.3145 - accuracy: 0.8798\n",
            "Epoch 165/200\n",
            "34/34 [==============================] - 1s 25ms/step - loss: 0.3182 - accuracy: 0.8767\n",
            "Epoch 166/200\n",
            "34/34 [==============================] - 1s 26ms/step - loss: 0.3105 - accuracy: 0.8784\n",
            "Epoch 167/200\n",
            "34/34 [==============================] - 1s 26ms/step - loss: 0.3067 - accuracy: 0.8820\n",
            "Epoch 168/200\n",
            "34/34 [==============================] - 1s 24ms/step - loss: 0.3058 - accuracy: 0.8834\n",
            "Epoch 169/200\n",
            "34/34 [==============================] - 1s 26ms/step - loss: 0.3092 - accuracy: 0.8805\n",
            "Epoch 170/200\n",
            "34/34 [==============================] - 1s 25ms/step - loss: 0.3141 - accuracy: 0.8806\n",
            "Epoch 171/200\n",
            "34/34 [==============================] - 1s 24ms/step - loss: 0.3089 - accuracy: 0.8847\n",
            "Epoch 172/200\n",
            "34/34 [==============================] - 1s 24ms/step - loss: 0.3046 - accuracy: 0.8861\n",
            "Epoch 173/200\n",
            "34/34 [==============================] - 1s 25ms/step - loss: 0.3115 - accuracy: 0.8807\n",
            "Epoch 174/200\n",
            "34/34 [==============================] - 1s 25ms/step - loss: 0.3078 - accuracy: 0.8818\n",
            "Epoch 175/200\n",
            "34/34 [==============================] - 1s 24ms/step - loss: 0.3109 - accuracy: 0.8817\n",
            "Epoch 176/200\n",
            "34/34 [==============================] - 1s 25ms/step - loss: 0.3018 - accuracy: 0.8843\n",
            "Epoch 177/200\n",
            "34/34 [==============================] - 1s 25ms/step - loss: 0.3054 - accuracy: 0.8830\n",
            "Epoch 178/200\n",
            "34/34 [==============================] - 1s 25ms/step - loss: 0.3013 - accuracy: 0.8855\n",
            "Epoch 179/200\n",
            "34/34 [==============================] - 1s 22ms/step - loss: 0.3040 - accuracy: 0.8843\n",
            "Epoch 180/200\n",
            "34/34 [==============================] - 1s 24ms/step - loss: 0.2998 - accuracy: 0.8898\n",
            "Epoch 181/200\n",
            "34/34 [==============================] - 1s 26ms/step - loss: 0.3030 - accuracy: 0.8826\n",
            "Epoch 182/200\n",
            "34/34 [==============================] - 1s 25ms/step - loss: 0.3076 - accuracy: 0.8809\n",
            "Epoch 183/200\n",
            "34/34 [==============================] - 1s 24ms/step - loss: 0.3012 - accuracy: 0.8864\n",
            "Epoch 184/200\n",
            "34/34 [==============================] - 1s 26ms/step - loss: 0.3010 - accuracy: 0.8842\n",
            "Epoch 185/200\n",
            "34/34 [==============================] - 1s 25ms/step - loss: 0.2982 - accuracy: 0.8840\n",
            "Epoch 186/200\n",
            "34/34 [==============================] - 1s 25ms/step - loss: 0.3129 - accuracy: 0.8811\n",
            "Epoch 187/200\n",
            "34/34 [==============================] - 1s 25ms/step - loss: 0.3007 - accuracy: 0.8858\n",
            "Epoch 188/200\n",
            "34/34 [==============================] - 1s 25ms/step - loss: 0.2936 - accuracy: 0.8884\n",
            "Epoch 189/200\n",
            "34/34 [==============================] - 1s 24ms/step - loss: 0.2946 - accuracy: 0.8892\n",
            "Epoch 190/200\n",
            "34/34 [==============================] - 1s 24ms/step - loss: 0.2958 - accuracy: 0.8874\n",
            "Epoch 191/200\n",
            "34/34 [==============================] - 1s 24ms/step - loss: 0.2958 - accuracy: 0.8890\n",
            "Epoch 192/200\n",
            "34/34 [==============================] - 1s 25ms/step - loss: 0.2943 - accuracy: 0.8878\n",
            "Epoch 193/200\n",
            "34/34 [==============================] - 1s 24ms/step - loss: 0.2897 - accuracy: 0.8905\n",
            "Epoch 194/200\n",
            "34/34 [==============================] - 1s 24ms/step - loss: 0.2932 - accuracy: 0.8901\n",
            "Epoch 195/200\n",
            "34/34 [==============================] - 1s 22ms/step - loss: 0.2925 - accuracy: 0.8873\n",
            "Epoch 196/200\n",
            "34/34 [==============================] - 1s 25ms/step - loss: 0.2905 - accuracy: 0.8891\n",
            "Epoch 197/200\n",
            "34/34 [==============================] - 1s 26ms/step - loss: 0.2918 - accuracy: 0.8906\n",
            "Epoch 198/200\n",
            "34/34 [==============================] - 1s 24ms/step - loss: 0.2892 - accuracy: 0.8923\n",
            "Epoch 199/200\n",
            "34/34 [==============================] - 1s 25ms/step - loss: 0.2868 - accuracy: 0.8921\n",
            "Epoch 200/200\n",
            "34/34 [==============================] - 1s 25ms/step - loss: 0.2834 - accuracy: 0.8942\n",
            "Model: \"sequential\"\n",
            "_________________________________________________________________\n",
            "Layer (type)                 Output Shape              Param #   \n",
            "=================================================================\n",
            "dense (Dense)                (None, 512)               11264     \n",
            "_________________________________________________________________\n",
            "batch_normalization (BatchNo (None, 512)               2048      \n",
            "_________________________________________________________________\n",
            "dense_1 (Dense)              (None, 512)               262656    \n",
            "_________________________________________________________________\n",
            "batch_normalization_1 (Batch (None, 512)               2048      \n",
            "_________________________________________________________________\n",
            "dense_2 (Dense)              (None, 256)               131328    \n",
            "_________________________________________________________________\n",
            "dense_3 (Dense)              (None, 1)                 257       \n",
            "=================================================================\n",
            "Total params: 409,601\n",
            "Trainable params: 407,553\n",
            "Non-trainable params: 2,048\n",
            "_________________________________________________________________\n"
          ]
        }
      ]
    },
    {
      "cell_type": "markdown",
      "metadata": {
        "id": "NWS1YFLVsRnc"
      },
      "source": [
        "Results"
      ]
    },
    {
      "cell_type": "code",
      "metadata": {
        "colab": {
          "base_uri": "https://localhost:8080/",
          "height": 501
        },
        "id": "Dm5SKDPBsTzz",
        "outputId": "65b86ac0-c176-445e-c6b5-e02d1dc54243"
      },
      "source": [
        "loss_df = pd.DataFrame(model.history.history)\n",
        "loss_df.plot(figsize=(15,8))"
      ],
      "execution_count": 9,
      "outputs": [
        {
          "output_type": "execute_result",
          "data": {
            "text/plain": [
              "<matplotlib.axes._subplots.AxesSubplot at 0x7fb992169b10>"
            ]
          },
          "metadata": {},
          "execution_count": 9
        },
        {
          "output_type": "display_data",
          "data": {
            "image/png": "[encoded data removed]",
            "text/plain": [
              "<Figure size 1080x576 with 1 Axes>"
            ]
          },
          "metadata": {
            "needs_background": "light"
          }
        }
      ]
    },
    {
      "cell_type": "code",
      "metadata": {
        "colab": {
          "base_uri": "https://localhost:8080/",
          "height": 283
        },
        "id": "XhPBt7l6st0j",
        "outputId": "76f0d3d6-c1a1-4c06-b345-2d95dba7f72d"
      },
      "source": [
        "y_pred = model.predict(test_X)\n",
        "\n",
        "from sklearn import metrics\n",
        "\n",
        "\n",
        "fig = plt.pyplot.plot(figsize=(10,5))\n",
        "plt.pyplot.scatter(test_Y,y_pred)\n",
        "\n",
        "plt.pyplot.plot(test_Y,test_Y,'r')"
      ],
      "execution_count": 10,
      "outputs": [
        {
          "output_type": "execute_result",
          "data": {
            "text/plain": [
              "[<matplotlib.lines.Line2D at 0x7fb990963d10>]"
            ]
          },
          "metadata": {},
          "execution_count": 10
        },
        {
          "output_type": "display_data",
          "data": {
            "image/png": "[encoded data removed]",
            "text/plain": [
              "<Figure size 432x288 with 1 Axes>"
            ]
          },
          "metadata": {
            "needs_background": "light"
          }
        }
      ]
    },
    {
      "cell_type": "code",
      "metadata": {
        "id": "hH_4V2SByjfh",
        "colab": {
          "base_uri": "https://localhost:8080/"
        },
        "outputId": "be863669-bd89-4512-f4a2-bd542ffdabcb"
      },
      "source": [
        "from sklearn.metrics import accuracy_score\n",
        "from sklearn.metrics import precision_score\n",
        "from sklearn.metrics import recall_score\n",
        "from sklearn.metrics import f1_score\n",
        "\n",
        "\n",
        "\n",
        "y_pred = (y_pred >= 0.65).astype(int).ravel()\n",
        "\n",
        "accuracy = accuracy_score(test_Y, y_pred)\n",
        "print('Accuracy: %f' % accuracy)\n",
        "\n",
        "precision = precision_score(test_Y, y_pred)\n",
        "print('Precision: %f' % precision)\n",
        "\n",
        "recall = recall_score(test_Y, y_pred)\n",
        "print('Recall: %f' % recall)\n",
        "\n",
        "f1 = f1_score(test_Y, y_pred)\n",
        "print('F1 score: %f' % f1)\n",
        "\n",
        "\n"
      ],
      "execution_count": 13,
      "outputs": [
        {
          "output_type": "stream",
          "name": "stdout",
          "text": [
            "Accuracy: 0.809283\n",
            "Precision: 0.535211\n",
            "Recall: 0.178824\n",
            "F1 score: 0.268078\n"
          ]
        }
      ]
    }
  ]
}