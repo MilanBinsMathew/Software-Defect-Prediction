{
  "nbformat": 4,
  "nbformat_minor": 0,
  "metadata": {
    "colab": {
      "name": "Software-Defect-Prediction",
      "provenance": [],
      "collapsed_sections": [],
      "authorship_tag": "ABX9TyN8NLROgvnvK3foR3ewm2Ls"
    },
    "kernelspec": {
      "name": "python3",
      "display_name": "Python 3"
    },
    "language_info": {
      "name": "python"
    }
  },
  "cells": [
    {
      "cell_type": "markdown",
      "metadata": {
        "id": "NEMlVb_5biF0"
      },
      "source": [
        "Importing all nescessary packages."
      ]
    },
    {
      "cell_type": "code",
      "metadata": {
        "id": "zWiqWojS2qJW"
      },
      "source": [
        "import pandas as pd\n",
        "import tensorflow as tf\n",
        "import numpy as np\n",
        "import matplotlib as plt\n",
        "import seaborn as sns\n"
      ],
      "execution_count": 1,
      "outputs": []
    },
    {
      "cell_type": "markdown",
      "metadata": {
        "id": "JdCeRHRAcFkb"
      },
      "source": [
        "Downloading & Printing the dataset"
      ]
    },
    {
      "cell_type": "code",
      "metadata": {
        "id": "4pSiCustcEzK"
      },
      "source": [
        "url = 'https://raw.githubusercontent.com/MilanBinsMathew/Software-Defect-Prediction-JM1/main/jm1_csv.csv'"
      ],
      "execution_count": 2,
      "outputs": []
    },
    {
      "cell_type": "code",
      "metadata": {
        "colab": {
          "base_uri": "https://localhost:8080/"
        },
        "id": "cFKX_vJCd1Bk",
        "outputId": "b81c65d4-bb4e-4744-e995-8a1ddb798375"
      },
      "source": [
        "df = pd.read_csv(url)\n",
        "print(df.head())\n",
        "\n",
        "df.isnull().sum()"
      ],
      "execution_count": 3,
      "outputs": [
        {
          "output_type": "stream",
          "name": "stdout",
          "text": [
            "     loc  v(g)  ev(g)  iv(g)  ...  total_Op  total_Opnd  branchCount  defects\n",
            "0    1.1   1.4    1.4    1.4  ...       1.2         1.2          1.4        0\n",
            "1    1.0   1.0    1.0    1.0  ...       1.0         1.0          1.0        1\n",
            "2   72.0   7.0    1.0    6.0  ...     112.0        86.0         13.0        1\n",
            "3  190.0   3.0    1.0    3.0  ...     329.0       271.0          5.0        1\n",
            "4   37.0   4.0    1.0    4.0  ...      76.0        50.0          7.0        1\n",
            "\n",
            "[5 rows x 22 columns]\n"
          ]
        },
        {
          "output_type": "execute_result",
          "data": {
            "text/plain": [
              "loc                  0\n",
              "v(g)                 0\n",
              "ev(g)                0\n",
              "iv(g)                0\n",
              "n                    0\n",
              "v                    0\n",
              "l                    0\n",
              "d                    0\n",
              "i                    0\n",
              "e                    0\n",
              "b                    0\n",
              "t                    0\n",
              "lOCode               0\n",
              "lOComment            0\n",
              "lOBlank              0\n",
              "locCodeAndComment    0\n",
              "uniq_Op              0\n",
              "uniq_Opnd            0\n",
              "total_Op             0\n",
              "total_Opnd           0\n",
              "branchCount          0\n",
              "defects              0\n",
              "dtype: int64"
            ]
          },
          "metadata": {},
          "execution_count": 3
        }
      ]
    },
    {
      "cell_type": "markdown",
      "metadata": {
        "id": "d2m3WgW3l7zp"
      },
      "source": [
        "Shuffling the dataset.\n",
        "Segementation into training and test set (80% - 20%)\n",
        "Normalizing the values"
      ]
    },
    {
      "cell_type": "code",
      "metadata": {
        "id": "hSG4zkugmM0Y"
      },
      "source": [
        "from sklearn.model_selection import train_test_split\n",
        "\n",
        "X = df.drop(['defects'], axis =1).values\n",
        "\n",
        "y = df['defects'].values\n",
        "\n",
        "\n"
      ],
      "execution_count": 4,
      "outputs": []
    },
    {
      "cell_type": "markdown",
      "metadata": {
        "id": "O3VMk2pJri8R"
      },
      "source": [
        "Feature Scaling"
      ]
    },
    {
      "cell_type": "code",
      "metadata": {
        "id": "4G-KTc-ArmWC"
      },
      "source": [
        "from sklearn.preprocessing import MinMaxScaler\n",
        "scaler = MinMaxScaler(feature_range=[-1,1])\n",
        "X = scaler.fit_transform(X) \n",
        "\n",
        "train_X,test_X,train_Y,test_Y = train_test_split(X, y, test_size=0.2, random_state = 2)\n",
        "\n"
      ],
      "execution_count": 5,
      "outputs": []
    },
    {
      "cell_type": "markdown",
      "metadata": {
        "id": "B2rWS3crnMva"
      },
      "source": [
        "\n",
        "\n",
        "Keras Model Definition"
      ]
    },
    {
      "cell_type": "code",
      "metadata": {
        "id": "Wbso4gW0r_zM"
      },
      "source": [
        "from tensorflow.keras.models import Sequential\n",
        "from tensorflow.keras.layers import Dense,Activation,BatchNormalization\n",
        "from tensorflow.keras.optimizers import Adam\n",
        "from tensorflow.keras.losses import BinaryCrossentropy"
      ],
      "execution_count": 6,
      "outputs": []
    },
    {
      "cell_type": "code",
      "metadata": {
        "id": "4TZgUlkbxblE"
      },
      "source": [
        "class mycallback(tf.keras.callbacks.Callback):\n",
        "  def on_epoch_end(self, epoch, log = {}):\n",
        "    if log.get('accuracy') > 0.89:\n",
        "      self.model.stop_training = True\n",
        "\n",
        "model = Sequential([ \n",
        "(Dense(512,activation = 'relu',kernel_initializer='he_uniform',input_shape = (21,))),\n",
        "(BatchNormalization()),\n",
        "(Dense(512,activation = 'relu')),\n",
        "\n",
        "(BatchNormalization()),\n",
        "(Dense(256,activation = 'relu')),\n",
        "(Dense(1,activation = 'sigmoid'))\n",
        "])\n",
        "ad = Adam(learning_rate = 0.01)\n",
        "\n",
        "call = mycallback()\n",
        "model.compile(optimizer = ad, loss='binary_crossentropy',metrics = ['accuracy'])"
      ],
      "execution_count": 7,
      "outputs": []
    },
    {
      "cell_type": "markdown",
      "metadata": {
        "id": "XGMY88g8rQuO"
      },
      "source": [
        "Training"
      ]
    },
    {
      "cell_type": "code",
      "metadata": {
        "id": "88pIatPU85m-",
        "colab": {
          "base_uri": "https://localhost:8080/"
        },
        "outputId": "7b6f988c-f3dd-45eb-d12d-08ba2ae54153"
      },
      "source": [
        "model.fit(x = train_X, y = train_Y, batch_size = 256, epochs = 200, callbacks=  [call])\n",
        "model.summary()"
      ],
      "execution_count": 8,
      "outputs": [
        {
          "output_type": "stream",
          "name": "stdout",
          "text": [
            "Epoch 1/200\n",
            "34/34 [==============================] - 2s 23ms/step - loss: 0.9681 - accuracy: 0.7594\n",
            "Epoch 2/200\n",
            "34/34 [==============================] - 1s 22ms/step - loss: 0.4888 - accuracy: 0.8057\n",
            "Epoch 3/200\n",
            "34/34 [==============================] - 1s 22ms/step - loss: 0.4518 - accuracy: 0.8126\n",
            "Epoch 4/200\n",
            "34/34 [==============================] - 1s 23ms/step - loss: 0.4531 - accuracy: 0.8134\n",
            "Epoch 5/200\n",
            "34/34 [==============================] - 1s 24ms/step - loss: 0.4487 - accuracy: 0.8119\n",
            "Epoch 6/200\n",
            "34/34 [==============================] - 1s 26ms/step - loss: 0.4367 - accuracy: 0.8176\n",
            "Epoch 7/200\n",
            "34/34 [==============================] - 1s 24ms/step - loss: 0.4402 - accuracy: 0.8157\n",
            "Epoch 8/200\n",
            "34/34 [==============================] - 1s 25ms/step - loss: 0.4430 - accuracy: 0.8127\n",
            "Epoch 9/200\n",
            "34/34 [==============================] - 1s 24ms/step - loss: 0.4399 - accuracy: 0.8162\n",
            "Epoch 10/200\n",
            "34/34 [==============================] - 1s 25ms/step - loss: 0.4429 - accuracy: 0.8122\n",
            "Epoch 11/200\n",
            "34/34 [==============================] - 1s 24ms/step - loss: 0.4392 - accuracy: 0.8161\n",
            "Epoch 12/200\n",
            "34/34 [==============================] - 1s 24ms/step - loss: 0.4362 - accuracy: 0.8154\n",
            "Epoch 13/200\n",
            "34/34 [==============================] - 1s 24ms/step - loss: 0.4407 - accuracy: 0.8178\n",
            "Epoch 14/200\n",
            "34/34 [==============================] - 1s 24ms/step - loss: 0.4366 - accuracy: 0.8172\n",
            "Epoch 15/200\n",
            "34/34 [==============================] - 1s 24ms/step - loss: 0.4377 - accuracy: 0.8163\n",
            "Epoch 16/200\n",
            "34/34 [==============================] - 1s 24ms/step - loss: 0.4336 - accuracy: 0.8188\n",
            "Epoch 17/200\n",
            "34/34 [==============================] - 1s 24ms/step - loss: 0.4366 - accuracy: 0.8163\n",
            "Epoch 18/200\n",
            "34/34 [==============================] - 1s 24ms/step - loss: 0.4378 - accuracy: 0.8172\n",
            "Epoch 19/200\n",
            "34/34 [==============================] - 1s 22ms/step - loss: 0.4335 - accuracy: 0.8174\n",
            "Epoch 20/200\n",
            "34/34 [==============================] - 1s 22ms/step - loss: 0.4343 - accuracy: 0.8180\n",
            "Epoch 21/200\n",
            "34/34 [==============================] - 1s 21ms/step - loss: 0.4333 - accuracy: 0.8184\n",
            "Epoch 22/200\n",
            "34/34 [==============================] - 1s 24ms/step - loss: 0.4338 - accuracy: 0.8161\n",
            "Epoch 23/200\n",
            "34/34 [==============================] - 1s 25ms/step - loss: 0.4293 - accuracy: 0.8174\n",
            "Epoch 24/200\n",
            "34/34 [==============================] - 1s 25ms/step - loss: 0.4305 - accuracy: 0.8190\n",
            "Epoch 25/200\n",
            "34/34 [==============================] - 1s 24ms/step - loss: 0.4261 - accuracy: 0.8171\n",
            "Epoch 26/200\n",
            "34/34 [==============================] - 1s 25ms/step - loss: 0.4308 - accuracy: 0.8204\n",
            "Epoch 27/200\n",
            "34/34 [==============================] - 1s 24ms/step - loss: 0.4305 - accuracy: 0.8189\n",
            "Epoch 28/200\n",
            "34/34 [==============================] - 1s 24ms/step - loss: 0.4309 - accuracy: 0.8189\n",
            "Epoch 29/200\n",
            "34/34 [==============================] - 1s 24ms/step - loss: 0.4281 - accuracy: 0.8205\n",
            "Epoch 30/200\n",
            "34/34 [==============================] - 1s 24ms/step - loss: 0.4307 - accuracy: 0.8204\n",
            "Epoch 31/200\n",
            "34/34 [==============================] - 1s 25ms/step - loss: 0.4277 - accuracy: 0.8184\n",
            "Epoch 32/200\n",
            "34/34 [==============================] - 1s 24ms/step - loss: 0.4340 - accuracy: 0.8192\n",
            "Epoch 33/200\n",
            "34/34 [==============================] - 1s 24ms/step - loss: 0.4295 - accuracy: 0.8204\n",
            "Epoch 34/200\n",
            "34/34 [==============================] - 1s 24ms/step - loss: 0.4313 - accuracy: 0.8172\n",
            "Epoch 35/200\n",
            "34/34 [==============================] - 1s 25ms/step - loss: 0.4269 - accuracy: 0.8202\n",
            "Epoch 36/200\n",
            "34/34 [==============================] - 1s 25ms/step - loss: 0.4278 - accuracy: 0.8199\n",
            "Epoch 37/200\n",
            "34/34 [==============================] - 1s 25ms/step - loss: 0.4266 - accuracy: 0.8184\n",
            "Epoch 38/200\n",
            "34/34 [==============================] - 1s 26ms/step - loss: 0.4255 - accuracy: 0.8224\n",
            "Epoch 39/200\n",
            "34/34 [==============================] - 1s 24ms/step - loss: 0.4255 - accuracy: 0.8233\n",
            "Epoch 40/200\n",
            "34/34 [==============================] - 1s 25ms/step - loss: 0.4270 - accuracy: 0.8180\n",
            "Epoch 41/200\n",
            "34/34 [==============================] - 1s 25ms/step - loss: 0.4230 - accuracy: 0.8242\n",
            "Epoch 42/200\n",
            "34/34 [==============================] - 1s 24ms/step - loss: 0.4219 - accuracy: 0.8241\n",
            "Epoch 43/200\n",
            "34/34 [==============================] - 1s 25ms/step - loss: 0.4228 - accuracy: 0.8210\n",
            "Epoch 44/200\n",
            "34/34 [==============================] - 1s 25ms/step - loss: 0.4272 - accuracy: 0.8205\n",
            "Epoch 45/200\n",
            "34/34 [==============================] - 1s 24ms/step - loss: 0.4236 - accuracy: 0.8230\n",
            "Epoch 46/200\n",
            "34/34 [==============================] - 1s 26ms/step - loss: 0.4221 - accuracy: 0.8231\n",
            "Epoch 47/200\n",
            "34/34 [==============================] - 1s 26ms/step - loss: 0.4198 - accuracy: 0.8213\n",
            "Epoch 48/200\n",
            "34/34 [==============================] - 1s 25ms/step - loss: 0.4206 - accuracy: 0.8217\n",
            "Epoch 49/200\n",
            "34/34 [==============================] - 1s 24ms/step - loss: 0.4174 - accuracy: 0.8241\n",
            "Epoch 50/200\n",
            "34/34 [==============================] - 1s 22ms/step - loss: 0.4209 - accuracy: 0.8236\n",
            "Epoch 51/200\n",
            "34/34 [==============================] - 1s 22ms/step - loss: 0.4195 - accuracy: 0.8242\n",
            "Epoch 52/200\n",
            "34/34 [==============================] - 1s 22ms/step - loss: 0.4150 - accuracy: 0.8261\n",
            "Epoch 53/200\n",
            "34/34 [==============================] - 1s 22ms/step - loss: 0.4166 - accuracy: 0.8259\n",
            "Epoch 54/200\n",
            "34/34 [==============================] - 1s 25ms/step - loss: 0.4178 - accuracy: 0.8236\n",
            "Epoch 55/200\n",
            "34/34 [==============================] - 1s 25ms/step - loss: 0.4180 - accuracy: 0.8227\n",
            "Epoch 56/200\n",
            "34/34 [==============================] - 1s 25ms/step - loss: 0.4199 - accuracy: 0.8232\n",
            "Epoch 57/200\n",
            "34/34 [==============================] - 1s 26ms/step - loss: 0.4217 - accuracy: 0.8271\n",
            "Epoch 58/200\n",
            "34/34 [==============================] - 1s 25ms/step - loss: 0.4177 - accuracy: 0.8242\n",
            "Epoch 59/200\n",
            "34/34 [==============================] - 1s 25ms/step - loss: 0.4150 - accuracy: 0.8231\n",
            "Epoch 60/200\n",
            "34/34 [==============================] - 1s 22ms/step - loss: 0.4182 - accuracy: 0.8250\n",
            "Epoch 61/200\n",
            "34/34 [==============================] - 1s 24ms/step - loss: 0.4151 - accuracy: 0.8256\n",
            "Epoch 62/200\n",
            "34/34 [==============================] - 1s 26ms/step - loss: 0.4187 - accuracy: 0.8238\n",
            "Epoch 63/200\n",
            "34/34 [==============================] - 1s 25ms/step - loss: 0.4144 - accuracy: 0.8256\n",
            "Epoch 64/200\n",
            "34/34 [==============================] - 1s 26ms/step - loss: 0.4126 - accuracy: 0.8226\n",
            "Epoch 65/200\n",
            "34/34 [==============================] - 1s 25ms/step - loss: 0.4150 - accuracy: 0.8277\n",
            "Epoch 66/200\n",
            "34/34 [==============================] - 1s 25ms/step - loss: 0.4125 - accuracy: 0.8264\n",
            "Epoch 67/200\n",
            "34/34 [==============================] - 1s 23ms/step - loss: 0.4113 - accuracy: 0.8262\n",
            "Epoch 68/200\n",
            "34/34 [==============================] - 1s 23ms/step - loss: 0.4121 - accuracy: 0.8266\n",
            "Epoch 69/200\n",
            "34/34 [==============================] - 1s 25ms/step - loss: 0.4148 - accuracy: 0.8231\n",
            "Epoch 70/200\n",
            "34/34 [==============================] - 1s 25ms/step - loss: 0.4108 - accuracy: 0.8269\n",
            "Epoch 71/200\n",
            "34/34 [==============================] - 1s 21ms/step - loss: 0.4078 - accuracy: 0.8282\n",
            "Epoch 72/200\n",
            "34/34 [==============================] - 1s 25ms/step - loss: 0.4113 - accuracy: 0.8276\n",
            "Epoch 73/200\n",
            "34/34 [==============================] - 1s 24ms/step - loss: 0.4166 - accuracy: 0.8251\n",
            "Epoch 74/200\n",
            "34/34 [==============================] - 1s 24ms/step - loss: 0.4108 - accuracy: 0.8259\n",
            "Epoch 75/200\n",
            "34/34 [==============================] - 1s 22ms/step - loss: 0.4056 - accuracy: 0.8318\n",
            "Epoch 76/200\n",
            "34/34 [==============================] - 1s 22ms/step - loss: 0.4024 - accuracy: 0.8317\n",
            "Epoch 77/200\n",
            "34/34 [==============================] - 1s 22ms/step - loss: 0.4059 - accuracy: 0.8293\n",
            "Epoch 78/200\n",
            "34/34 [==============================] - 1s 22ms/step - loss: 0.4052 - accuracy: 0.8281\n",
            "Epoch 79/200\n",
            "34/34 [==============================] - 1s 22ms/step - loss: 0.3990 - accuracy: 0.8335\n",
            "Epoch 80/200\n",
            "34/34 [==============================] - 1s 24ms/step - loss: 0.4047 - accuracy: 0.8323\n",
            "Epoch 81/200\n",
            "34/34 [==============================] - 1s 25ms/step - loss: 0.4033 - accuracy: 0.8326\n",
            "Epoch 82/200\n",
            "34/34 [==============================] - 1s 31ms/step - loss: 0.4021 - accuracy: 0.8309\n",
            "Epoch 83/200\n",
            "34/34 [==============================] - 1s 39ms/step - loss: 0.3968 - accuracy: 0.8303\n",
            "Epoch 84/200\n",
            "34/34 [==============================] - 1s 31ms/step - loss: 0.3943 - accuracy: 0.8377\n",
            "Epoch 85/200\n",
            "34/34 [==============================] - 1s 23ms/step - loss: 0.3968 - accuracy: 0.8356\n",
            "Epoch 86/200\n",
            "34/34 [==============================] - 1s 22ms/step - loss: 0.4012 - accuracy: 0.8295\n",
            "Epoch 87/200\n",
            "34/34 [==============================] - 1s 22ms/step - loss: 0.3951 - accuracy: 0.8330\n",
            "Epoch 88/200\n",
            "34/34 [==============================] - 1s 22ms/step - loss: 0.3959 - accuracy: 0.8359\n",
            "Epoch 89/200\n",
            "34/34 [==============================] - 1s 22ms/step - loss: 0.3932 - accuracy: 0.8321\n",
            "Epoch 90/200\n",
            "34/34 [==============================] - 1s 22ms/step - loss: 0.3955 - accuracy: 0.8315\n",
            "Epoch 91/200\n",
            "34/34 [==============================] - 1s 22ms/step - loss: 0.3930 - accuracy: 0.8344\n",
            "Epoch 92/200\n",
            "34/34 [==============================] - 1s 22ms/step - loss: 0.3971 - accuracy: 0.8311\n",
            "Epoch 93/200\n",
            "34/34 [==============================] - 1s 22ms/step - loss: 0.3890 - accuracy: 0.8359\n",
            "Epoch 94/200\n",
            "34/34 [==============================] - 1s 23ms/step - loss: 0.3903 - accuracy: 0.8380\n",
            "Epoch 95/200\n",
            "34/34 [==============================] - 1s 24ms/step - loss: 0.3892 - accuracy: 0.8349\n",
            "Epoch 96/200\n",
            "34/34 [==============================] - 1s 26ms/step - loss: 0.3816 - accuracy: 0.8402\n",
            "Epoch 97/200\n",
            "34/34 [==============================] - 1s 25ms/step - loss: 0.3770 - accuracy: 0.8444\n",
            "Epoch 98/200\n",
            "34/34 [==============================] - 1s 26ms/step - loss: 0.3828 - accuracy: 0.8392\n",
            "Epoch 99/200\n",
            "34/34 [==============================] - 1s 28ms/step - loss: 0.3915 - accuracy: 0.8347\n",
            "Epoch 100/200\n",
            "34/34 [==============================] - 1s 26ms/step - loss: 0.3843 - accuracy: 0.8388\n",
            "Epoch 101/200\n",
            "34/34 [==============================] - 1s 26ms/step - loss: 0.3853 - accuracy: 0.8395\n",
            "Epoch 102/200\n",
            "34/34 [==============================] - 1s 27ms/step - loss: 0.3837 - accuracy: 0.8404\n",
            "Epoch 103/200\n",
            "34/34 [==============================] - 1s 27ms/step - loss: 0.3909 - accuracy: 0.8355\n",
            "Epoch 104/200\n",
            "34/34 [==============================] - 1s 25ms/step - loss: 0.3904 - accuracy: 0.8348\n",
            "Epoch 105/200\n",
            "34/34 [==============================] - 1s 28ms/step - loss: 0.3807 - accuracy: 0.8434\n",
            "Epoch 106/200\n",
            "34/34 [==============================] - 1s 28ms/step - loss: 0.3779 - accuracy: 0.8423\n",
            "Epoch 107/200\n",
            "34/34 [==============================] - 1s 28ms/step - loss: 0.3782 - accuracy: 0.8411\n",
            "Epoch 108/200\n",
            "34/34 [==============================] - 1s 27ms/step - loss: 0.3852 - accuracy: 0.8377\n",
            "Epoch 109/200\n",
            "34/34 [==============================] - 1s 25ms/step - loss: 0.3800 - accuracy: 0.8448\n",
            "Epoch 110/200\n",
            "34/34 [==============================] - 1s 26ms/step - loss: 0.3774 - accuracy: 0.8424\n",
            "Epoch 111/200\n",
            "34/34 [==============================] - 1s 27ms/step - loss: 0.3736 - accuracy: 0.8462\n",
            "Epoch 112/200\n",
            "34/34 [==============================] - 1s 27ms/step - loss: 0.3686 - accuracy: 0.8441\n",
            "Epoch 113/200\n",
            "34/34 [==============================] - 1s 24ms/step - loss: 0.3732 - accuracy: 0.8439\n",
            "Epoch 114/200\n",
            "34/34 [==============================] - 1s 27ms/step - loss: 0.3764 - accuracy: 0.8441\n",
            "Epoch 115/200\n",
            "34/34 [==============================] - 1s 28ms/step - loss: 0.3709 - accuracy: 0.8465\n",
            "Epoch 116/200\n",
            "34/34 [==============================] - 1s 27ms/step - loss: 0.3727 - accuracy: 0.8435\n",
            "Epoch 117/200\n",
            "34/34 [==============================] - 1s 28ms/step - loss: 0.3615 - accuracy: 0.8495\n",
            "Epoch 118/200\n",
            "34/34 [==============================] - 1s 24ms/step - loss: 0.3758 - accuracy: 0.8458\n",
            "Epoch 119/200\n",
            "34/34 [==============================] - 1s 27ms/step - loss: 0.3642 - accuracy: 0.8477\n",
            "Epoch 120/200\n",
            "34/34 [==============================] - 1s 27ms/step - loss: 0.3603 - accuracy: 0.8504\n",
            "Epoch 121/200\n",
            "34/34 [==============================] - 1s 25ms/step - loss: 0.3580 - accuracy: 0.8543\n",
            "Epoch 122/200\n",
            "34/34 [==============================] - 1s 25ms/step - loss: 0.3545 - accuracy: 0.8552\n",
            "Epoch 123/200\n",
            "34/34 [==============================] - 1s 26ms/step - loss: 0.3646 - accuracy: 0.8535\n",
            "Epoch 124/200\n",
            "34/34 [==============================] - 1s 26ms/step - loss: 0.3582 - accuracy: 0.8536\n",
            "Epoch 125/200\n",
            "34/34 [==============================] - 1s 26ms/step - loss: 0.3548 - accuracy: 0.8517\n",
            "Epoch 126/200\n",
            "34/34 [==============================] - 1s 24ms/step - loss: 0.3571 - accuracy: 0.8540\n",
            "Epoch 127/200\n",
            "34/34 [==============================] - 1s 23ms/step - loss: 0.3495 - accuracy: 0.8556\n",
            "Epoch 128/200\n",
            "34/34 [==============================] - 1s 24ms/step - loss: 0.3558 - accuracy: 0.8547\n",
            "Epoch 129/200\n",
            "34/34 [==============================] - 1s 26ms/step - loss: 0.3576 - accuracy: 0.8490\n",
            "Epoch 130/200\n",
            "34/34 [==============================] - 1s 27ms/step - loss: 0.3482 - accuracy: 0.8563\n",
            "Epoch 131/200\n",
            "34/34 [==============================] - 1s 28ms/step - loss: 0.3482 - accuracy: 0.8575\n",
            "Epoch 132/200\n",
            "34/34 [==============================] - 1s 24ms/step - loss: 0.3550 - accuracy: 0.8539\n",
            "Epoch 133/200\n",
            "34/34 [==============================] - 1s 25ms/step - loss: 0.3428 - accuracy: 0.8639\n",
            "Epoch 134/200\n",
            "34/34 [==============================] - 1s 24ms/step - loss: 0.3402 - accuracy: 0.8603\n",
            "Epoch 135/200\n",
            "34/34 [==============================] - 1s 23ms/step - loss: 0.3460 - accuracy: 0.8586\n",
            "Epoch 136/200\n",
            "34/34 [==============================] - 1s 23ms/step - loss: 0.3411 - accuracy: 0.8643\n",
            "Epoch 137/200\n",
            "34/34 [==============================] - 1s 27ms/step - loss: 0.3329 - accuracy: 0.8635\n",
            "Epoch 138/200\n",
            "34/34 [==============================] - 1s 24ms/step - loss: 0.3325 - accuracy: 0.8657\n",
            "Epoch 139/200\n",
            "34/34 [==============================] - 1s 24ms/step - loss: 0.3324 - accuracy: 0.8658\n",
            "Epoch 140/200\n",
            "34/34 [==============================] - 1s 23ms/step - loss: 0.3209 - accuracy: 0.8743\n",
            "Epoch 141/200\n",
            "34/34 [==============================] - 1s 23ms/step - loss: 0.3246 - accuracy: 0.8680\n",
            "Epoch 142/200\n",
            "34/34 [==============================] - 1s 25ms/step - loss: 0.3389 - accuracy: 0.8644\n",
            "Epoch 143/200\n",
            "34/34 [==============================] - 1s 26ms/step - loss: 0.3317 - accuracy: 0.8668\n",
            "Epoch 144/200\n",
            "34/34 [==============================] - 1s 27ms/step - loss: 0.3317 - accuracy: 0.8650\n",
            "Epoch 145/200\n",
            "34/34 [==============================] - 1s 26ms/step - loss: 0.3319 - accuracy: 0.8674\n",
            "Epoch 146/200\n",
            "34/34 [==============================] - 1s 26ms/step - loss: 0.3172 - accuracy: 0.8734\n",
            "Epoch 147/200\n",
            "34/34 [==============================] - 1s 26ms/step - loss: 0.3218 - accuracy: 0.8702\n",
            "Epoch 148/200\n",
            "34/34 [==============================] - 1s 27ms/step - loss: 0.3219 - accuracy: 0.8697\n",
            "Epoch 149/200\n",
            "34/34 [==============================] - 1s 27ms/step - loss: 0.3208 - accuracy: 0.8702\n",
            "Epoch 150/200\n",
            "34/34 [==============================] - 1s 26ms/step - loss: 0.3229 - accuracy: 0.8722\n",
            "Epoch 151/200\n",
            "34/34 [==============================] - 1s 27ms/step - loss: 0.3153 - accuracy: 0.8782\n",
            "Epoch 152/200\n",
            "34/34 [==============================] - 1s 27ms/step - loss: 0.3148 - accuracy: 0.8752\n",
            "Epoch 153/200\n",
            "34/34 [==============================] - 1s 25ms/step - loss: 0.3101 - accuracy: 0.8763\n",
            "Epoch 154/200\n",
            "34/34 [==============================] - 1s 26ms/step - loss: 0.3205 - accuracy: 0.8711\n",
            "Epoch 155/200\n",
            "34/34 [==============================] - 1s 27ms/step - loss: 0.3139 - accuracy: 0.8758\n",
            "Epoch 156/200\n",
            "34/34 [==============================] - 1s 25ms/step - loss: 0.3101 - accuracy: 0.8776\n",
            "Epoch 157/200\n",
            "34/34 [==============================] - 1s 28ms/step - loss: 0.3084 - accuracy: 0.8776\n",
            "Epoch 158/200\n",
            "34/34 [==============================] - 1s 28ms/step - loss: 0.3058 - accuracy: 0.8774\n",
            "Epoch 159/200\n",
            "34/34 [==============================] - 1s 27ms/step - loss: 0.3032 - accuracy: 0.8795\n",
            "Epoch 160/200\n",
            "34/34 [==============================] - 1s 26ms/step - loss: 0.2980 - accuracy: 0.8805\n",
            "Epoch 161/200\n",
            "34/34 [==============================] - 1s 25ms/step - loss: 0.2983 - accuracy: 0.8832\n",
            "Epoch 162/200\n",
            "34/34 [==============================] - 1s 25ms/step - loss: 0.3056 - accuracy: 0.8776\n",
            "Epoch 163/200\n",
            "34/34 [==============================] - 1s 26ms/step - loss: 0.3029 - accuracy: 0.8760\n",
            "Epoch 164/200\n",
            "34/34 [==============================] - 1s 25ms/step - loss: 0.2977 - accuracy: 0.8804\n",
            "Epoch 165/200\n",
            "34/34 [==============================] - 1s 25ms/step - loss: 0.2976 - accuracy: 0.8819\n",
            "Epoch 166/200\n",
            "34/34 [==============================] - 1s 25ms/step - loss: 0.2952 - accuracy: 0.8845\n",
            "Epoch 167/200\n",
            "34/34 [==============================] - 1s 26ms/step - loss: 0.2940 - accuracy: 0.8826\n",
            "Epoch 168/200\n",
            "34/34 [==============================] - 1s 24ms/step - loss: 0.3052 - accuracy: 0.8817\n",
            "Epoch 169/200\n",
            "34/34 [==============================] - 1s 25ms/step - loss: 0.2883 - accuracy: 0.8873\n",
            "Epoch 170/200\n",
            "34/34 [==============================] - 1s 25ms/step - loss: 0.2974 - accuracy: 0.8821\n",
            "Epoch 171/200\n",
            "34/34 [==============================] - 1s 26ms/step - loss: 0.2985 - accuracy: 0.8803\n",
            "Epoch 172/200\n",
            "34/34 [==============================] - 1s 26ms/step - loss: 0.2860 - accuracy: 0.8898\n",
            "Epoch 173/200\n",
            "34/34 [==============================] - 1s 24ms/step - loss: 0.2854 - accuracy: 0.8879\n",
            "Epoch 174/200\n",
            "34/34 [==============================] - 1s 24ms/step - loss: 0.2880 - accuracy: 0.8860\n",
            "Epoch 175/200\n",
            "34/34 [==============================] - 1s 25ms/step - loss: 0.2886 - accuracy: 0.8850\n",
            "Epoch 176/200\n",
            "34/34 [==============================] - 1s 26ms/step - loss: 0.2987 - accuracy: 0.8821\n",
            "Epoch 177/200\n",
            "34/34 [==============================] - 1s 26ms/step - loss: 0.2873 - accuracy: 0.8879\n",
            "Epoch 178/200\n",
            "34/34 [==============================] - 1s 23ms/step - loss: 0.2814 - accuracy: 0.8884\n",
            "Epoch 179/200\n",
            "34/34 [==============================] - 1s 23ms/step - loss: 0.2823 - accuracy: 0.8894\n",
            "Epoch 180/200\n",
            "34/34 [==============================] - 1s 25ms/step - loss: 0.2837 - accuracy: 0.8892\n",
            "Epoch 181/200\n",
            "34/34 [==============================] - 1s 24ms/step - loss: 0.2858 - accuracy: 0.8858\n",
            "Epoch 182/200\n",
            "34/34 [==============================] - 1s 23ms/step - loss: 0.2844 - accuracy: 0.8861\n",
            "Epoch 183/200\n",
            "34/34 [==============================] - 1s 26ms/step - loss: 0.2816 - accuracy: 0.8883\n",
            "Epoch 184/200\n",
            "34/34 [==============================] - 1s 23ms/step - loss: 0.2808 - accuracy: 0.8915\n",
            "Model: \"sequential\"\n",
            "_________________________________________________________________\n",
            "Layer (type)                 Output Shape              Param #   \n",
            "=================================================================\n",
            "dense (Dense)                (None, 512)               11264     \n",
            "_________________________________________________________________\n",
            "batch_normalization (BatchNo (None, 512)               2048      \n",
            "_________________________________________________________________\n",
            "dense_1 (Dense)              (None, 512)               262656    \n",
            "_________________________________________________________________\n",
            "batch_normalization_1 (Batch (None, 512)               2048      \n",
            "_________________________________________________________________\n",
            "dense_2 (Dense)              (None, 256)               131328    \n",
            "_________________________________________________________________\n",
            "dense_3 (Dense)              (None, 1)                 257       \n",
            "=================================================================\n",
            "Total params: 409,601\n",
            "Trainable params: 407,553\n",
            "Non-trainable params: 2,048\n",
            "_________________________________________________________________\n"
          ]
        }
      ]
    },
    {
      "cell_type": "markdown",
      "metadata": {
        "id": "NWS1YFLVsRnc"
      },
      "source": [
        "Results"
      ]
    },
    {
      "cell_type": "code",
      "metadata": {
        "colab": {
          "base_uri": "https://localhost:8080/",
          "height": 503
        },
        "id": "Dm5SKDPBsTzz",
        "outputId": "01755b6f-364a-4cfc-90f6-a800ea4b1f92"
      },
      "source": [
        "loss_df = pd.DataFrame(model.history.history)\n",
        "loss_df.plot(figsize=(15,8))"
      ],
      "execution_count": 9,
      "outputs": [
        {
          "output_type": "execute_result",
          "data": {
            "text/plain": [
              "<matplotlib.axes._subplots.AxesSubplot at 0x7f1b00d36550>"
            ]
          },
          "metadata": {},
          "execution_count": 9
        },
        {
          "output_type": "display_data",
          "data": {
            "image/png": "[encoded data removed]",
            "text/plain": [
              "<Figure size 1080x576 with 1 Axes>"
            ]
          },
          "metadata": {
            "needs_background": "light"
          }
        }
      ]
    },
    {
      "cell_type": "code",
      "metadata": {
        "colab": {
          "base_uri": "https://localhost:8080/",
          "height": 283
        },
        "id": "XhPBt7l6st0j",
        "outputId": "2b714a00-4e4c-4814-99e8-72d60d4eae39"
      },
      "source": [
        "y_pred = model.predict(test_X)\n",
        "\n",
        "from sklearn import metrics\n",
        "\n",
        "\n",
        "fig = plt.pyplot.plot(figsize=(10,5))\n",
        "plt.pyplot.scatter(test_Y,y_pred)\n",
        "\n",
        "plt.pyplot.plot(test_Y,test_Y,'r')"
      ],
      "execution_count": 39,
      "outputs": [
        {
          "output_type": "execute_result",
          "data": {
            "text/plain": [
              "[<matplotlib.lines.Line2D at 0x7f1afe05b6d0>]"
            ]
          },
          "metadata": {},
          "execution_count": 39
        },
        {
          "output_type": "display_data",
          "data": {
            "image/png": "[encoded data removed]",
            "text/plain": [
              "<Figure size 432x288 with 1 Axes>"
            ]
          },
          "metadata": {
            "needs_background": "light"
          }
        }
      ]
    },
    {
      "cell_type": "code",
      "metadata": {
        "id": "hH_4V2SByjfh",
        "colab": {
          "base_uri": "https://localhost:8080/"
        },
        "outputId": "161d1a68-0f1b-407b-ba27-856549058d94"
      },
      "source": [
        "from sklearn.metrics import accuracy_score\n",
        "from sklearn.metrics import precision_score\n",
        "from sklearn.metrics import recall_score\n",
        "from sklearn.metrics import f1_score\n",
        "\n",
        "\n",
        "\n",
        "y_pred = (y_pred >= 0.65).astype(int).ravel()\n",
        " \n",
        "\n",
        "accuracy = accuracy_score(test_Y, y_pred)\n",
        "print('Accuracy: %f' % accuracy)\n",
        "\n",
        "precision = precision_score(test_Y, y_pred)\n",
        "print('Precision: %f' % precision)\n",
        "\n",
        "recall = recall_score(test_Y, y_pred)\n",
        "print('Recall: %f' % recall)\n",
        "\n",
        "f1 = f1_score(test_Y, y_pred)\n",
        "print('F1 score: %f' % f1)\n",
        "\n",
        "\n"
      ],
      "execution_count": 41,
      "outputs": [
        {
          "output_type": "stream",
          "name": "stdout",
          "text": [
            "Accuracy: 0.800092\n",
            "Precision: 0.466216\n",
            "Recall: 0.162353\n",
            "F1 score: 0.240838\n"
          ]
        }
      ]
    }
  ]
}