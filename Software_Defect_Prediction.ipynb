{
  "nbformat": 4,
  "nbformat_minor": 0,
  "metadata": {
    "colab": {
      "name": "Software-Defect-Prediction",
      "provenance": [],
      "collapsed_sections": [],
      "authorship_tag": "ABX9TyMCgKGBkAFNm6KRRdE505BK"
    },
    "kernelspec": {
      "name": "python3",
      "display_name": "Python 3"
    },
    "language_info": {
      "name": "python"
    }
  },
  "cells": [
    {
      "cell_type": "markdown",
      "metadata": {
        "id": "NEMlVb_5biF0"
      },
      "source": [
        "Importing all nescessary packages."
      ]
    },
    {
      "cell_type": "code",
      "metadata": {
        "id": "zWiqWojS2qJW"
      },
      "source": [
        "import pandas as pd\n",
        "import tensorflow as tf\n",
        "tf.compat.v1.disable_eager_execution()\n",
        "from google.colab import files\n",
        "import io\n",
        "import math\n",
        "import numpy as np\n",
        "import matplotlib.pyplot as plt\n",
        "from tensorflow.python.framework import ops\n",
        "\n",
        "%matplotlib inline\n",
        "np.random.seed(1)"
      ],
      "execution_count": 1,
      "outputs": []
    },
    {
      "cell_type": "markdown",
      "metadata": {
        "id": "JdCeRHRAcFkb"
      },
      "source": [
        "Downloading & Printing the dataset"
      ]
    },
    {
      "cell_type": "code",
      "metadata": {
        "id": "4pSiCustcEzK"
      },
      "source": [
        "url = 'https://raw.githubusercontent.com/MilanBinsMathew/Software-Defect-Prediction-JM1/main/jm1_csv.csv'"
      ],
      "execution_count": 2,
      "outputs": []
    },
    {
      "cell_type": "code",
      "metadata": {
        "colab": {
          "base_uri": "https://localhost:8080/"
        },
        "id": "cFKX_vJCd1Bk",
        "outputId": "2a143f3b-e86c-4945-addd-dab4828e3a0e"
      },
      "source": [
        "df = pd.read_csv(url)\n",
        "print(df)\n"
      ],
      "execution_count": 3,
      "outputs": [
        {
          "output_type": "stream",
          "text": [
            "         loc  v(g)  ev(g)  iv(g)  ...  total_Op  total_Opnd  branchCount  defects\n",
            "0        1.1   1.4    1.4    1.4  ...       1.2         1.2          1.4        0\n",
            "1        1.0   1.0    1.0    1.0  ...       1.0         1.0          1.0        1\n",
            "2       72.0   7.0    1.0    6.0  ...     112.0        86.0         13.0        1\n",
            "3      190.0   3.0    1.0    3.0  ...     329.0       271.0          5.0        1\n",
            "4       37.0   4.0    1.0    4.0  ...      76.0        50.0          7.0        1\n",
            "...      ...   ...    ...    ...  ...       ...         ...          ...      ...\n",
            "10880   18.0   4.0    1.0    4.0  ...      30.0        22.0          7.0        0\n",
            "10881    9.0   2.0    1.0    2.0  ...      19.0        11.0          3.0        0\n",
            "10882   42.0   4.0    1.0    2.0  ...      59.0        44.0          7.0        0\n",
            "10883   10.0   1.0    1.0    1.0  ...      21.0        15.0          1.0        0\n",
            "10884   19.0   3.0    1.0    1.0  ...      31.0        27.0          5.0        0\n",
            "\n",
            "[10885 rows x 22 columns]\n"
          ],
          "name": "stdout"
        }
      ]
    },
    {
      "cell_type": "markdown",
      "metadata": {
        "id": "d2m3WgW3l7zp"
      },
      "source": [
        "Shuffling the dataset.\n",
        "Segementation into training and test set (80% - 20%)\n",
        "Normalizing the values"
      ]
    },
    {
      "cell_type": "code",
      "metadata": {
        "id": "hSG4zkugmM0Y",
        "colab": {
          "base_uri": "https://localhost:8080/"
        },
        "outputId": "f86b53a4-1ca0-4151-b387-b2ce7097fc4b"
      },
      "source": [
        "df = df.sample(frac = 1)\n",
        "rng = np.random.RandomState()\n",
        "\n",
        "train = df.sample(frac=0.8, random_state=rng)\n",
        "test = df.loc[~df.index.isin(train.index)]\n",
        "\n",
        "train_X = train.copy()\n",
        "train_Y = train_X.pop('defects')\n",
        "\n",
        "\n",
        "test_X = test.copy()\n",
        "test_Y = test_X.pop('defects')\n",
        "train_Y = pd.Series.to_frame(train_Y)\n",
        "train_Y = train_Y.T\n",
        "test_Y = pd.Series.to_frame(test_Y)\n",
        "test_Y = test_Y.T\n",
        "train_X = train_X.T\n",
        "test_X = test_X.T\n",
        "\n",
        "train_X = (train_X - train_X.mean())/train_X.std()\n",
        "test_X = (test_X - test_X.mean())/test_X.std()\n",
        "\n",
        "\n",
        "print(train_X)\n"
      ],
      "execution_count": 16,
      "outputs": [
        {
          "output_type": "stream",
          "text": [
            "                       6122      8204      1987  ...      3956      8546      4498\n",
            "loc               -0.234619 -0.200241 -0.236885  ...  4.213472 -0.237406 -0.107660\n",
            "v(g)              -0.246682 -0.295739 -0.240057  ...  0.274164 -0.278151 -0.439002\n",
            "ev(g)             -0.250010 -0.311655 -0.240093  ... -0.028859 -0.278151 -0.439002\n",
            "iv(g)             -0.248762 -0.311655 -0.240093  ...  0.274164 -0.278151 -0.439002\n",
            "n                 -0.207166 -0.088828 -0.218743  ... -0.331883 -0.149649  0.223682\n",
            "v                 -0.018658  0.465535 -0.106511  ... -0.331883  0.256762  1.620841\n",
            "l                 -0.250405 -0.324866 -0.240127  ... -0.331883 -0.280909 -0.494226\n",
            "d                 -0.242165 -0.234780 -0.238902  ... -0.331883 -0.254425 -0.328555\n",
            "i                 -0.238758 -0.191647 -0.236244  ... -0.331883 -0.218507  0.536248\n",
            "e                  4.353290  4.298802  4.356294  ... -0.331883  4.330650  3.791131\n",
            "b                 -0.250347 -0.327253 -0.240084  ... -0.331883 -0.281097 -0.548345\n",
            "t                  0.005335 -0.070683  0.015228  ... -0.331883 -0.025065 -0.308674\n",
            "lOCode            -0.239195 -0.263906 -0.237277  ... -0.331883 -0.256211 -0.328555\n",
            "lOComment         -0.250010 -0.311655 -0.240129  ... -0.331883 -0.281285 -0.549449\n",
            "lOBlank           -0.247514 -0.311655 -0.239843  ... -0.331883 -0.268748 -0.549449\n",
            "locCodeAndComment -0.250010 -0.327571 -0.240093  ... -0.331883 -0.281285 -0.549449\n",
            "uniq_Op           -0.242522 -0.216158 -0.239558  ... -0.331883 -0.249943 -0.107660\n",
            "uniq_Opnd         -0.241275 -0.279823 -0.237990  ... -0.331883 -0.259346 -0.218107\n",
            "total_Op          -0.225884 -0.168409 -0.227939  ... -0.331883 -0.187259 -0.107660\n",
            "total_Opnd        -0.231292 -0.247990 -0.230933  ... -0.331883 -0.243675 -0.218107\n",
            "branchCount       -0.243354 -0.279823 -0.240022  ...  0.577188 -0.278151 -0.439002\n",
            "\n",
            "[21 rows x 800 columns]\n"
          ],
          "name": "stdout"
        }
      ]
    },
    {
      "cell_type": "markdown",
      "metadata": {
        "id": "IkBX-aeSlj-3"
      },
      "source": [
        "Cost Function"
      ]
    },
    {
      "cell_type": "code",
      "metadata": {
        "id": "qOTxKiTzll7-"
      },
      "source": [
        "\n",
        "def cost(logits, labels):\n",
        "\n",
        "    z = tf.compat.v1.placeholder(tf.float32, name=\"z\")\n",
        "    y = tf.compat.v1.placeholder(tf.float32, name=\"y\")\n",
        "    \n",
        "    cost = tf.nn.sigmoid_cross_entropy_with_logits(logits=z, labels=y)\n",
        "    \n",
        "   \n",
        "    sess = tf.compat.v1.Session()\n",
        "\n",
        "    cost = sess.run(cost, feed_dict={z: logits, y: labels})\n",
        "   \n",
        "    sess.close()\n",
        "    \n",
        "    return cost"
      ],
      "execution_count": 8,
      "outputs": []
    },
    {
      "cell_type": "markdown",
      "metadata": {
        "id": "O3VMk2pJri8R"
      },
      "source": [
        "Creating Place Holders for X and Y"
      ]
    },
    {
      "cell_type": "code",
      "metadata": {
        "id": "4G-KTc-ArmWC"
      },
      "source": [
        "def create_placeholders(n_x, n_y):\n",
        "  X = tf.compat.v1.placeholder(tf.float32, [n_x, None], name = \"X\")\n",
        "  Y = tf.compat.v1.placeholder(tf.float32, [n_y, None], name = \"Y\")\n",
        "  return X,Y"
      ],
      "execution_count": 9,
      "outputs": []
    },
    {
      "cell_type": "markdown",
      "metadata": {
        "id": "B2rWS3crnMva"
      },
      "source": [
        "Initialize Parameters"
      ]
    },
    {
      "cell_type": "code",
      "metadata": {
        "id": "Wbso4gW0r_zM"
      },
      "source": [
        "def initialize_parameters():\n",
        "  tf.random.set_seed(1)\n",
        "  initializer = tf.keras.initializers.GlorotUniform()\n",
        "\n",
        "  W1= tf.Variable(tf.initializers.GlorotUniform()(shape=(16,21)))\n",
        "  b1 = tf.Variable(tf.zeros_initializer()(shape=(16,1)))\n",
        "  W2= tf.Variable(tf.initializers.GlorotUniform()(shape=(8,16)))\n",
        "  b2 = tf.Variable(tf.zeros_initializer()(shape=(8,1)))\n",
        "  W3= tf.Variable(tf.initializers.GlorotUniform()(shape=(4,8)))\n",
        "  b3 = tf.Variable(tf.zeros_initializer()(shape=(4,1)))\n",
        "  W4= tf.Variable(tf.initializers.GlorotUniform()(shape=(1,4)))\n",
        "  b4 = tf.Variable(tf.zeros_initializer()(shape=(1,1)))\n",
        "\n",
        "  parameters = {\"W1\": W1,\n",
        "                \"b1\": b1,\n",
        "                \"W2\": W2,\n",
        "                \"b2\": b2,\n",
        "                \"W3\": W3,\n",
        "                \"b3\": b3,\n",
        "                \"W4\": W4,\n",
        "                \"b4\": b4}\n",
        "  return parameters"
      ],
      "execution_count": 10,
      "outputs": []
    },
    {
      "cell_type": "markdown",
      "metadata": {
        "id": "ktVa94aPxXjS"
      },
      "source": [
        "Forward Propagation"
      ]
    },
    {
      "cell_type": "code",
      "metadata": {
        "id": "4TZgUlkbxblE"
      },
      "source": [
        "def forward_propagation(X, parameters):\n",
        "  W1 = parameters['W1']\n",
        "  b1 = parameters['b1']\n",
        "  W2 = parameters['W2']\n",
        "  b2 = parameters['b2']\n",
        "  W3 = parameters['W3']\n",
        "  b3 = parameters['b3']\n",
        "  W4 = parameters['W4']\n",
        "  b4 = parameters['b4']\n",
        "  \n",
        "  Z1 = tf.add(tf.matmul(W1,X), b1)\n",
        "  A1 = tf.nn.relu(Z1)\n",
        "  Z2 = tf.add(tf.matmul(W2,A1), b2)\n",
        "  A2 = tf.nn.relu(Z2)\n",
        "  Z3 = tf.add(tf.matmul(W3,A2), b3)\n",
        "  A3 = tf.nn.relu(Z3)\n",
        "  Z4 = tf.add(tf.matmul(W4,A3), b4)\n",
        "  \n",
        "  return Z4  "
      ],
      "execution_count": 11,
      "outputs": []
    },
    {
      "cell_type": "markdown",
      "metadata": {
        "id": "sr0B5V99yqj_"
      },
      "source": [
        "Compute End Cost"
      ]
    },
    {
      "cell_type": "code",
      "metadata": {
        "id": "CC0IPIh6ysWC"
      },
      "source": [
        "def compute_cost(Z4, Y):\n",
        "  logits = tf.transpose(Z4)\n",
        "  labels = tf.transpose(Y)\n",
        "\n",
        "  cost = tf.reduce_mean(tf.nn.sigmoid_cross_entropy_with_logits(logits = logits, labels = labels))\n",
        "\n",
        "  return cost"
      ],
      "execution_count": 12,
      "outputs": []
    },
    {
      "cell_type": "markdown",
      "metadata": {
        "id": "dbThRd2CzghW"
      },
      "source": [
        "Final Implementation Model"
      ]
    },
    {
      "cell_type": "code",
      "metadata": {
        "id": "G63SrhkLzmKx"
      },
      "source": [
        "def model(X_train, Y_train, X_test, Y_test, learning_rate = 0.0001, num_epochs = 1500, print_cost = True):\n",
        "  ops.reset_default_graph()\n",
        "  tf.random.set_seed(1)\n",
        "  seed = 3\n",
        "\n",
        "  (n_x,m) = X_train.shape\n",
        "  n_y = Y_train.shape[0]\n",
        "  costs=[]\n",
        "  X,Y = create_placeholders(n_x, n_y)\n",
        "\n",
        "  parameters = initialize_parameters()\n",
        "\n",
        "  with tf.GradientTape() as tape:\n",
        "    Z4 = forward_propagation(X, parameters)\n",
        "    cost = compute_cost(Z4,Y)\n",
        "\n",
        "  \n",
        "  optimizer = tf.keras.optimizers.Adam().minimize(cost, var_list = parameters, tape = tape)\n",
        "\n",
        "  init = tf.compat.v1.global_variables_initializer()\n",
        "\n",
        "  with tf.compat.v1.Session() as sess:\n",
        "    sess.run(init)\n",
        "    for epoch in range(num_epochs):\n",
        "      epoch_cost = 0\n",
        "      seed = seed+1\n",
        "      _ , batch_cost = sess.run([optimizer, cost], feed_dict={X: X_train, Y: Y_train})\n",
        "      \n",
        "      epoch_cost += batch_cost\n",
        "\n",
        "      if print_cost == True and epoch % 100 == 0:\n",
        "        print (\"Cost after epoch %i: %f\" % (epoch, epoch_cost))\n",
        "      if print_cost == True and epoch % 5 == 0:\n",
        "        costs.append(epoch_cost)\n",
        "    plt.plot(np.squeeze(costs))\n",
        "    plt.ylabel('cost')\n",
        "    plt.xlabel('iterations (per tens)')\n",
        "    plt.title(\"Learning rate =\" + str(learning_rate))\n",
        "    plt.show()\n",
        "    \n",
        "    parameters = sess.run(parameters)\n",
        "    print(\"Parameters have been trained\")\n",
        "\n",
        "    correct_prediction = tf.equal(tf.argmax(Z4), tf.argmax(Y))\n",
        "    accuracy = tf.reduce_mean(tf.cast(correct_prediction, \"float\"))\n",
        "    \n",
        "    print(\"Train Accuracy:\", accuracy.eval({X: X_train, Y: Y_train}))\n",
        "    print(\"Test Accuracy:\", accuracy.eval({X: X_test, Y: Y_test}))\n",
        "\n",
        "    return parameters"
      ],
      "execution_count": 13,
      "outputs": []
    },
    {
      "cell_type": "markdown",
      "metadata": {
        "id": "HhJLhXG-139i"
      },
      "source": [
        "Running the model"
      ]
    },
    {
      "cell_type": "code",
      "metadata": {
        "colab": {
          "base_uri": "https://localhost:8080/",
          "height": 812
        },
        "id": "oqjhpjiC17li",
        "outputId": "75b805c4-0102-40a2-f10c-70357c1088f7"
      },
      "source": [
        "\n",
        "parameters = model(train_X, train_Y, test_X, test_Y, num_epochs = 2500)"
      ],
      "execution_count": 22,
      "outputs": [
        {
          "output_type": "stream",
          "text": [
            "Cost after epoch 0: 0.680504\n",
            "Cost after epoch 100: 0.498690\n",
            "Cost after epoch 200: 0.483758\n",
            "Cost after epoch 300: 0.469778\n",
            "Cost after epoch 400: 0.465052\n",
            "Cost after epoch 500: 0.461822\n",
            "Cost after epoch 600: 0.459316\n",
            "Cost after epoch 700: 0.456241\n",
            "Cost after epoch 800: 0.453677\n",
            "Cost after epoch 900: 0.451063\n",
            "Cost after epoch 1000: 0.447896\n",
            "Cost after epoch 1100: 0.444838\n",
            "Cost after epoch 1200: 0.440867\n",
            "Cost after epoch 1300: 0.437106\n",
            "Cost after epoch 1400: 0.433557\n",
            "Cost after epoch 1500: 0.430685\n",
            "Cost after epoch 1600: 0.428364\n",
            "Cost after epoch 1700: 0.425586\n",
            "Cost after epoch 1800: 0.423395\n",
            "Cost after epoch 1900: 0.421676\n",
            "Cost after epoch 2000: 0.420208\n",
            "Cost after epoch 2100: 0.418692\n",
            "Cost after epoch 2200: 0.417233\n",
            "Cost after epoch 2300: 0.415690\n",
            "Cost after epoch 2400: 0.414239\n"
          ],
          "name": "stdout"
        },
        {
          "output_type": "display_data",
          "data": {
            "image/png": "[encoded data removed]",
            "text/plain": [
              "<Figure size 432x288 with 1 Axes>"
            ]
          },
          "metadata": {
            "needs_background": "light"
          }
        },
        {
          "output_type": "stream",
          "text": [
            "Parameters have been trained\n",
            "Train Accuracy: 1.0\n",
            "Test Accuracy: 1.0\n"
          ],
          "name": "stdout"
        }
      ]
    },
    {
      "cell_type": "code",
      "metadata": {
        "id": "RmgJDktLQj6K"
      },
      "source": [
        ""
      ],
      "execution_count": null,
      "outputs": []
    }
  ]
}