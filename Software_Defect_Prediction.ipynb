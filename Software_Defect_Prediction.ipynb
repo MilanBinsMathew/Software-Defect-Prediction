{
  "nbformat": 4,
  "nbformat_minor": 0,
  "metadata": {
    "colab": {
      "name": "Software-Defect-Prediction",
      "provenance": [],
      "collapsed_sections": [],
      "authorship_tag": "ABX9TyNOpiNnRE7+NM4pudKUuGAq"
    },
    "kernelspec": {
      "name": "python3",
      "display_name": "Python 3"
    },
    "language_info": {
      "name": "python"
    }
  },
  "cells": [
    {
      "cell_type": "markdown",
      "metadata": {
        "id": "NEMlVb_5biF0"
      },
      "source": [
        "Importing all nescessary packages."
      ]
    },
    {
      "cell_type": "code",
      "metadata": {
        "id": "zWiqWojS2qJW"
      },
      "source": [
        "import pandas as pd\n",
        "import tensorflow as tf\n",
        "import numpy as np\n",
        "import matplotlib as plt\n",
        "import seaborn as sns\n"
      ],
      "execution_count": 1,
      "outputs": []
    },
    {
      "cell_type": "markdown",
      "metadata": {
        "id": "JdCeRHRAcFkb"
      },
      "source": [
        "Downloading & Printing the dataset"
      ]
    },
    {
      "cell_type": "code",
      "metadata": {
        "id": "4pSiCustcEzK"
      },
      "source": [
        "url = 'https://raw.githubusercontent.com/MilanBinsMathew/Software-Defect-Prediction-JM1/main/jm1_csv.csv'"
      ],
      "execution_count": 2,
      "outputs": []
    },
    {
      "cell_type": "code",
      "metadata": {
        "colab": {
          "base_uri": "https://localhost:8080/"
        },
        "id": "cFKX_vJCd1Bk",
        "outputId": "b0360d67-5290-4ff4-9e8a-d68a21d8e469"
      },
      "source": [
        "df = pd.read_csv(url)\n",
        "print(df.head())\n"
      ],
      "execution_count": 3,
      "outputs": [
        {
          "output_type": "stream",
          "name": "stdout",
          "text": [
            "     loc  v(g)  ev(g)  iv(g)  ...  total_Op  total_Opnd  branchCount  defects\n",
            "0    1.1   1.4    1.4    1.4  ...       1.2         1.2          1.4        0\n",
            "1    1.0   1.0    1.0    1.0  ...       1.0         1.0          1.0        1\n",
            "2   72.0   7.0    1.0    6.0  ...     112.0        86.0         13.0        1\n",
            "3  190.0   3.0    1.0    3.0  ...     329.0       271.0          5.0        1\n",
            "4   37.0   4.0    1.0    4.0  ...      76.0        50.0          7.0        1\n",
            "\n",
            "[5 rows x 22 columns]\n"
          ]
        }
      ]
    },
    {
      "cell_type": "markdown",
      "metadata": {
        "id": "d2m3WgW3l7zp"
      },
      "source": [
        "Shuffling the dataset.\n",
        "Segementation into training and test set (80% - 20%)\n",
        "Normalizing the values"
      ]
    },
    {
      "cell_type": "code",
      "metadata": {
        "id": "hSG4zkugmM0Y"
      },
      "source": [
        "from sklearn.model_selection import train_test_split\n",
        "\n",
        "X = df[['loc','v(g)','ev(g)','iv(g)','b','n']].values\n",
        "\n",
        "y = df['defects'].values\n",
        "\n",
        "\n"
      ],
      "execution_count": 4,
      "outputs": []
    },
    {
      "cell_type": "markdown",
      "metadata": {
        "id": "O3VMk2pJri8R"
      },
      "source": [
        "Feature Scaling"
      ]
    },
    {
      "cell_type": "code",
      "metadata": {
        "id": "4G-KTc-ArmWC"
      },
      "source": [
        "from sklearn.preprocessing import MinMaxScaler\n",
        "scaler = MinMaxScaler(feature_range=[-1,1])\n",
        "X = scaler.fit_transform(X) \n",
        "\n",
        "train_X,test_X,train_Y,test_Y = train_test_split(X, y, test_size=0.2, random_state = 2)\n",
        "\n"
      ],
      "execution_count": 5,
      "outputs": []
    },
    {
      "cell_type": "markdown",
      "metadata": {
        "id": "B2rWS3crnMva"
      },
      "source": [
        "\n",
        "\n",
        "Keras Model Definition"
      ]
    },
    {
      "cell_type": "code",
      "metadata": {
        "id": "Wbso4gW0r_zM"
      },
      "source": [
        "from tensorflow.keras.models import Sequential\n",
        "from tensorflow.keras.layers import Dense,Activation,BatchNormalization\n",
        "from tensorflow.keras.optimizers import SGD\n",
        "from tensorflow.keras.losses import BinaryCrossentropy"
      ],
      "execution_count": 6,
      "outputs": []
    },
    {
      "cell_type": "code",
      "metadata": {
        "id": "4TZgUlkbxblE"
      },
      "source": [
        "model = Sequential([ \n",
        "(Dense(512,activation = 'relu',kernel_initializer='he_uniform',input_shape = (6,))),\n",
        "(BatchNormalization()),\n",
        "(Dense(512,activation = 'relu')),\n",
        "\n",
        "(BatchNormalization()),\n",
        "(Dense(256,activation = 'relu')),\n",
        "(Dense(1,activation = 'sigmoid'))\n",
        "])\n",
        "ad = SGD(learning_rate=0.001, decay=1e-6, momentum=0.9, nesterov=True)\n",
        "\n",
        "model.compile(optimizer = ad, loss='binary_crossentropy',metrics = ['accuracy'])"
      ],
      "execution_count": 7,
      "outputs": []
    },
    {
      "cell_type": "markdown",
      "metadata": {
        "id": "XGMY88g8rQuO"
      },
      "source": [
        "Training"
      ]
    },
    {
      "cell_type": "code",
      "metadata": {
        "id": "88pIatPU85m-",
        "colab": {
          "base_uri": "https://localhost:8080/"
        },
        "outputId": "94493aa6-80f0-4381-d188-08c09613aa8b"
      },
      "source": [
        "model.fit(x = train_X, y = train_Y, batch_size = 64, epochs=50)\n",
        "model.summary()"
      ],
      "execution_count": 8,
      "outputs": [
        {
          "output_type": "stream",
          "name": "stdout",
          "text": [
            "Epoch 1/50\n",
            "137/137 [==============================] - 2s 12ms/step - loss: 0.4821 - accuracy: 0.7985\n",
            "Epoch 2/50\n",
            "137/137 [==============================] - 2s 12ms/step - loss: 0.4498 - accuracy: 0.8129\n",
            "Epoch 3/50\n",
            "137/137 [==============================] - 2s 12ms/step - loss: 0.4463 - accuracy: 0.8137\n",
            "Epoch 4/50\n",
            "137/137 [==============================] - 2s 12ms/step - loss: 0.4444 - accuracy: 0.8117\n",
            "Epoch 5/50\n",
            "137/137 [==============================] - 2s 11ms/step - loss: 0.4448 - accuracy: 0.8129\n",
            "Epoch 6/50\n",
            "137/137 [==============================] - 2s 12ms/step - loss: 0.4430 - accuracy: 0.8138\n",
            "Epoch 7/50\n",
            "137/137 [==============================] - 2s 11ms/step - loss: 0.4407 - accuracy: 0.8153\n",
            "Epoch 8/50\n",
            "137/137 [==============================] - 1s 10ms/step - loss: 0.4409 - accuracy: 0.8152\n",
            "Epoch 9/50\n",
            "137/137 [==============================] - 2s 11ms/step - loss: 0.4403 - accuracy: 0.8163\n",
            "Epoch 10/50\n",
            "137/137 [==============================] - 2s 12ms/step - loss: 0.4387 - accuracy: 0.8180\n",
            "Epoch 11/50\n",
            "137/137 [==============================] - 2s 11ms/step - loss: 0.4405 - accuracy: 0.8155\n",
            "Epoch 12/50\n",
            "137/137 [==============================] - 1s 10ms/step - loss: 0.4428 - accuracy: 0.8152\n",
            "Epoch 13/50\n",
            "137/137 [==============================] - 1s 11ms/step - loss: 0.4386 - accuracy: 0.8194\n",
            "Epoch 14/50\n",
            "137/137 [==============================] - 1s 10ms/step - loss: 0.4415 - accuracy: 0.8164\n",
            "Epoch 15/50\n",
            "137/137 [==============================] - 2s 11ms/step - loss: 0.4397 - accuracy: 0.8166\n",
            "Epoch 16/50\n",
            "137/137 [==============================] - 2s 11ms/step - loss: 0.4380 - accuracy: 0.8183\n",
            "Epoch 17/50\n",
            "137/137 [==============================] - 2s 12ms/step - loss: 0.4381 - accuracy: 0.8167\n",
            "Epoch 18/50\n",
            "137/137 [==============================] - 2s 12ms/step - loss: 0.4406 - accuracy: 0.8150\n",
            "Epoch 19/50\n",
            "137/137 [==============================] - 2s 11ms/step - loss: 0.4398 - accuracy: 0.8164\n",
            "Epoch 20/50\n",
            "137/137 [==============================] - 2s 12ms/step - loss: 0.4375 - accuracy: 0.8197\n",
            "Epoch 21/50\n",
            "137/137 [==============================] - 2s 12ms/step - loss: 0.4359 - accuracy: 0.8168\n",
            "Epoch 22/50\n",
            "137/137 [==============================] - 2s 12ms/step - loss: 0.4389 - accuracy: 0.8174\n",
            "Epoch 23/50\n",
            "137/137 [==============================] - 2s 12ms/step - loss: 0.4359 - accuracy: 0.8189\n",
            "Epoch 24/50\n",
            "137/137 [==============================] - 2s 11ms/step - loss: 0.4362 - accuracy: 0.8184\n",
            "Epoch 25/50\n",
            "137/137 [==============================] - 2s 12ms/step - loss: 0.4350 - accuracy: 0.8174\n",
            "Epoch 26/50\n",
            "137/137 [==============================] - 2s 12ms/step - loss: 0.4354 - accuracy: 0.8166\n",
            "Epoch 27/50\n",
            "137/137 [==============================] - 2s 12ms/step - loss: 0.4357 - accuracy: 0.8192\n",
            "Epoch 28/50\n",
            "137/137 [==============================] - 2s 12ms/step - loss: 0.4366 - accuracy: 0.8176\n",
            "Epoch 29/50\n",
            "137/137 [==============================] - 2s 12ms/step - loss: 0.4376 - accuracy: 0.8186\n",
            "Epoch 30/50\n",
            "137/137 [==============================] - 2s 12ms/step - loss: 0.4351 - accuracy: 0.8197\n",
            "Epoch 31/50\n",
            "137/137 [==============================] - 2s 12ms/step - loss: 0.4341 - accuracy: 0.8188\n",
            "Epoch 32/50\n",
            "137/137 [==============================] - 2s 12ms/step - loss: 0.4356 - accuracy: 0.8174\n",
            "Epoch 33/50\n",
            "137/137 [==============================] - 2s 12ms/step - loss: 0.4349 - accuracy: 0.8197\n",
            "Epoch 34/50\n",
            "137/137 [==============================] - 2s 12ms/step - loss: 0.4352 - accuracy: 0.8199\n",
            "Epoch 35/50\n",
            "137/137 [==============================] - 2s 12ms/step - loss: 0.4342 - accuracy: 0.8205\n",
            "Epoch 36/50\n",
            "137/137 [==============================] - 2s 12ms/step - loss: 0.4333 - accuracy: 0.8199\n",
            "Epoch 37/50\n",
            "137/137 [==============================] - 2s 12ms/step - loss: 0.4323 - accuracy: 0.8219\n",
            "Epoch 38/50\n",
            "137/137 [==============================] - 2s 12ms/step - loss: 0.4333 - accuracy: 0.8191\n",
            "Epoch 39/50\n",
            "137/137 [==============================] - 2s 13ms/step - loss: 0.4336 - accuracy: 0.8187\n",
            "Epoch 40/50\n",
            "137/137 [==============================] - 2s 13ms/step - loss: 0.4318 - accuracy: 0.8196\n",
            "Epoch 41/50\n",
            "137/137 [==============================] - 2s 13ms/step - loss: 0.4324 - accuracy: 0.8184\n",
            "Epoch 42/50\n",
            "137/137 [==============================] - 2s 13ms/step - loss: 0.4342 - accuracy: 0.8210\n",
            "Epoch 43/50\n",
            "137/137 [==============================] - 2s 12ms/step - loss: 0.4317 - accuracy: 0.8207\n",
            "Epoch 44/50\n",
            "137/137 [==============================] - 2s 12ms/step - loss: 0.4306 - accuracy: 0.8227\n",
            "Epoch 45/50\n",
            "137/137 [==============================] - 2s 12ms/step - loss: 0.4323 - accuracy: 0.8201\n",
            "Epoch 46/50\n",
            "137/137 [==============================] - 2s 11ms/step - loss: 0.4313 - accuracy: 0.8202\n",
            "Epoch 47/50\n",
            "137/137 [==============================] - 2s 12ms/step - loss: 0.4316 - accuracy: 0.8191\n",
            "Epoch 48/50\n",
            "137/137 [==============================] - 2s 12ms/step - loss: 0.4296 - accuracy: 0.8218\n",
            "Epoch 49/50\n",
            "137/137 [==============================] - 2s 12ms/step - loss: 0.4328 - accuracy: 0.8201\n",
            "Epoch 50/50\n",
            "137/137 [==============================] - 2s 12ms/step - loss: 0.4309 - accuracy: 0.8223\n",
            "Model: \"sequential\"\n",
            "_________________________________________________________________\n",
            "Layer (type)                 Output Shape              Param #   \n",
            "=================================================================\n",
            "dense (Dense)                (None, 512)               3584      \n",
            "_________________________________________________________________\n",
            "batch_normalization (BatchNo (None, 512)               2048      \n",
            "_________________________________________________________________\n",
            "dense_1 (Dense)              (None, 512)               262656    \n",
            "_________________________________________________________________\n",
            "batch_normalization_1 (Batch (None, 512)               2048      \n",
            "_________________________________________________________________\n",
            "dense_2 (Dense)              (None, 256)               131328    \n",
            "_________________________________________________________________\n",
            "dense_3 (Dense)              (None, 1)                 257       \n",
            "=================================================================\n",
            "Total params: 401,921\n",
            "Trainable params: 399,873\n",
            "Non-trainable params: 2,048\n",
            "_________________________________________________________________\n"
          ]
        }
      ]
    },
    {
      "cell_type": "markdown",
      "metadata": {
        "id": "NWS1YFLVsRnc"
      },
      "source": [
        "Results"
      ]
    },
    {
      "cell_type": "code",
      "metadata": {
        "colab": {
          "base_uri": "https://localhost:8080/",
          "height": 501
        },
        "id": "Dm5SKDPBsTzz",
        "outputId": "a1dbc129-39e8-4d13-f082-21d696622e64"
      },
      "source": [
        "loss_df = pd.DataFrame(model.history.history)\n",
        "loss_df.plot(figsize=(15,8))"
      ],
      "execution_count": 9,
      "outputs": [
        {
          "output_type": "execute_result",
          "data": {
            "text/plain": [
              "<matplotlib.axes._subplots.AxesSubplot at 0x7f088eff7a10>"
            ]
          },
          "metadata": {},
          "execution_count": 9
        },
        {
          "output_type": "display_data",
          "data": {
            "image/png": "[encoded data removed]",
            "text/plain": [
              "<Figure size 1080x576 with 1 Axes>"
            ]
          },
          "metadata": {
            "needs_background": "light"
          }
        }
      ]
    },
    {
      "cell_type": "code",
      "metadata": {
        "colab": {
          "base_uri": "https://localhost:8080/",
          "height": 283
        },
        "id": "XhPBt7l6st0j",
        "outputId": "c6c38473-ae79-4429-98be-035273e75e5c"
      },
      "source": [
        "y_pred = model.predict(test_X)\n",
        "\n",
        "from sklearn import metrics\n",
        "\n",
        "\n",
        "fig = plt.pyplot.plot(figsize=(10,5))\n",
        "plt.pyplot.scatter(test_Y,y_pred)\n",
        "\n",
        "plt.pyplot.plot(test_Y,test_Y,'r')"
      ],
      "execution_count": 10,
      "outputs": [
        {
          "output_type": "execute_result",
          "data": {
            "text/plain": [
              "[<matplotlib.lines.Line2D at 0x7f088ea9f850>]"
            ]
          },
          "metadata": {},
          "execution_count": 10
        },
        {
          "output_type": "display_data",
          "data": {
            "image/png": "[encoded data removed]",
            "text/plain": [
              "<Figure size 432x288 with 1 Axes>"
            ]
          },
          "metadata": {
            "needs_background": "light"
          }
        }
      ]
    },
    {
      "cell_type": "code",
      "metadata": {
        "id": "hH_4V2SByjfh",
        "colab": {
          "base_uri": "https://localhost:8080/"
        },
        "outputId": "b70831ca-46e7-4f52-b10e-7cafca72914b"
      },
      "source": [
        "from sklearn.metrics import accuracy_score\n",
        "from sklearn.metrics import precision_score\n",
        "from sklearn.metrics import recall_score\n",
        "from sklearn.metrics import f1_score\n",
        "\n",
        "\n",
        "\n",
        "y_pred = (y_pred >= 0.65).astype(int).ravel()\n",
        "\n",
        "accuracy = accuracy_score(test_Y, y_pred)\n",
        "print('Accuracy: %f' % accuracy)\n",
        "\n",
        "precision = precision_score(test_Y, y_pred)\n",
        "print('Precision: %f' % precision)\n",
        "\n",
        "recall = recall_score(test_Y, y_pred)\n",
        "print('Recall: %f' % recall)\n",
        "\n",
        "f1 = f1_score(test_Y, y_pred)\n",
        "print('F1 score: %f' % f1)\n",
        "\n"
      ],
      "execution_count": 11,
      "outputs": [
        {
          "output_type": "stream",
          "name": "stdout",
          "text": [
            "Accuracy: 0.811208\n",
            "Precision: 0.694444\n",
            "Recall: 0.058824\n",
            "F1 score: 0.108460\n"
          ]
        }
      ]
    }
  ]
}