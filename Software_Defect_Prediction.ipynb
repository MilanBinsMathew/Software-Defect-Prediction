{
  "nbformat": 4,
  "nbformat_minor": 0,
  "metadata": {
    "colab": {
      "name": "Software-Defect-Prediction",
      "provenance": [],
      "collapsed_sections": [],
      "authorship_tag": "ABX9TyOMVOMCCziXm2hHtAhXTthX"
    },
    "kernelspec": {
      "name": "python3",
      "display_name": "Python 3"
    },
    "language_info": {
      "name": "python"
    }
  },
  "cells": [
    {
      "cell_type": "markdown",
      "metadata": {
        "id": "NEMlVb_5biF0"
      },
      "source": [
        "Importing all nescessary packages."
      ]
    },
    {
      "cell_type": "code",
      "metadata": {
        "id": "zWiqWojS2qJW"
      },
      "source": [
        "import pandas as pd\n",
        "import tensorflow as tp\n",
        "import numpy as np\n",
        "import matplotlib as plt\n",
        "import seaborn as sns\n"
      ],
      "execution_count": 13,
      "outputs": []
    },
    {
      "cell_type": "markdown",
      "metadata": {
        "id": "JdCeRHRAcFkb"
      },
      "source": [
        "Downloading & Printing the dataset"
      ]
    },
    {
      "cell_type": "code",
      "metadata": {
        "id": "4pSiCustcEzK"
      },
      "source": [
        "url = 'https://raw.githubusercontent.com/MilanBinsMathew/Software-Defect-Prediction-JM1/main/jm1_csv.csv'"
      ],
      "execution_count": 2,
      "outputs": []
    },
    {
      "cell_type": "code",
      "metadata": {
        "colab": {
          "base_uri": "https://localhost:8080/"
        },
        "id": "cFKX_vJCd1Bk",
        "outputId": "0125b9bf-bec5-43eb-d2e2-929f39e71259"
      },
      "source": [
        "df = pd.read_csv(url)\n",
        "print(df.head())\n"
      ],
      "execution_count": 3,
      "outputs": [
        {
          "output_type": "stream",
          "name": "stdout",
          "text": [
            "     loc  v(g)  ev(g)  iv(g)  ...  total_Op  total_Opnd  branchCount  defects\n",
            "0    1.1   1.4    1.4    1.4  ...       1.2         1.2          1.4        0\n",
            "1    1.0   1.0    1.0    1.0  ...       1.0         1.0          1.0        1\n",
            "2   72.0   7.0    1.0    6.0  ...     112.0        86.0         13.0        1\n",
            "3  190.0   3.0    1.0    3.0  ...     329.0       271.0          5.0        1\n",
            "4   37.0   4.0    1.0    4.0  ...      76.0        50.0          7.0        1\n",
            "\n",
            "[5 rows x 22 columns]\n"
          ]
        }
      ]
    },
    {
      "cell_type": "markdown",
      "metadata": {
        "id": "d2m3WgW3l7zp"
      },
      "source": [
        "Shuffling the dataset.\n",
        "Segementation into training and test set (80% - 20%)\n",
        "Normalizing the values"
      ]
    },
    {
      "cell_type": "code",
      "metadata": {
        "id": "hSG4zkugmM0Y"
      },
      "source": [
        "df = df.sample(frac = 1)\n",
        "rng = np.random.RandomState()\n",
        "df = df.head(1000)\n",
        "train = df.sample(frac=0.8, random_state=rng)\n",
        "test = df.loc[~df.index.isin(train.index)]\n",
        "\n",
        "train_X = train.drop('defects',axis=1).values \n",
        "train_Y = train['defects'].values\n",
        "\n",
        "\n",
        "test_X = test.drop('defects',axis=1).values\n",
        "test_Y = test['defects'].values\n",
        "\n"
      ],
      "execution_count": 4,
      "outputs": []
    },
    {
      "cell_type": "markdown",
      "metadata": {
        "id": "O3VMk2pJri8R"
      },
      "source": [
        "Feature Scaling"
      ]
    },
    {
      "cell_type": "code",
      "metadata": {
        "id": "4G-KTc-ArmWC"
      },
      "source": [
        "from sklearn.preprocessing import StandardScaler\n",
        "scaler = StandardScaler()\n",
        "train_X = scaler.fit_transform(train_X.astype(np.float)) \n",
        "test_X = scaler.fit_transform(test_X.astype(float)) "
      ],
      "execution_count": 5,
      "outputs": []
    },
    {
      "cell_type": "markdown",
      "metadata": {
        "id": "B2rWS3crnMva"
      },
      "source": [
        "Keras Model Definition"
      ]
    },
    {
      "cell_type": "code",
      "metadata": {
        "id": "Wbso4gW0r_zM"
      },
      "source": [
        "from tensorflow.keras.models import Sequential\n",
        "from tensorflow.keras.layers import Dense,Activation\n",
        "from tensorflow.keras.optimizers import Adam"
      ],
      "execution_count": 6,
      "outputs": []
    },
    {
      "cell_type": "code",
      "metadata": {
        "id": "4TZgUlkbxblE"
      },
      "source": [
        "model = Sequential()\n",
        "model.add(Dense(21,activation = 'relu'))\n",
        "model.add(Dense(42,activation = 'relu'))\n",
        "model.add(Dense(16,activation = 'relu'))\n",
        "model.add(Dense(8,activation = 'relu'))\n",
        "model.add(Dense(4,activation = 'relu'))\n",
        "model.add(Dense(1,activation = 'sigmoid'))\n",
        "\n",
        "model.compile(optimizer = 'Adam', loss='binary_crossentropy')"
      ],
      "execution_count": 7,
      "outputs": []
    },
    {
      "cell_type": "markdown",
      "metadata": {
        "id": "XGMY88g8rQuO"
      },
      "source": [
        "Training"
      ]
    },
    {
      "cell_type": "code",
      "metadata": {
        "id": "88pIatPU85m-",
        "colab": {
          "base_uri": "https://localhost:8080/"
        },
        "outputId": "67e3b1c3-04ee-4eb6-8e31-dc627e8756fb"
      },
      "source": [
        "model.fit(x = train_X, y = train_Y, validation_data =(test_X,test_Y), batch_size = 64, epochs=250)\n",
        "model.summary()"
      ],
      "execution_count": 8,
      "outputs": [
        {
          "output_type": "stream",
          "name": "stdout",
          "text": [
            "Epoch 1/250\n",
            "13/13 [==============================] - 1s 18ms/step - loss: 0.6926 - val_loss: 0.6770\n",
            "Epoch 2/250\n",
            "13/13 [==============================] - 0s 5ms/step - loss: 0.6692 - val_loss: 0.6566\n",
            "Epoch 3/250\n",
            "13/13 [==============================] - 0s 3ms/step - loss: 0.6475 - val_loss: 0.6316\n",
            "Epoch 4/250\n",
            "13/13 [==============================] - 0s 3ms/step - loss: 0.6133 - val_loss: 0.5915\n",
            "Epoch 5/250\n",
            "13/13 [==============================] - 0s 3ms/step - loss: 0.5631 - val_loss: 0.5374\n",
            "Epoch 6/250\n",
            "13/13 [==============================] - 0s 5ms/step - loss: 0.5138 - val_loss: 0.4994\n",
            "Epoch 7/250\n",
            "13/13 [==============================] - 0s 5ms/step - loss: 0.4892 - val_loss: 0.4856\n",
            "Epoch 8/250\n",
            "13/13 [==============================] - 0s 3ms/step - loss: 0.4829 - val_loss: 0.4782\n",
            "Epoch 9/250\n",
            "13/13 [==============================] - 0s 4ms/step - loss: 0.4765 - val_loss: 0.4710\n",
            "Epoch 10/250\n",
            "13/13 [==============================] - 0s 3ms/step - loss: 0.4728 - val_loss: 0.4686\n",
            "Epoch 11/250\n",
            "13/13 [==============================] - 0s 3ms/step - loss: 0.4711 - val_loss: 0.4686\n",
            "Epoch 12/250\n",
            "13/13 [==============================] - 0s 3ms/step - loss: 0.4670 - val_loss: 0.4637\n",
            "Epoch 13/250\n",
            "13/13 [==============================] - 0s 4ms/step - loss: 0.4652 - val_loss: 0.4648\n",
            "Epoch 14/250\n",
            "13/13 [==============================] - 0s 4ms/step - loss: 0.4626 - val_loss: 0.4631\n",
            "Epoch 15/250\n",
            "13/13 [==============================] - 0s 4ms/step - loss: 0.4619 - val_loss: 0.4624\n",
            "Epoch 16/250\n",
            "13/13 [==============================] - 0s 3ms/step - loss: 0.4591 - val_loss: 0.4628\n",
            "Epoch 17/250\n",
            "13/13 [==============================] - 0s 4ms/step - loss: 0.4588 - val_loss: 0.4618\n",
            "Epoch 18/250\n",
            "13/13 [==============================] - 0s 3ms/step - loss: 0.4559 - val_loss: 0.4665\n",
            "Epoch 19/250\n",
            "13/13 [==============================] - 0s 3ms/step - loss: 0.4546 - val_loss: 0.4623\n",
            "Epoch 20/250\n",
            "13/13 [==============================] - 0s 5ms/step - loss: 0.4530 - val_loss: 0.4645\n",
            "Epoch 21/250\n",
            "13/13 [==============================] - 0s 4ms/step - loss: 0.4513 - val_loss: 0.4624\n",
            "Epoch 22/250\n",
            "13/13 [==============================] - 0s 3ms/step - loss: 0.4502 - val_loss: 0.4634\n",
            "Epoch 23/250\n",
            "13/13 [==============================] - 0s 3ms/step - loss: 0.4483 - val_loss: 0.4648\n",
            "Epoch 24/250\n",
            "13/13 [==============================] - 0s 3ms/step - loss: 0.4478 - val_loss: 0.4673\n",
            "Epoch 25/250\n",
            "13/13 [==============================] - 0s 4ms/step - loss: 0.4462 - val_loss: 0.4695\n",
            "Epoch 26/250\n",
            "13/13 [==============================] - 0s 5ms/step - loss: 0.4433 - val_loss: 0.4727\n",
            "Epoch 27/250\n",
            "13/13 [==============================] - 0s 5ms/step - loss: 0.4421 - val_loss: 0.4701\n",
            "Epoch 28/250\n",
            "13/13 [==============================] - 0s 5ms/step - loss: 0.4414 - val_loss: 0.4707\n",
            "Epoch 29/250\n",
            "13/13 [==============================] - 0s 5ms/step - loss: 0.4411 - val_loss: 0.4730\n",
            "Epoch 30/250\n",
            "13/13 [==============================] - 0s 4ms/step - loss: 0.4404 - val_loss: 0.4694\n",
            "Epoch 31/250\n",
            "13/13 [==============================] - 0s 4ms/step - loss: 0.4398 - val_loss: 0.4678\n",
            "Epoch 32/250\n",
            "13/13 [==============================] - 0s 3ms/step - loss: 0.4367 - val_loss: 0.4684\n",
            "Epoch 33/250\n",
            "13/13 [==============================] - 0s 4ms/step - loss: 0.4332 - val_loss: 0.4756\n",
            "Epoch 34/250\n",
            "13/13 [==============================] - 0s 5ms/step - loss: 0.4306 - val_loss: 0.4750\n",
            "Epoch 35/250\n",
            "13/13 [==============================] - 0s 5ms/step - loss: 0.4305 - val_loss: 0.4734\n",
            "Epoch 36/250\n",
            "13/13 [==============================] - 0s 5ms/step - loss: 0.4280 - val_loss: 0.4759\n",
            "Epoch 37/250\n",
            "13/13 [==============================] - 0s 3ms/step - loss: 0.4264 - val_loss: 0.4803\n",
            "Epoch 38/250\n",
            "13/13 [==============================] - 0s 3ms/step - loss: 0.4249 - val_loss: 0.4786\n",
            "Epoch 39/250\n",
            "13/13 [==============================] - 0s 3ms/step - loss: 0.4238 - val_loss: 0.4805\n",
            "Epoch 40/250\n",
            "13/13 [==============================] - 0s 3ms/step - loss: 0.4221 - val_loss: 0.4853\n",
            "Epoch 41/250\n",
            "13/13 [==============================] - 0s 3ms/step - loss: 0.4179 - val_loss: 0.4817\n",
            "Epoch 42/250\n",
            "13/13 [==============================] - 0s 4ms/step - loss: 0.4170 - val_loss: 0.4836\n",
            "Epoch 43/250\n",
            "13/13 [==============================] - 0s 3ms/step - loss: 0.4158 - val_loss: 0.4862\n",
            "Epoch 44/250\n",
            "13/13 [==============================] - 0s 4ms/step - loss: 0.4156 - val_loss: 0.4876\n",
            "Epoch 45/250\n",
            "13/13 [==============================] - 0s 3ms/step - loss: 0.4124 - val_loss: 0.4864\n",
            "Epoch 46/250\n",
            "13/13 [==============================] - 0s 3ms/step - loss: 0.4118 - val_loss: 0.4911\n",
            "Epoch 47/250\n",
            "13/13 [==============================] - 0s 4ms/step - loss: 0.4108 - val_loss: 0.4897\n",
            "Epoch 48/250\n",
            "13/13 [==============================] - 0s 4ms/step - loss: 0.4109 - val_loss: 0.4877\n",
            "Epoch 49/250\n",
            "13/13 [==============================] - 0s 4ms/step - loss: 0.4073 - val_loss: 0.5001\n",
            "Epoch 50/250\n",
            "13/13 [==============================] - 0s 3ms/step - loss: 0.4051 - val_loss: 0.4916\n",
            "Epoch 51/250\n",
            "13/13 [==============================] - 0s 3ms/step - loss: 0.4042 - val_loss: 0.4983\n",
            "Epoch 52/250\n",
            "13/13 [==============================] - 0s 5ms/step - loss: 0.4024 - val_loss: 0.4966\n",
            "Epoch 53/250\n",
            "13/13 [==============================] - 0s 4ms/step - loss: 0.4003 - val_loss: 0.5054\n",
            "Epoch 54/250\n",
            "13/13 [==============================] - 0s 3ms/step - loss: 0.3988 - val_loss: 0.4955\n",
            "Epoch 55/250\n",
            "13/13 [==============================] - 0s 4ms/step - loss: 0.3966 - val_loss: 0.4987\n",
            "Epoch 56/250\n",
            "13/13 [==============================] - 0s 4ms/step - loss: 0.3966 - val_loss: 0.5080\n",
            "Epoch 57/250\n",
            "13/13 [==============================] - 0s 4ms/step - loss: 0.3917 - val_loss: 0.5124\n",
            "Epoch 58/250\n",
            "13/13 [==============================] - 0s 4ms/step - loss: 0.3953 - val_loss: 0.5195\n",
            "Epoch 59/250\n",
            "13/13 [==============================] - 0s 4ms/step - loss: 0.4060 - val_loss: 0.4900\n",
            "Epoch 60/250\n",
            "13/13 [==============================] - 0s 3ms/step - loss: 0.3933 - val_loss: 0.5003\n",
            "Epoch 61/250\n",
            "13/13 [==============================] - 0s 3ms/step - loss: 0.3882 - val_loss: 0.5124\n",
            "Epoch 62/250\n",
            "13/13 [==============================] - 0s 4ms/step - loss: 0.3871 - val_loss: 0.5063\n",
            "Epoch 63/250\n",
            "13/13 [==============================] - 0s 5ms/step - loss: 0.3847 - val_loss: 0.5185\n",
            "Epoch 64/250\n",
            "13/13 [==============================] - 0s 4ms/step - loss: 0.3858 - val_loss: 0.5112\n",
            "Epoch 65/250\n",
            "13/13 [==============================] - 0s 5ms/step - loss: 0.3869 - val_loss: 0.5237\n",
            "Epoch 66/250\n",
            "13/13 [==============================] - 0s 5ms/step - loss: 0.3771 - val_loss: 0.5185\n",
            "Epoch 67/250\n",
            "13/13 [==============================] - 0s 4ms/step - loss: 0.3750 - val_loss: 0.5257\n",
            "Epoch 68/250\n",
            "13/13 [==============================] - 0s 5ms/step - loss: 0.3733 - val_loss: 0.5208\n",
            "Epoch 69/250\n",
            "13/13 [==============================] - 0s 4ms/step - loss: 0.3711 - val_loss: 0.5343\n",
            "Epoch 70/250\n",
            "13/13 [==============================] - 0s 5ms/step - loss: 0.3691 - val_loss: 0.5391\n",
            "Epoch 71/250\n",
            "13/13 [==============================] - 0s 5ms/step - loss: 0.3684 - val_loss: 0.5413\n",
            "Epoch 72/250\n",
            "13/13 [==============================] - 0s 3ms/step - loss: 0.3668 - val_loss: 0.5421\n",
            "Epoch 73/250\n",
            "13/13 [==============================] - 0s 5ms/step - loss: 0.3645 - val_loss: 0.5443\n",
            "Epoch 74/250\n",
            "13/13 [==============================] - 0s 3ms/step - loss: 0.3613 - val_loss: 0.5528\n",
            "Epoch 75/250\n",
            "13/13 [==============================] - 0s 4ms/step - loss: 0.3592 - val_loss: 0.5489\n",
            "Epoch 76/250\n",
            "13/13 [==============================] - 0s 5ms/step - loss: 0.3570 - val_loss: 0.5559\n",
            "Epoch 77/250\n",
            "13/13 [==============================] - 0s 3ms/step - loss: 0.3552 - val_loss: 0.5648\n",
            "Epoch 78/250\n",
            "13/13 [==============================] - 0s 3ms/step - loss: 0.3517 - val_loss: 0.5516\n",
            "Epoch 79/250\n",
            "13/13 [==============================] - 0s 4ms/step - loss: 0.3548 - val_loss: 0.5658\n",
            "Epoch 80/250\n",
            "13/13 [==============================] - 0s 4ms/step - loss: 0.3529 - val_loss: 0.5704\n",
            "Epoch 81/250\n",
            "13/13 [==============================] - 0s 4ms/step - loss: 0.3519 - val_loss: 0.5611\n",
            "Epoch 82/250\n",
            "13/13 [==============================] - 0s 4ms/step - loss: 0.3475 - val_loss: 0.5621\n",
            "Epoch 83/250\n",
            "13/13 [==============================] - 0s 5ms/step - loss: 0.3437 - val_loss: 0.5700\n",
            "Epoch 84/250\n",
            "13/13 [==============================] - 0s 3ms/step - loss: 0.3411 - val_loss: 0.5728\n",
            "Epoch 85/250\n",
            "13/13 [==============================] - 0s 3ms/step - loss: 0.3418 - val_loss: 0.5875\n",
            "Epoch 86/250\n",
            "13/13 [==============================] - 0s 3ms/step - loss: 0.3412 - val_loss: 0.5865\n",
            "Epoch 87/250\n",
            "13/13 [==============================] - 0s 3ms/step - loss: 0.3388 - val_loss: 0.5733\n",
            "Epoch 88/250\n",
            "13/13 [==============================] - 0s 5ms/step - loss: 0.3403 - val_loss: 0.5932\n",
            "Epoch 89/250\n",
            "13/13 [==============================] - 0s 4ms/step - loss: 0.3351 - val_loss: 0.5860\n",
            "Epoch 90/250\n",
            "13/13 [==============================] - 0s 4ms/step - loss: 0.3371 - val_loss: 0.5775\n",
            "Epoch 91/250\n",
            "13/13 [==============================] - 0s 5ms/step - loss: 0.3324 - val_loss: 0.5923\n",
            "Epoch 92/250\n",
            "13/13 [==============================] - 0s 4ms/step - loss: 0.3301 - val_loss: 0.5922\n",
            "Epoch 93/250\n",
            "13/13 [==============================] - 0s 3ms/step - loss: 0.3301 - val_loss: 0.6092\n",
            "Epoch 94/250\n",
            "13/13 [==============================] - 0s 4ms/step - loss: 0.3255 - val_loss: 0.6062\n",
            "Epoch 95/250\n",
            "13/13 [==============================] - 0s 4ms/step - loss: 0.3223 - val_loss: 0.5960\n",
            "Epoch 96/250\n",
            "13/13 [==============================] - 0s 4ms/step - loss: 0.3223 - val_loss: 0.6065\n",
            "Epoch 97/250\n",
            "13/13 [==============================] - 0s 3ms/step - loss: 0.3217 - val_loss: 0.6254\n",
            "Epoch 98/250\n",
            "13/13 [==============================] - 0s 3ms/step - loss: 0.3196 - val_loss: 0.6250\n",
            "Epoch 99/250\n",
            "13/13 [==============================] - 0s 3ms/step - loss: 0.3167 - val_loss: 0.6245\n",
            "Epoch 100/250\n",
            "13/13 [==============================] - 0s 4ms/step - loss: 0.3175 - val_loss: 0.6464\n",
            "Epoch 101/250\n",
            "13/13 [==============================] - 0s 5ms/step - loss: 0.3236 - val_loss: 0.6138\n",
            "Epoch 102/250\n",
            "13/13 [==============================] - 0s 4ms/step - loss: 0.3237 - val_loss: 0.6449\n",
            "Epoch 103/250\n",
            "13/13 [==============================] - 0s 3ms/step - loss: 0.3223 - val_loss: 0.6206\n",
            "Epoch 104/250\n",
            "13/13 [==============================] - 0s 3ms/step - loss: 0.3164 - val_loss: 0.6402\n",
            "Epoch 105/250\n",
            "13/13 [==============================] - 0s 4ms/step - loss: 0.3066 - val_loss: 0.6412\n",
            "Epoch 106/250\n",
            "13/13 [==============================] - 0s 3ms/step - loss: 0.3050 - val_loss: 0.6573\n",
            "Epoch 107/250\n",
            "13/13 [==============================] - 0s 4ms/step - loss: 0.3058 - val_loss: 0.6491\n",
            "Epoch 108/250\n",
            "13/13 [==============================] - 0s 5ms/step - loss: 0.3064 - val_loss: 0.6622\n",
            "Epoch 109/250\n",
            "13/13 [==============================] - 0s 3ms/step - loss: 0.2996 - val_loss: 0.6710\n",
            "Epoch 110/250\n",
            "13/13 [==============================] - 0s 4ms/step - loss: 0.2965 - val_loss: 0.6864\n",
            "Epoch 111/250\n",
            "13/13 [==============================] - 0s 5ms/step - loss: 0.2939 - val_loss: 0.6765\n",
            "Epoch 112/250\n",
            "13/13 [==============================] - 0s 4ms/step - loss: 0.2940 - val_loss: 0.6947\n",
            "Epoch 113/250\n",
            "13/13 [==============================] - 0s 5ms/step - loss: 0.2939 - val_loss: 0.7110\n",
            "Epoch 114/250\n",
            "13/13 [==============================] - 0s 5ms/step - loss: 0.2953 - val_loss: 0.7026\n",
            "Epoch 115/250\n",
            "13/13 [==============================] - 0s 3ms/step - loss: 0.2903 - val_loss: 0.7301\n",
            "Epoch 116/250\n",
            "13/13 [==============================] - 0s 4ms/step - loss: 0.2872 - val_loss: 0.7261\n",
            "Epoch 117/250\n",
            "13/13 [==============================] - 0s 4ms/step - loss: 0.2859 - val_loss: 0.7399\n",
            "Epoch 118/250\n",
            "13/13 [==============================] - 0s 4ms/step - loss: 0.2847 - val_loss: 0.7067\n",
            "Epoch 119/250\n",
            "13/13 [==============================] - 0s 5ms/step - loss: 0.2822 - val_loss: 0.7595\n",
            "Epoch 120/250\n",
            "13/13 [==============================] - 0s 4ms/step - loss: 0.2840 - val_loss: 0.7348\n",
            "Epoch 121/250\n",
            "13/13 [==============================] - 0s 3ms/step - loss: 0.2800 - val_loss: 0.7520\n",
            "Epoch 122/250\n",
            "13/13 [==============================] - 0s 3ms/step - loss: 0.2794 - val_loss: 0.7473\n",
            "Epoch 123/250\n",
            "13/13 [==============================] - 0s 4ms/step - loss: 0.2819 - val_loss: 0.7650\n",
            "Epoch 124/250\n",
            "13/13 [==============================] - 0s 5ms/step - loss: 0.2789 - val_loss: 0.7342\n",
            "Epoch 125/250\n",
            "13/13 [==============================] - 0s 5ms/step - loss: 0.2820 - val_loss: 0.7805\n",
            "Epoch 126/250\n",
            "13/13 [==============================] - 0s 3ms/step - loss: 0.2819 - val_loss: 0.8104\n",
            "Epoch 127/250\n",
            "13/13 [==============================] - 0s 4ms/step - loss: 0.2780 - val_loss: 0.7526\n",
            "Epoch 128/250\n",
            "13/13 [==============================] - 0s 5ms/step - loss: 0.2714 - val_loss: 0.7970\n",
            "Epoch 129/250\n",
            "13/13 [==============================] - 0s 4ms/step - loss: 0.2704 - val_loss: 0.8108\n",
            "Epoch 130/250\n",
            "13/13 [==============================] - 0s 3ms/step - loss: 0.2673 - val_loss: 0.8146\n",
            "Epoch 131/250\n",
            "13/13 [==============================] - 0s 4ms/step - loss: 0.2687 - val_loss: 0.7951\n",
            "Epoch 132/250\n",
            "13/13 [==============================] - 0s 4ms/step - loss: 0.2662 - val_loss: 0.8298\n",
            "Epoch 133/250\n",
            "13/13 [==============================] - 0s 3ms/step - loss: 0.2653 - val_loss: 0.8146\n",
            "Epoch 134/250\n",
            "13/13 [==============================] - 0s 4ms/step - loss: 0.2636 - val_loss: 0.8017\n",
            "Epoch 135/250\n",
            "13/13 [==============================] - 0s 3ms/step - loss: 0.2661 - val_loss: 0.8536\n",
            "Epoch 136/250\n",
            "13/13 [==============================] - 0s 4ms/step - loss: 0.2602 - val_loss: 0.8143\n",
            "Epoch 137/250\n",
            "13/13 [==============================] - 0s 4ms/step - loss: 0.2604 - val_loss: 0.8544\n",
            "Epoch 138/250\n",
            "13/13 [==============================] - 0s 4ms/step - loss: 0.2578 - val_loss: 0.8529\n",
            "Epoch 139/250\n",
            "13/13 [==============================] - 0s 5ms/step - loss: 0.2668 - val_loss: 0.8705\n",
            "Epoch 140/250\n",
            "13/13 [==============================] - 0s 4ms/step - loss: 0.2610 - val_loss: 0.8232\n",
            "Epoch 141/250\n",
            "13/13 [==============================] - 0s 3ms/step - loss: 0.2537 - val_loss: 0.8771\n",
            "Epoch 142/250\n",
            "13/13 [==============================] - 0s 5ms/step - loss: 0.2572 - val_loss: 0.8639\n",
            "Epoch 143/250\n",
            "13/13 [==============================] - 0s 4ms/step - loss: 0.2563 - val_loss: 0.8653\n",
            "Epoch 144/250\n",
            "13/13 [==============================] - 0s 4ms/step - loss: 0.2525 - val_loss: 0.8660\n",
            "Epoch 145/250\n",
            "13/13 [==============================] - 0s 4ms/step - loss: 0.2549 - val_loss: 0.8580\n",
            "Epoch 146/250\n",
            "13/13 [==============================] - 0s 3ms/step - loss: 0.2517 - val_loss: 0.8916\n",
            "Epoch 147/250\n",
            "13/13 [==============================] - 0s 3ms/step - loss: 0.2490 - val_loss: 0.8950\n",
            "Epoch 148/250\n",
            "13/13 [==============================] - 0s 3ms/step - loss: 0.2478 - val_loss: 0.8911\n",
            "Epoch 149/250\n",
            "13/13 [==============================] - 0s 4ms/step - loss: 0.2458 - val_loss: 0.8929\n",
            "Epoch 150/250\n",
            "13/13 [==============================] - 0s 4ms/step - loss: 0.2453 - val_loss: 0.9123\n",
            "Epoch 151/250\n",
            "13/13 [==============================] - 0s 4ms/step - loss: 0.2492 - val_loss: 0.9195\n",
            "Epoch 152/250\n",
            "13/13 [==============================] - 0s 4ms/step - loss: 0.2458 - val_loss: 0.9303\n",
            "Epoch 153/250\n",
            "13/13 [==============================] - 0s 4ms/step - loss: 0.2446 - val_loss: 0.9209\n",
            "Epoch 154/250\n",
            "13/13 [==============================] - 0s 4ms/step - loss: 0.2428 - val_loss: 0.9482\n",
            "Epoch 155/250\n",
            "13/13 [==============================] - 0s 4ms/step - loss: 0.2460 - val_loss: 0.9372\n",
            "Epoch 156/250\n",
            "13/13 [==============================] - 0s 3ms/step - loss: 0.2431 - val_loss: 0.9492\n",
            "Epoch 157/250\n",
            "13/13 [==============================] - 0s 4ms/step - loss: 0.2403 - val_loss: 0.9473\n",
            "Epoch 158/250\n",
            "13/13 [==============================] - 0s 4ms/step - loss: 0.2476 - val_loss: 0.9572\n",
            "Epoch 159/250\n",
            "13/13 [==============================] - 0s 4ms/step - loss: 0.2432 - val_loss: 0.9690\n",
            "Epoch 160/250\n",
            "13/13 [==============================] - 0s 4ms/step - loss: 0.2386 - val_loss: 0.9555\n",
            "Epoch 161/250\n",
            "13/13 [==============================] - 0s 4ms/step - loss: 0.2356 - val_loss: 0.9847\n",
            "Epoch 162/250\n",
            "13/13 [==============================] - 0s 4ms/step - loss: 0.2366 - val_loss: 0.9774\n",
            "Epoch 163/250\n",
            "13/13 [==============================] - 0s 3ms/step - loss: 0.2373 - val_loss: 0.9756\n",
            "Epoch 164/250\n",
            "13/13 [==============================] - 0s 3ms/step - loss: 0.2359 - val_loss: 1.0193\n",
            "Epoch 165/250\n",
            "13/13 [==============================] - 0s 4ms/step - loss: 0.2349 - val_loss: 0.9437\n",
            "Epoch 166/250\n",
            "13/13 [==============================] - 0s 3ms/step - loss: 0.2355 - val_loss: 0.9894\n",
            "Epoch 167/250\n",
            "13/13 [==============================] - 0s 4ms/step - loss: 0.2337 - val_loss: 0.9820\n",
            "Epoch 168/250\n",
            "13/13 [==============================] - 0s 4ms/step - loss: 0.2327 - val_loss: 1.0173\n",
            "Epoch 169/250\n",
            "13/13 [==============================] - 0s 4ms/step - loss: 0.2298 - val_loss: 1.0071\n",
            "Epoch 170/250\n",
            "13/13 [==============================] - 0s 4ms/step - loss: 0.2317 - val_loss: 1.0375\n",
            "Epoch 171/250\n",
            "13/13 [==============================] - 0s 4ms/step - loss: 0.2317 - val_loss: 1.0354\n",
            "Epoch 172/250\n",
            "13/13 [==============================] - 0s 4ms/step - loss: 0.2302 - val_loss: 1.0378\n",
            "Epoch 173/250\n",
            "13/13 [==============================] - 0s 6ms/step - loss: 0.2304 - val_loss: 1.0331\n",
            "Epoch 174/250\n",
            "13/13 [==============================] - 0s 4ms/step - loss: 0.2273 - val_loss: 1.0360\n",
            "Epoch 175/250\n",
            "13/13 [==============================] - 0s 4ms/step - loss: 0.2280 - val_loss: 1.0547\n",
            "Epoch 176/250\n",
            "13/13 [==============================] - 0s 5ms/step - loss: 0.2282 - val_loss: 1.0604\n",
            "Epoch 177/250\n",
            "13/13 [==============================] - 0s 4ms/step - loss: 0.2284 - val_loss: 1.0212\n",
            "Epoch 178/250\n",
            "13/13 [==============================] - 0s 5ms/step - loss: 0.2289 - val_loss: 1.0659\n",
            "Epoch 179/250\n",
            "13/13 [==============================] - 0s 4ms/step - loss: 0.2291 - val_loss: 1.0764\n",
            "Epoch 180/250\n",
            "13/13 [==============================] - 0s 4ms/step - loss: 0.2304 - val_loss: 1.0777\n",
            "Epoch 181/250\n",
            "13/13 [==============================] - 0s 4ms/step - loss: 0.2271 - val_loss: 1.0346\n",
            "Epoch 182/250\n",
            "13/13 [==============================] - 0s 4ms/step - loss: 0.2254 - val_loss: 1.0759\n",
            "Epoch 183/250\n",
            "13/13 [==============================] - 0s 3ms/step - loss: 0.2302 - val_loss: 1.0878\n",
            "Epoch 184/250\n",
            "13/13 [==============================] - 0s 4ms/step - loss: 0.2272 - val_loss: 1.0437\n",
            "Epoch 185/250\n",
            "13/13 [==============================] - 0s 4ms/step - loss: 0.2259 - val_loss: 1.0790\n",
            "Epoch 186/250\n",
            "13/13 [==============================] - 0s 5ms/step - loss: 0.2307 - val_loss: 1.1112\n",
            "Epoch 187/250\n",
            "13/13 [==============================] - 0s 3ms/step - loss: 0.2307 - val_loss: 1.0727\n",
            "Epoch 188/250\n",
            "13/13 [==============================] - 0s 3ms/step - loss: 0.2210 - val_loss: 1.1091\n",
            "Epoch 189/250\n",
            "13/13 [==============================] - 0s 3ms/step - loss: 0.2217 - val_loss: 1.1135\n",
            "Epoch 190/250\n",
            "13/13 [==============================] - 0s 5ms/step - loss: 0.2213 - val_loss: 1.1017\n",
            "Epoch 191/250\n",
            "13/13 [==============================] - 0s 4ms/step - loss: 0.2197 - val_loss: 1.0960\n",
            "Epoch 192/250\n",
            "13/13 [==============================] - 0s 4ms/step - loss: 0.2168 - val_loss: 1.0992\n",
            "Epoch 193/250\n",
            "13/13 [==============================] - 0s 4ms/step - loss: 0.2178 - val_loss: 1.1422\n",
            "Epoch 194/250\n",
            "13/13 [==============================] - 0s 4ms/step - loss: 0.2222 - val_loss: 1.1091\n",
            "Epoch 195/250\n",
            "13/13 [==============================] - 0s 4ms/step - loss: 0.2182 - val_loss: 1.0994\n",
            "Epoch 196/250\n",
            "13/13 [==============================] - 0s 4ms/step - loss: 0.2189 - val_loss: 1.1732\n",
            "Epoch 197/250\n",
            "13/13 [==============================] - 0s 4ms/step - loss: 0.2191 - val_loss: 1.1301\n",
            "Epoch 198/250\n",
            "13/13 [==============================] - 0s 4ms/step - loss: 0.2156 - val_loss: 1.1226\n",
            "Epoch 199/250\n",
            "13/13 [==============================] - 0s 5ms/step - loss: 0.2136 - val_loss: 1.1351\n",
            "Epoch 200/250\n",
            "13/13 [==============================] - 0s 4ms/step - loss: 0.2113 - val_loss: 1.1416\n",
            "Epoch 201/250\n",
            "13/13 [==============================] - 0s 3ms/step - loss: 0.2152 - val_loss: 1.1456\n",
            "Epoch 202/250\n",
            "13/13 [==============================] - 0s 3ms/step - loss: 0.2136 - val_loss: 1.1661\n",
            "Epoch 203/250\n",
            "13/13 [==============================] - 0s 3ms/step - loss: 0.2107 - val_loss: 1.1505\n",
            "Epoch 204/250\n",
            "13/13 [==============================] - 0s 4ms/step - loss: 0.2138 - val_loss: 1.1946\n",
            "Epoch 205/250\n",
            "13/13 [==============================] - 0s 4ms/step - loss: 0.2184 - val_loss: 1.1653\n",
            "Epoch 206/250\n",
            "13/13 [==============================] - 0s 3ms/step - loss: 0.2098 - val_loss: 1.1691\n",
            "Epoch 207/250\n",
            "13/13 [==============================] - 0s 4ms/step - loss: 0.2117 - val_loss: 1.1828\n",
            "Epoch 208/250\n",
            "13/13 [==============================] - 0s 3ms/step - loss: 0.2223 - val_loss: 1.1875\n",
            "Epoch 209/250\n",
            "13/13 [==============================] - 0s 4ms/step - loss: 0.2589 - val_loss: 1.0184\n",
            "Epoch 210/250\n",
            "13/13 [==============================] - 0s 4ms/step - loss: 0.2583 - val_loss: 1.0917\n",
            "Epoch 211/250\n",
            "13/13 [==============================] - 0s 4ms/step - loss: 0.2317 - val_loss: 1.0727\n",
            "Epoch 212/250\n",
            "13/13 [==============================] - 0s 3ms/step - loss: 0.2260 - val_loss: 1.0835\n",
            "Epoch 213/250\n",
            "13/13 [==============================] - 0s 3ms/step - loss: 0.2175 - val_loss: 1.0882\n",
            "Epoch 214/250\n",
            "13/13 [==============================] - 0s 4ms/step - loss: 0.2131 - val_loss: 1.1014\n",
            "Epoch 215/250\n",
            "13/13 [==============================] - 0s 4ms/step - loss: 0.2099 - val_loss: 1.1266\n",
            "Epoch 216/250\n",
            "13/13 [==============================] - 0s 4ms/step - loss: 0.2104 - val_loss: 1.1248\n",
            "Epoch 217/250\n",
            "13/13 [==============================] - 0s 5ms/step - loss: 0.2089 - val_loss: 1.1175\n",
            "Epoch 218/250\n",
            "13/13 [==============================] - 0s 4ms/step - loss: 0.2076 - val_loss: 1.1291\n",
            "Epoch 219/250\n",
            "13/13 [==============================] - 0s 3ms/step - loss: 0.2032 - val_loss: 1.1379\n",
            "Epoch 220/250\n",
            "13/13 [==============================] - 0s 3ms/step - loss: 0.2060 - val_loss: 1.1591\n",
            "Epoch 221/250\n",
            "13/13 [==============================] - 0s 4ms/step - loss: 0.2112 - val_loss: 1.1374\n",
            "Epoch 222/250\n",
            "13/13 [==============================] - 0s 5ms/step - loss: 0.2065 - val_loss: 1.1414\n",
            "Epoch 223/250\n",
            "13/13 [==============================] - 0s 4ms/step - loss: 0.2022 - val_loss: 1.1737\n",
            "Epoch 224/250\n",
            "13/13 [==============================] - 0s 4ms/step - loss: 0.2019 - val_loss: 1.1629\n",
            "Epoch 225/250\n",
            "13/13 [==============================] - 0s 4ms/step - loss: 0.2013 - val_loss: 1.1566\n",
            "Epoch 226/250\n",
            "13/13 [==============================] - 0s 4ms/step - loss: 0.2007 - val_loss: 1.1650\n",
            "Epoch 227/250\n",
            "13/13 [==============================] - 0s 3ms/step - loss: 0.1990 - val_loss: 1.1860\n",
            "Epoch 228/250\n",
            "13/13 [==============================] - 0s 4ms/step - loss: 0.2011 - val_loss: 1.1692\n",
            "Epoch 229/250\n",
            "13/13 [==============================] - 0s 3ms/step - loss: 0.1981 - val_loss: 1.2048\n",
            "Epoch 230/250\n",
            "13/13 [==============================] - 0s 3ms/step - loss: 0.2065 - val_loss: 1.1781\n",
            "Epoch 231/250\n",
            "13/13 [==============================] - 0s 4ms/step - loss: 0.1983 - val_loss: 1.1973\n",
            "Epoch 232/250\n",
            "13/13 [==============================] - 0s 4ms/step - loss: 0.1990 - val_loss: 1.1905\n",
            "Epoch 233/250\n",
            "13/13 [==============================] - 0s 4ms/step - loss: 0.1970 - val_loss: 1.2035\n",
            "Epoch 234/250\n",
            "13/13 [==============================] - 0s 4ms/step - loss: 0.2036 - val_loss: 1.2156\n",
            "Epoch 235/250\n",
            "13/13 [==============================] - 0s 4ms/step - loss: 0.2039 - val_loss: 1.2033\n",
            "Epoch 236/250\n",
            "13/13 [==============================] - 0s 4ms/step - loss: 0.1950 - val_loss: 1.2148\n",
            "Epoch 237/250\n",
            "13/13 [==============================] - 0s 4ms/step - loss: 0.1933 - val_loss: 1.2304\n",
            "Epoch 238/250\n",
            "13/13 [==============================] - 0s 4ms/step - loss: 0.1918 - val_loss: 1.2138\n",
            "Epoch 239/250\n",
            "13/13 [==============================] - 0s 4ms/step - loss: 0.1950 - val_loss: 1.2366\n",
            "Epoch 240/250\n",
            "13/13 [==============================] - 0s 3ms/step - loss: 0.1939 - val_loss: 1.2484\n",
            "Epoch 241/250\n",
            "13/13 [==============================] - 0s 4ms/step - loss: 0.1968 - val_loss: 1.2485\n",
            "Epoch 242/250\n",
            "13/13 [==============================] - 0s 3ms/step - loss: 0.1968 - val_loss: 1.2524\n",
            "Epoch 243/250\n",
            "13/13 [==============================] - 0s 4ms/step - loss: 0.1938 - val_loss: 1.2411\n",
            "Epoch 244/250\n",
            "13/13 [==============================] - 0s 4ms/step - loss: 0.1912 - val_loss: 1.2409\n",
            "Epoch 245/250\n",
            "13/13 [==============================] - 0s 4ms/step - loss: 0.1915 - val_loss: 1.2758\n",
            "Epoch 246/250\n",
            "13/13 [==============================] - 0s 7ms/step - loss: 0.1932 - val_loss: 1.2373\n",
            "Epoch 247/250\n",
            "13/13 [==============================] - 0s 4ms/step - loss: 0.1979 - val_loss: 1.2749\n",
            "Epoch 248/250\n",
            "13/13 [==============================] - 0s 3ms/step - loss: 0.1977 - val_loss: 1.2642\n",
            "Epoch 249/250\n",
            "13/13 [==============================] - 0s 4ms/step - loss: 0.1976 - val_loss: 1.2505\n",
            "Epoch 250/250\n",
            "13/13 [==============================] - 0s 4ms/step - loss: 0.1931 - val_loss: 1.2731\n",
            "Model: \"sequential\"\n",
            "_________________________________________________________________\n",
            "Layer (type)                 Output Shape              Param #   \n",
            "=================================================================\n",
            "dense (Dense)                (None, 21)                462       \n",
            "_________________________________________________________________\n",
            "dense_1 (Dense)              (None, 42)                924       \n",
            "_________________________________________________________________\n",
            "dense_2 (Dense)              (None, 16)                688       \n",
            "_________________________________________________________________\n",
            "dense_3 (Dense)              (None, 8)                 136       \n",
            "_________________________________________________________________\n",
            "dense_4 (Dense)              (None, 4)                 36        \n",
            "_________________________________________________________________\n",
            "dense_5 (Dense)              (None, 1)                 5         \n",
            "=================================================================\n",
            "Total params: 2,251\n",
            "Trainable params: 2,251\n",
            "Non-trainable params: 0\n",
            "_________________________________________________________________\n"
          ]
        }
      ]
    },
    {
      "cell_type": "markdown",
      "metadata": {
        "id": "NWS1YFLVsRnc"
      },
      "source": [
        "Results"
      ]
    },
    {
      "cell_type": "code",
      "metadata": {
        "colab": {
          "base_uri": "https://localhost:8080/",
          "height": 501
        },
        "id": "Dm5SKDPBsTzz",
        "outputId": "a7eed9e1-6da1-4d18-98ad-81c82949abc4"
      },
      "source": [
        "loss_df = pd.DataFrame(model.history.history)\n",
        "loss_df.plot(figsize=(15,8))"
      ],
      "execution_count": 9,
      "outputs": [
        {
          "output_type": "execute_result",
          "data": {
            "text/plain": [
              "<matplotlib.axes._subplots.AxesSubplot at 0x7fd8b92bcb50>"
            ]
          },
          "metadata": {},
          "execution_count": 9
        },
        {
          "output_type": "display_data",
          "data": {
            "image/png": "[encoded data removed]",
            "text/plain": [
              "<Figure size 1080x576 with 1 Axes>"
            ]
          },
          "metadata": {
            "needs_background": "light"
          }
        }
      ]
    },
    {
      "cell_type": "code",
      "metadata": {
        "colab": {
          "base_uri": "https://localhost:8080/",
          "height": 357
        },
        "id": "XhPBt7l6st0j",
        "outputId": "5b0be887-b409-4348-adbb-1e4a1b0ebe42"
      },
      "source": [
        "y_pred = model.predict(test_X)\n",
        "\n",
        "from sklearn import metrics\n",
        "\n",
        "print('MAE:', metrics.mean_absolute_error(test_Y, y_pred))  \n",
        "print('MSE:', metrics.mean_squared_error(test_Y, y_pred))  \n",
        "print('RMSE:', np.sqrt(metrics.mean_squared_error(test_Y, y_pred)))\n",
        "\n",
        "print('VarScore:',metrics.explained_variance_score(test_Y,y_pred))\n",
        "\n",
        "fig = plt.pyplot.plot(figsize=(10,5))\n",
        "plt.pyplot.scatter(test_Y,y_pred)\n",
        "\n",
        "plt.pyplot.plot(test_Y,test_Y,'r')"
      ],
      "execution_count": 10,
      "outputs": [
        {
          "output_type": "stream",
          "name": "stdout",
          "text": [
            "MAE: 0.23311883619240079\n",
            "MSE: 0.17955462673350087\n",
            "RMSE: 0.4237388662059463\n",
            "VarScore: -0.13732672188783668\n"
          ]
        },
        {
          "output_type": "execute_result",
          "data": {
            "text/plain": [
              "[<matplotlib.lines.Line2D at 0x7fd8b91ebc90>]"
            ]
          },
          "metadata": {},
          "execution_count": 10
        },
        {
          "output_type": "display_data",
          "data": {
            "image/png": "[encoded data removed]",
            "text/plain": [
              "<Figure size 432x288 with 1 Axes>"
            ]
          },
          "metadata": {
            "needs_background": "light"
          }
        }
      ]
    },
    {
      "cell_type": "code",
      "metadata": {
        "colab": {
          "base_uri": "https://localhost:8080/",
          "height": 344
        },
        "id": "50D95i81u7JS",
        "outputId": "09b6677d-bd30-4a52-ba69-8ddbd7d78c96"
      },
      "source": [
        "fig  = plt.pyplot.plot(figsize=(12,5))\n",
        "residuals = (test_Y-y_pred)\n",
        "sns.distplot(residuals)"
      ],
      "execution_count": 14,
      "outputs": [
        {
          "output_type": "stream",
          "name": "stderr",
          "text": [
            "/usr/local/lib/python3.7/dist-packages/seaborn/distributions.py:2557: FutureWarning: `distplot` is a deprecated function and will be removed in a future version. Please adapt your code to use either `displot` (a figure-level function with similar flexibility) or `histplot` (an axes-level function for histograms).\n",
            "  warnings.warn(msg, FutureWarning)\n"
          ]
        },
        {
          "output_type": "execute_result",
          "data": {
            "text/plain": [
              "<matplotlib.axes._subplots.AxesSubplot at 0x7fd8b7ab6290>"
            ]
          },
          "metadata": {},
          "execution_count": 14
        },
        {
          "output_type": "display_data",
          "data": {
            "image/png": "[encoded data removed]",
            "text/plain": [
              "<Figure size 432x288 with 1 Axes>"
            ]
          },
          "metadata": {
            "needs_background": "light"
          }
        }
      ]
    }
  ]
}