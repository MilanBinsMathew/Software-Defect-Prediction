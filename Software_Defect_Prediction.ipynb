{
  "nbformat": 4,
  "nbformat_minor": 0,
  "metadata": {
    "colab": {
      "name": "Software-Defect-Prediction",
      "provenance": [],
      "collapsed_sections": [],
      "authorship_tag": "ABX9TyOE0FGOUKev4wvgS9EZK5gx"
    },
    "kernelspec": {
      "name": "python3",
      "display_name": "Python 3"
    },
    "language_info": {
      "name": "python"
    }
  },
  "cells": [
    {
      "cell_type": "markdown",
      "metadata": {
        "id": "NEMlVb_5biF0"
      },
      "source": [
        "Importing all nescessary packages."
      ]
    },
    {
      "cell_type": "code",
      "metadata": {
        "id": "zWiqWojS2qJW"
      },
      "source": [
        "import pandas as pd\n",
        "import tensorflow as tf\n",
        "tf.compat.v1.disable_eager_execution()\n",
        "from google.colab import files\n",
        "import io\n",
        "import math\n",
        "import numpy as np\n",
        "import matplotlib.pyplot as plt\n",
        "from tensorflow.python.framework import ops\n",
        "\n",
        "%matplotlib inline\n",
        "np.random.seed(1)"
      ],
      "execution_count": 1,
      "outputs": []
    },
    {
      "cell_type": "markdown",
      "metadata": {
        "id": "JdCeRHRAcFkb"
      },
      "source": [
        "Downloading & Printing the dataset"
      ]
    },
    {
      "cell_type": "code",
      "metadata": {
        "id": "4pSiCustcEzK"
      },
      "source": [
        "url = 'https://raw.githubusercontent.com/MilanBinsMathew/Software-Defect-Prediction-JM1/main/jm1_csv.csv'"
      ],
      "execution_count": 2,
      "outputs": []
    },
    {
      "cell_type": "code",
      "metadata": {
        "colab": {
          "base_uri": "https://localhost:8080/"
        },
        "id": "cFKX_vJCd1Bk",
        "outputId": "196da028-1ba8-4c19-8e4b-fa6714b201a9"
      },
      "source": [
        "df = pd.read_csv(url)\n",
        "print(df)\n"
      ],
      "execution_count": 3,
      "outputs": [
        {
          "output_type": "stream",
          "text": [
            "         loc  v(g)  ev(g)  iv(g)  ...  total_Op  total_Opnd  branchCount  defects\n",
            "0        1.1   1.4    1.4    1.4  ...       1.2         1.2          1.4        0\n",
            "1        1.0   1.0    1.0    1.0  ...       1.0         1.0          1.0        1\n",
            "2       72.0   7.0    1.0    6.0  ...     112.0        86.0         13.0        1\n",
            "3      190.0   3.0    1.0    3.0  ...     329.0       271.0          5.0        1\n",
            "4       37.0   4.0    1.0    4.0  ...      76.0        50.0          7.0        1\n",
            "...      ...   ...    ...    ...  ...       ...         ...          ...      ...\n",
            "10880   18.0   4.0    1.0    4.0  ...      30.0        22.0          7.0        0\n",
            "10881    9.0   2.0    1.0    2.0  ...      19.0        11.0          3.0        0\n",
            "10882   42.0   4.0    1.0    2.0  ...      59.0        44.0          7.0        0\n",
            "10883   10.0   1.0    1.0    1.0  ...      21.0        15.0          1.0        0\n",
            "10884   19.0   3.0    1.0    1.0  ...      31.0        27.0          5.0        0\n",
            "\n",
            "[10885 rows x 22 columns]\n"
          ],
          "name": "stdout"
        }
      ]
    },
    {
      "cell_type": "markdown",
      "metadata": {
        "id": "d2m3WgW3l7zp"
      },
      "source": [
        "Shuffle the dataset and segmenting it"
      ]
    },
    {
      "cell_type": "code",
      "metadata": {
        "id": "hSG4zkugmM0Y"
      },
      "source": [
        "df = df.sample(frac = 1)\n",
        "rng = np.random.RandomState()\n",
        "df = df.head(1000)\n",
        "train = df.sample(frac=0.8, random_state=rng)\n",
        "test = df.loc[~df.index.isin(train.index)]\n",
        "\n",
        "train_X = train.copy()\n",
        "train_Y = train_X.pop('defects')\n",
        "\n",
        "test_X = test.copy()\n",
        "test_Y = test_X.pop('defects')\n",
        "train_Y = pd.Series.to_frame(train_Y)\n",
        "train_Y = train_Y.T\n",
        "test_Y = pd.Series.to_frame(test_Y)\n",
        "test_Y = test_Y.T\n",
        "train_X = train_X.T\n",
        "test_X = test_X.T\n",
        "\n",
        "\n"
      ],
      "execution_count": 12,
      "outputs": []
    },
    {
      "cell_type": "markdown",
      "metadata": {
        "id": "IkBX-aeSlj-3"
      },
      "source": [
        "Cost Function"
      ]
    },
    {
      "cell_type": "code",
      "metadata": {
        "id": "qOTxKiTzll7-"
      },
      "source": [
        "\n",
        "def cost(logits, labels):\n",
        "\n",
        "    z = tf.compat.v1.placeholder(tf.float32, name=\"z\")\n",
        "    y = tf.compat.v1.placeholder(tf.float32, name=\"y\")\n",
        "    \n",
        "    cost = tf.nn.sigmoid_cross_entropy_with_logits(logits=z, labels=y)\n",
        "    \n",
        "   \n",
        "    sess = tf.compat.v1.Session()\n",
        "\n",
        "    cost = sess.run(cost, feed_dict={z: logits, y: labels})\n",
        "   \n",
        "    sess.close()\n",
        "    \n",
        "    return cost"
      ],
      "execution_count": 5,
      "outputs": []
    },
    {
      "cell_type": "markdown",
      "metadata": {
        "id": "O3VMk2pJri8R"
      },
      "source": [
        "Creating Place Holders for X and Y"
      ]
    },
    {
      "cell_type": "code",
      "metadata": {
        "id": "4G-KTc-ArmWC"
      },
      "source": [
        "def create_placeholders(n_x, n_y):\n",
        "  X = tf.compat.v1.placeholder(tf.float32, [n_x, None], name = \"X\")\n",
        "  Y = tf.compat.v1.placeholder(tf.float32, [n_y, None], name = \"Y\")\n",
        "  return X,Y"
      ],
      "execution_count": 6,
      "outputs": []
    },
    {
      "cell_type": "markdown",
      "metadata": {
        "id": "B2rWS3crnMva"
      },
      "source": [
        "Initialize Parameters"
      ]
    },
    {
      "cell_type": "code",
      "metadata": {
        "id": "Wbso4gW0r_zM"
      },
      "source": [
        "def initialize_parameters():\n",
        "  tf.random.set_seed(1)\n",
        "  initializer = tf.keras.initializers.GlorotUniform()\n",
        "\n",
        "  W1= tf.Variable(tf.initializers.GlorotUniform()(shape=(16,21)))\n",
        "  b1 = tf.Variable(tf.zeros_initializer()(shape=(16,1)))\n",
        "  W2= tf.Variable(tf.initializers.GlorotUniform()(shape=(8,16)))\n",
        "  b2 = tf.Variable(tf.zeros_initializer()(shape=(8,1)))\n",
        "  W3= tf.Variable(tf.initializers.GlorotUniform()(shape=(4,8)))\n",
        "  b3 = tf.Variable(tf.zeros_initializer()(shape=(4,1)))\n",
        "  W4= tf.Variable(tf.initializers.GlorotUniform()(shape=(1,4)))\n",
        "  b4 = tf.Variable(tf.zeros_initializer()(shape=(1,1)))\n",
        "\n",
        "  parameters = {\"W1\": W1,\n",
        "                \"b1\": b1,\n",
        "                \"W2\": W2,\n",
        "                \"b2\": b2,\n",
        "                \"W3\": W3,\n",
        "                \"b3\": b3,\n",
        "                \"W4\": W4,\n",
        "                \"b4\": b4}\n",
        "  return parameters"
      ],
      "execution_count": 7,
      "outputs": []
    },
    {
      "cell_type": "markdown",
      "metadata": {
        "id": "ktVa94aPxXjS"
      },
      "source": [
        "Forward Propagation"
      ]
    },
    {
      "cell_type": "code",
      "metadata": {
        "id": "4TZgUlkbxblE"
      },
      "source": [
        "def forward_propagation(X, parameters):\n",
        "  W1 = parameters['W1']\n",
        "  b1 = parameters['b1']\n",
        "  W2 = parameters['W2']\n",
        "  b2 = parameters['b2']\n",
        "  W3 = parameters['W3']\n",
        "  b3 = parameters['b3']\n",
        "  W4 = parameters['W4']\n",
        "  b4 = parameters['b4']\n",
        "  \n",
        "  Z1 = tf.add(tf.matmul(W1,X), b1)\n",
        "  A1 = tf.nn.relu(Z1)\n",
        "  Z2 = tf.add(tf.matmul(W2,A1), b2)\n",
        "  A2 = tf.nn.relu(Z2)\n",
        "  Z3 = tf.add(tf.matmul(W3,A2), b3)\n",
        "  A3 = tf.nn.relu(Z3)\n",
        "  Z4 = tf.add(tf.matmul(W4,A3), b4)\n",
        "  \n",
        "  return Z4  "
      ],
      "execution_count": 8,
      "outputs": []
    },
    {
      "cell_type": "markdown",
      "metadata": {
        "id": "sr0B5V99yqj_"
      },
      "source": [
        "Compute End Cost"
      ]
    },
    {
      "cell_type": "code",
      "metadata": {
        "id": "CC0IPIh6ysWC"
      },
      "source": [
        "def compute_cost(Z4, Y):\n",
        "  logits = tf.transpose(Z4)\n",
        "  labels = tf.transpose(Y)\n",
        "\n",
        "  cost = tf.reduce_mean(tf.nn.sigmoid_cross_entropy_with_logits(logits = logits, labels = labels))\n",
        "\n",
        "  return cost"
      ],
      "execution_count": 9,
      "outputs": []
    },
    {
      "cell_type": "markdown",
      "metadata": {
        "id": "dbThRd2CzghW"
      },
      "source": [
        "Final Implementation Model"
      ]
    },
    {
      "cell_type": "code",
      "metadata": {
        "id": "G63SrhkLzmKx"
      },
      "source": [
        "def model(X_train, Y_train, X_test, Y_test, learning_rate = 0.0001, num_epochs = 1500, print_cost = True):\n",
        "  ops.reset_default_graph()\n",
        "  tf.random.set_seed(1)\n",
        "  seed = 3\n",
        "\n",
        "  (n_x,m) = X_train.shape\n",
        "  n_y = Y_train.shape[0]\n",
        "  costs=[]\n",
        "  X,Y = create_placeholders(n_x, n_y)\n",
        "\n",
        "  parameters = initialize_parameters()\n",
        "\n",
        "  with tf.GradientTape() as tape:\n",
        "    Z4 = forward_propagation(X, parameters)\n",
        "    cost = compute_cost(Z4,Y)\n",
        "\n",
        "  \n",
        "  optimizer = tf.keras.optimizers.Adam().minimize(cost, var_list = parameters, tape = tape)\n",
        "\n",
        "  init = tf.compat.v1.global_variables_initializer()\n",
        "\n",
        "  with tf.compat.v1.Session() as sess:\n",
        "    sess.run(init)\n",
        "    for epoch in range(num_epochs):\n",
        "      epoch_cost = 0\n",
        "      seed = seed+1\n",
        "      _ , batch_cost = sess.run([optimizer, cost], feed_dict={X: X_train, Y: Y_train})\n",
        "      \n",
        "      epoch_cost += batch_cost\n",
        "\n",
        "      if print_cost == True and epoch % 100 == 0:\n",
        "        print (\"Cost after epoch %i: %f\" % (epoch, epoch_cost))\n",
        "      if print_cost == True and epoch % 5 == 0:\n",
        "        costs.append(epoch_cost)\n",
        "    plt.plot(np.squeeze(costs))\n",
        "    plt.ylabel('cost')\n",
        "    plt.xlabel('iterations (per tens)')\n",
        "    plt.title(\"Learning rate =\" + str(learning_rate))\n",
        "    plt.show()\n",
        "    \n",
        "    parameters = sess.run(parameters)\n",
        "    print(\"Parameters have been trained\")\n",
        "\n",
        "    correct_prediction = tf.equal(tf.argmax(Z4), tf.argmax(Y))\n",
        "    accuracy = tf.reduce_mean(tf.cast(correct_prediction, \"float\"))\n",
        "    \n",
        "    print(\"Train Accuracy:\", accuracy.eval({X: X_train, Y: Y_train}))\n",
        "    print(\"Test Accuracy:\", accuracy.eval({X: X_test, Y: Y_test}))\n",
        "\n",
        "    return parameters"
      ],
      "execution_count": 20,
      "outputs": []
    },
    {
      "cell_type": "markdown",
      "metadata": {
        "id": "HhJLhXG-139i"
      },
      "source": [
        "Running the model"
      ]
    },
    {
      "cell_type": "code",
      "metadata": {
        "colab": {
          "base_uri": "https://localhost:8080/",
          "height": 627
        },
        "id": "oqjhpjiC17li",
        "outputId": "0e6da352-e813-4095-d3f8-a4b1eaca92ec"
      },
      "source": [
        "\n",
        "parameters = model(train_X, train_Y, test_X, test_Y)"
      ],
      "execution_count": 21,
      "outputs": [
        {
          "output_type": "stream",
          "text": [
            "Cost after epoch 0: 399.417603\n",
            "Cost after epoch 100: 6.257182\n",
            "Cost after epoch 200: 6.393854\n",
            "Cost after epoch 300: 1.598771\n",
            "Cost after epoch 400: 4.445578\n",
            "Cost after epoch 500: 13.278195\n",
            "Cost after epoch 600: 7.864132\n",
            "Cost after epoch 700: 5.592608\n",
            "Cost after epoch 800: 1.822863\n",
            "Cost after epoch 900: 6.720356\n",
            "Cost after epoch 1000: 4.014119\n",
            "Cost after epoch 1100: 16.384558\n",
            "Cost after epoch 1200: 6.684209\n",
            "Cost after epoch 1300: 2.321963\n",
            "Cost after epoch 1400: 2.171967\n"
          ],
          "name": "stdout"
        },
        {
          "output_type": "display_data",
          "data": {
            "image/png": "[encoded data removed]",
            "text/plain": [
              "<Figure size 432x288 with 1 Axes>"
            ]
          },
          "metadata": {
            "needs_background": "light"
          }
        },
        {
          "output_type": "stream",
          "text": [
            "Parameters have been trained\n",
            "Train Accuracy: 1.0\n",
            "Test Accuracy: 1.0\n"
          ],
          "name": "stdout"
        }
      ]
    },
    {
      "cell_type": "code",
      "metadata": {
        "id": "RmgJDktLQj6K"
      },
      "source": [
        ""
      ],
      "execution_count": 11,
      "outputs": []
    }
  ]
}