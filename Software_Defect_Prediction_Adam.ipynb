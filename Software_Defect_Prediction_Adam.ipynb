{
  "nbformat": 4,
  "nbformat_minor": 0,
  "metadata": {
    "colab": {
      "name": "Software-Defect-Prediction",
      "provenance": [],
      "collapsed_sections": [],
      "authorship_tag": "ABX9TyOtpEQ/9nQf1RAZ0mnh4LEU"
    },
    "kernelspec": {
      "name": "python3",
      "display_name": "Python 3"
    },
    "language_info": {
      "name": "python"
    }
  },
  "cells": [
    {
      "cell_type": "markdown",
      "metadata": {
        "id": "NEMlVb_5biF0"
      },
      "source": [
        "Importing all nescessary packages."
      ]
    },
    {
      "cell_type": "code",
      "metadata": {
        "id": "zWiqWojS2qJW"
      },
      "source": [
        "import pandas as pd\n",
        "import tensorflow as tf\n",
        "import numpy as np\n",
        "import matplotlib as plt\n",
        "import seaborn as sns\n"
      ],
      "execution_count": 1,
      "outputs": []
    },
    {
      "cell_type": "markdown",
      "metadata": {
        "id": "JdCeRHRAcFkb"
      },
      "source": [
        "Downloading & Printing the dataset"
      ]
    },
    {
      "cell_type": "code",
      "metadata": {
        "id": "4pSiCustcEzK"
      },
      "source": [
        "url = 'https://raw.githubusercontent.com/MilanBinsMathew/Software-Defect-Prediction-JM1/main/jm1_csv.csv'"
      ],
      "execution_count": 2,
      "outputs": []
    },
    {
      "cell_type": "code",
      "metadata": {
        "colab": {
          "base_uri": "https://localhost:8080/"
        },
        "id": "cFKX_vJCd1Bk",
        "outputId": "2465cec8-aab3-4c30-a6af-68d127c3f3f4"
      },
      "source": [
        "df = pd.read_csv(url)\n",
        "print(df.head())\n",
        "\n",
        "df.isnull().sum()"
      ],
      "execution_count": 3,
      "outputs": [
        {
          "output_type": "stream",
          "name": "stdout",
          "text": [
            "     loc  v(g)  ev(g)  iv(g)  ...  total_Op  total_Opnd  branchCount  defects\n",
            "0    1.1   1.4    1.4    1.4  ...       1.2         1.2          1.4        0\n",
            "1    1.0   1.0    1.0    1.0  ...       1.0         1.0          1.0        1\n",
            "2   72.0   7.0    1.0    6.0  ...     112.0        86.0         13.0        1\n",
            "3  190.0   3.0    1.0    3.0  ...     329.0       271.0          5.0        1\n",
            "4   37.0   4.0    1.0    4.0  ...      76.0        50.0          7.0        1\n",
            "\n",
            "[5 rows x 22 columns]\n"
          ]
        },
        {
          "output_type": "execute_result",
          "data": {
            "text/plain": [
              "loc                  0\n",
              "v(g)                 0\n",
              "ev(g)                0\n",
              "iv(g)                0\n",
              "n                    0\n",
              "v                    0\n",
              "l                    0\n",
              "d                    0\n",
              "i                    0\n",
              "e                    0\n",
              "b                    0\n",
              "t                    0\n",
              "lOCode               0\n",
              "lOComment            0\n",
              "lOBlank              0\n",
              "locCodeAndComment    0\n",
              "uniq_Op              0\n",
              "uniq_Opnd            0\n",
              "total_Op             0\n",
              "total_Opnd           0\n",
              "branchCount          0\n",
              "defects              0\n",
              "dtype: int64"
            ]
          },
          "metadata": {},
          "execution_count": 3
        }
      ]
    },
    {
      "cell_type": "markdown",
      "metadata": {
        "id": "d2m3WgW3l7zp"
      },
      "source": [
        "Shuffling the dataset.\n",
        "Segementation into training and test set (80% - 20%)\n",
        "Normalizing the values"
      ]
    },
    {
      "cell_type": "code",
      "metadata": {
        "id": "hSG4zkugmM0Y"
      },
      "source": [
        "from sklearn.model_selection import train_test_split\n",
        "\n",
        "X = df.drop(['defects'], axis =1).values\n",
        "\n",
        "y = df['defects'].values\n",
        "\n",
        "\n"
      ],
      "execution_count": 4,
      "outputs": []
    },
    {
      "cell_type": "markdown",
      "metadata": {
        "id": "O3VMk2pJri8R"
      },
      "source": [
        "Feature Scaling"
      ]
    },
    {
      "cell_type": "code",
      "metadata": {
        "id": "4G-KTc-ArmWC"
      },
      "source": [
        "from sklearn.preprocessing import MinMaxScaler\n",
        "scaler = MinMaxScaler(feature_range=[-1,1])\n",
        "X = scaler.fit_transform(X) \n",
        "\n",
        "train_X,test_X,train_Y,test_Y = train_test_split(X, y, test_size=0.2, random_state = 2)\n",
        "\n",
        "\n"
      ],
      "execution_count": 5,
      "outputs": []
    },
    {
      "cell_type": "markdown",
      "metadata": {
        "id": "B2rWS3crnMva"
      },
      "source": [
        "\n",
        "\n",
        "Keras Model Definition"
      ]
    },
    {
      "cell_type": "code",
      "metadata": {
        "id": "Wbso4gW0r_zM"
      },
      "source": [
        "from tensorflow.keras.models import Sequential\n",
        "from tensorflow.keras.layers import Dense,Activation,BatchNormalization\n",
        "from tensorflow.keras.optimizers import Adam\n",
        "from tensorflow.keras.losses import BinaryCrossentropy"
      ],
      "execution_count": 6,
      "outputs": []
    },
    {
      "cell_type": "code",
      "metadata": {
        "id": "4TZgUlkbxblE"
      },
      "source": [
        "class mycallback(tf.keras.callbacks.Callback):\n",
        "  def on_epoch_end(self, epoch, log = {}):\n",
        "    if log.get('accuracy') > 0.92:\n",
        "      self.model.stop_training = True\n",
        "\n",
        "model = Sequential([ \n",
        "(Dense(512,activation = 'relu',kernel_initializer='he_uniform',input_shape = (21,))),\n",
        "(BatchNormalization()),\n",
        "(Dense(256,activation = 'relu')),\n",
        "(Dense(1,activation = 'sigmoid'))\n",
        "])\n",
        "ad = Adam(learning_rate=0.01)\n",
        "\n",
        "call = mycallback()\n",
        "model.compile(optimizer = ad, loss='binary_crossentropy',metrics = ['accuracy'])"
      ],
      "execution_count": 7,
      "outputs": []
    },
    {
      "cell_type": "markdown",
      "metadata": {
        "id": "XGMY88g8rQuO"
      },
      "source": [
        "Training"
      ]
    },
    {
      "cell_type": "code",
      "metadata": {
        "id": "88pIatPU85m-",
        "colab": {
          "base_uri": "https://localhost:8080/"
        },
        "outputId": "2590edde-a262-4051-cfeb-338680c3246f"
      },
      "source": [
        "model.fit(x = train_X, y = train_Y,validation_data = (test_X,test_Y), batch_size = 64, epochs = 10, callbacks=  [call])\n",
        "model.summary()"
      ],
      "execution_count": 8,
      "outputs": [
        {
          "output_type": "stream",
          "name": "stdout",
          "text": [
            "Epoch 1/10\n",
            "136/136 [==============================] - 2s 7ms/step - loss: 0.5714 - accuracy: 0.7896 - val_loss: 1.2081 - val_accuracy: 0.8056\n",
            "Epoch 2/10\n",
            "136/136 [==============================] - 1s 5ms/step - loss: 0.4611 - accuracy: 0.8069 - val_loss: 0.9388 - val_accuracy: 0.8065\n",
            "Epoch 3/10\n",
            "136/136 [==============================] - 1s 5ms/step - loss: 0.4509 - accuracy: 0.8124 - val_loss: 0.5109 - val_accuracy: 0.8084\n",
            "Epoch 4/10\n",
            "136/136 [==============================] - 1s 5ms/step - loss: 0.4493 - accuracy: 0.8107 - val_loss: 1.6998 - val_accuracy: 0.8079\n",
            "Epoch 5/10\n",
            "136/136 [==============================] - 1s 5ms/step - loss: 0.4483 - accuracy: 0.8103 - val_loss: 0.8207 - val_accuracy: 0.8079\n",
            "Epoch 6/10\n",
            "136/136 [==============================] - 1s 5ms/step - loss: 0.4483 - accuracy: 0.8141 - val_loss: 1.6259 - val_accuracy: 0.8093\n",
            "Epoch 7/10\n",
            "136/136 [==============================] - 1s 5ms/step - loss: 0.4469 - accuracy: 0.8131 - val_loss: 0.5268 - val_accuracy: 0.8102\n",
            "Epoch 8/10\n",
            "136/136 [==============================] - 1s 5ms/step - loss: 0.4462 - accuracy: 0.8131 - val_loss: 0.4849 - val_accuracy: 0.8102\n",
            "Epoch 9/10\n",
            "136/136 [==============================] - 1s 5ms/step - loss: 0.4445 - accuracy: 0.8110 - val_loss: 0.4532 - val_accuracy: 0.8134\n",
            "Epoch 10/10\n",
            "136/136 [==============================] - 1s 5ms/step - loss: 0.4444 - accuracy: 0.8117 - val_loss: 0.4714 - val_accuracy: 0.8107\n",
            "Model: \"sequential\"\n",
            "_________________________________________________________________\n",
            "Layer (type)                 Output Shape              Param #   \n",
            "=================================================================\n",
            "dense (Dense)                (None, 512)               11264     \n",
            "_________________________________________________________________\n",
            "batch_normalization (BatchNo (None, 512)               2048      \n",
            "_________________________________________________________________\n",
            "dense_1 (Dense)              (None, 256)               131328    \n",
            "_________________________________________________________________\n",
            "dense_2 (Dense)              (None, 1)                 257       \n",
            "=================================================================\n",
            "Total params: 144,897\n",
            "Trainable params: 143,873\n",
            "Non-trainable params: 1,024\n",
            "_________________________________________________________________\n"
          ]
        }
      ]
    },
    {
      "cell_type": "markdown",
      "metadata": {
        "id": "NWS1YFLVsRnc"
      },
      "source": [
        "Results"
      ]
    },
    {
      "cell_type": "code",
      "metadata": {
        "colab": {
          "base_uri": "https://localhost:8080/",
          "height": 501
        },
        "id": "Dm5SKDPBsTzz",
        "outputId": "354bc78c-8230-43e7-aa65-80330836ae67"
      },
      "source": [
        "loss_df = pd.DataFrame(model.history.history)\n",
        "loss_df.plot(figsize=(15,8))"
      ],
      "execution_count": 9,
      "outputs": [
        {
          "output_type": "execute_result",
          "data": {
            "text/plain": [
              "<matplotlib.axes._subplots.AxesSubplot at 0x7f6fd86aad90>"
            ]
          },
          "metadata": {},
          "execution_count": 9
        },
        {
          "output_type": "display_data",
          "data": {
            "image/png": "[encoded data removed]",
            "text/plain": [
              "<Figure size 1080x576 with 1 Axes>"
            ]
          },
          "metadata": {
            "needs_background": "light"
          }
        }
      ]
    },
    {
      "cell_type": "code",
      "metadata": {
        "colab": {
          "base_uri": "https://localhost:8080/",
          "height": 283
        },
        "id": "XhPBt7l6st0j",
        "outputId": "fa04636c-5fc2-444a-cefc-7cb0173264da"
      },
      "source": [
        "y_pred = model.predict(test_X)\n",
        "\n",
        "from sklearn import metrics\n",
        "\n",
        "\n",
        "fig = plt.pyplot.plot(figsize=(10,5))\n",
        "plt.pyplot.scatter(test_Y,y_pred)\n",
        "\n",
        "plt.pyplot.plot(test_Y,test_Y,'r')"
      ],
      "execution_count": 10,
      "outputs": [
        {
          "output_type": "execute_result",
          "data": {
            "text/plain": [
              "[<matplotlib.lines.Line2D at 0x7f6fd8535bd0>]"
            ]
          },
          "metadata": {},
          "execution_count": 10
        },
        {
          "output_type": "display_data",
          "data": {
            "image/png": "[encoded data removed]",
            "text/plain": [
              "<Figure size 432x288 with 1 Axes>"
            ]
          },
          "metadata": {
            "needs_background": "light"
          }
        }
      ]
    }
  ]
}