{
  "nbformat": 4,
  "nbformat_minor": 0,
  "metadata": {
    "colab": {
      "name": "Software-Defect-Prediction",
      "provenance": [],
      "collapsed_sections": [],
      "authorship_tag": "ABX9TyMpd08V4FWCcNizaJqDkqIz"
    },
    "kernelspec": {
      "name": "python3",
      "display_name": "Python 3"
    },
    "language_info": {
      "name": "python"
    }
  },
  "cells": [
    {
      "cell_type": "markdown",
      "metadata": {
        "id": "NEMlVb_5biF0"
      },
      "source": [
        "Importing all nescessary packages."
      ]
    },
    {
      "cell_type": "code",
      "metadata": {
        "id": "zWiqWojS2qJW"
      },
      "source": [
        "import pandas as pd\n",
        "import tensorflow as tf\n",
        "import numpy as np\n",
        "import matplotlib as plt\n",
        "import seaborn as sns\n"
      ],
      "execution_count": 1,
      "outputs": []
    },
    {
      "cell_type": "markdown",
      "metadata": {
        "id": "JdCeRHRAcFkb"
      },
      "source": [
        "Downloading & Printing the dataset"
      ]
    },
    {
      "cell_type": "code",
      "metadata": {
        "id": "4pSiCustcEzK"
      },
      "source": [
        "url = 'https://raw.githubusercontent.com/MilanBinsMathew/Software-Defect-Prediction-JM1/main/jm1_csv.csv'"
      ],
      "execution_count": 2,
      "outputs": []
    },
    {
      "cell_type": "code",
      "metadata": {
        "colab": {
          "base_uri": "https://localhost:8080/"
        },
        "id": "cFKX_vJCd1Bk",
        "outputId": "6303fb48-4a20-46bf-aea3-c6b6f212442d"
      },
      "source": [
        "df = pd.read_csv(url)\n",
        "print(df.head())\n",
        "\n",
        "df.isnull().sum()"
      ],
      "execution_count": 3,
      "outputs": [
        {
          "output_type": "stream",
          "name": "stdout",
          "text": [
            "     loc  v(g)  ev(g)  iv(g)  ...  total_Op  total_Opnd  branchCount  defects\n",
            "0    1.1   1.4    1.4    1.4  ...       1.2         1.2          1.4        0\n",
            "1    1.0   1.0    1.0    1.0  ...       1.0         1.0          1.0        1\n",
            "2   72.0   7.0    1.0    6.0  ...     112.0        86.0         13.0        1\n",
            "3  190.0   3.0    1.0    3.0  ...     329.0       271.0          5.0        1\n",
            "4   37.0   4.0    1.0    4.0  ...      76.0        50.0          7.0        1\n",
            "\n",
            "[5 rows x 22 columns]\n"
          ]
        },
        {
          "output_type": "execute_result",
          "data": {
            "text/plain": [
              "loc                  0\n",
              "v(g)                 0\n",
              "ev(g)                0\n",
              "iv(g)                0\n",
              "n                    0\n",
              "v                    0\n",
              "l                    0\n",
              "d                    0\n",
              "i                    0\n",
              "e                    0\n",
              "b                    0\n",
              "t                    0\n",
              "lOCode               0\n",
              "lOComment            0\n",
              "lOBlank              0\n",
              "locCodeAndComment    0\n",
              "uniq_Op              0\n",
              "uniq_Opnd            0\n",
              "total_Op             0\n",
              "total_Opnd           0\n",
              "branchCount          0\n",
              "defects              0\n",
              "dtype: int64"
            ]
          },
          "metadata": {},
          "execution_count": 3
        }
      ]
    },
    {
      "cell_type": "markdown",
      "metadata": {
        "id": "d2m3WgW3l7zp"
      },
      "source": [
        "Shuffling the dataset.\n",
        "Segementation into training and test set (80% - 20%)\n",
        "Normalizing the values"
      ]
    },
    {
      "cell_type": "code",
      "metadata": {
        "id": "hSG4zkugmM0Y"
      },
      "source": [
        "from sklearn.model_selection import train_test_split\n",
        "\n",
        "X = df.drop(['defects'], axis =1).values\n",
        "\n",
        "y = df['defects'].values\n",
        "\n",
        "\n"
      ],
      "execution_count": 4,
      "outputs": []
    },
    {
      "cell_type": "markdown",
      "metadata": {
        "id": "O3VMk2pJri8R"
      },
      "source": [
        "Feature Scaling"
      ]
    },
    {
      "cell_type": "code",
      "metadata": {
        "id": "4G-KTc-ArmWC"
      },
      "source": [
        "from sklearn.preprocessing import MinMaxScaler\n",
        "scaler = MinMaxScaler(feature_range=[0,1])\n",
        "X = scaler.fit_transform(X) \n",
        "\n",
        "train_X,test_X,train_Y,test_Y = train_test_split(X, y, test_size=0.2, random_state = 2)\n",
        "\n"
      ],
      "execution_count": 5,
      "outputs": []
    },
    {
      "cell_type": "markdown",
      "metadata": {
        "id": "B2rWS3crnMva"
      },
      "source": [
        "\n",
        "\n",
        "Keras Model Definition"
      ]
    },
    {
      "cell_type": "code",
      "metadata": {
        "id": "Wbso4gW0r_zM"
      },
      "source": [
        "from tensorflow.keras.models import Sequential\n",
        "from tensorflow.keras.layers import Dense,Activation,BatchNormalization\n",
        "from tensorflow.keras.optimizers import RMSprop\n",
        "from tensorflow.keras.losses import BinaryCrossentropy"
      ],
      "execution_count": 6,
      "outputs": []
    },
    {
      "cell_type": "code",
      "metadata": {
        "id": "4TZgUlkbxblE"
      },
      "source": [
        "class mycallback(tf.keras.callbacks.Callback):\n",
        "  def on_epoch_end(self, epoch, log = {}):\n",
        "    if log.get('accuracy') > 0.89:\n",
        "      self.model.stop_training = True\n",
        "\n",
        "model = Sequential([ \n",
        "(Dense(512,activation = 'relu',kernel_initializer='he_uniform',input_shape = (21,))),\n",
        "(BatchNormalization()),\n",
        "(Dense(512,activation = 'relu')),\n",
        "\n",
        "(BatchNormalization()),\n",
        "(Dense(256,activation = 'relu')),\n",
        "(Dense(1,activation = 'sigmoid'))\n",
        "])\n",
        "ad = RMSprop(learning_rate = 0.01)\n",
        "\n",
        "call = mycallback()\n",
        "model.compile(optimizer = ad, loss='binary_crossentropy',metrics = ['accuracy'])"
      ],
      "execution_count": 7,
      "outputs": []
    },
    {
      "cell_type": "markdown",
      "metadata": {
        "id": "XGMY88g8rQuO"
      },
      "source": [
        "Training"
      ]
    },
    {
      "cell_type": "code",
      "metadata": {
        "id": "88pIatPU85m-",
        "colab": {
          "base_uri": "https://localhost:8080/"
        },
        "outputId": "1d5f4c9f-ff21-408a-ded9-4a4bfe3e5017"
      },
      "source": [
        "model.fit(x = train_X, y = train_Y, batch_size = 256, epochs = 200, callbacks=  [call])\n",
        "model.summary()"
      ],
      "execution_count": 8,
      "outputs": [
        {
          "output_type": "stream",
          "name": "stdout",
          "text": [
            "Epoch 1/200\n",
            "34/34 [==============================] - 2s 24ms/step - loss: 1.1799 - accuracy: 0.7623\n",
            "Epoch 2/200\n",
            "34/34 [==============================] - 1s 24ms/step - loss: 0.5102 - accuracy: 0.8023\n",
            "Epoch 3/200\n",
            "34/34 [==============================] - 1s 26ms/step - loss: 0.4856 - accuracy: 0.8019\n",
            "Epoch 4/200\n",
            "34/34 [==============================] - 1s 26ms/step - loss: 0.4584 - accuracy: 0.8089\n",
            "Epoch 5/200\n",
            "34/34 [==============================] - 1s 24ms/step - loss: 0.4594 - accuracy: 0.8069\n",
            "Epoch 6/200\n",
            "34/34 [==============================] - 1s 26ms/step - loss: 0.4513 - accuracy: 0.8096\n",
            "Epoch 7/200\n",
            "34/34 [==============================] - 1s 24ms/step - loss: 0.4487 - accuracy: 0.8101\n",
            "Epoch 8/200\n",
            "34/34 [==============================] - 1s 26ms/step - loss: 0.4483 - accuracy: 0.8084\n",
            "Epoch 9/200\n",
            "34/34 [==============================] - 1s 27ms/step - loss: 0.4465 - accuracy: 0.8123\n",
            "Epoch 10/200\n",
            "34/34 [==============================] - 1s 24ms/step - loss: 0.4457 - accuracy: 0.8116\n",
            "Epoch 11/200\n",
            "34/34 [==============================] - 1s 24ms/step - loss: 0.4441 - accuracy: 0.8147\n",
            "Epoch 12/200\n",
            "34/34 [==============================] - 1s 26ms/step - loss: 0.4420 - accuracy: 0.8127\n",
            "Epoch 13/200\n",
            "34/34 [==============================] - 1s 25ms/step - loss: 0.4394 - accuracy: 0.8148\n",
            "Epoch 14/200\n",
            "34/34 [==============================] - 1s 24ms/step - loss: 0.4403 - accuracy: 0.8140\n",
            "Epoch 15/200\n",
            "34/34 [==============================] - 1s 25ms/step - loss: 0.4395 - accuracy: 0.8159\n",
            "Epoch 16/200\n",
            "34/34 [==============================] - 1s 24ms/step - loss: 0.4388 - accuracy: 0.8149\n",
            "Epoch 17/200\n",
            "34/34 [==============================] - 1s 23ms/step - loss: 0.4419 - accuracy: 0.8171\n",
            "Epoch 18/200\n",
            "34/34 [==============================] - 1s 23ms/step - loss: 0.4358 - accuracy: 0.8172\n",
            "Epoch 19/200\n",
            "34/34 [==============================] - 1s 23ms/step - loss: 0.4365 - accuracy: 0.8178\n",
            "Epoch 20/200\n",
            "34/34 [==============================] - 1s 25ms/step - loss: 0.4382 - accuracy: 0.8161\n",
            "Epoch 21/200\n",
            "34/34 [==============================] - 1s 27ms/step - loss: 0.4325 - accuracy: 0.8172\n",
            "Epoch 22/200\n",
            "34/34 [==============================] - 1s 27ms/step - loss: 0.4360 - accuracy: 0.8177\n",
            "Epoch 23/200\n",
            "34/34 [==============================] - 1s 27ms/step - loss: 0.4351 - accuracy: 0.8179\n",
            "Epoch 24/200\n",
            "34/34 [==============================] - 1s 26ms/step - loss: 0.4365 - accuracy: 0.8165\n",
            "Epoch 25/200\n",
            "34/34 [==============================] - 1s 24ms/step - loss: 0.4324 - accuracy: 0.8199\n",
            "Epoch 26/200\n",
            "34/34 [==============================] - 1s 27ms/step - loss: 0.4344 - accuracy: 0.8171\n",
            "Epoch 27/200\n",
            "34/34 [==============================] - 1s 27ms/step - loss: 0.4316 - accuracy: 0.8182\n",
            "Epoch 28/200\n",
            "34/34 [==============================] - 1s 27ms/step - loss: 0.4322 - accuracy: 0.8184\n",
            "Epoch 29/200\n",
            "34/34 [==============================] - 1s 28ms/step - loss: 0.4357 - accuracy: 0.8156\n",
            "Epoch 30/200\n",
            "34/34 [==============================] - 1s 26ms/step - loss: 0.4297 - accuracy: 0.8217\n",
            "Epoch 31/200\n",
            "34/34 [==============================] - 1s 25ms/step - loss: 0.4311 - accuracy: 0.8219\n",
            "Epoch 32/200\n",
            "34/34 [==============================] - 1s 23ms/step - loss: 0.4285 - accuracy: 0.8212\n",
            "Epoch 33/200\n",
            "34/34 [==============================] - 1s 23ms/step - loss: 0.4297 - accuracy: 0.8195\n",
            "Epoch 34/200\n",
            "34/34 [==============================] - 1s 25ms/step - loss: 0.4289 - accuracy: 0.8199\n",
            "Epoch 35/200\n",
            "34/34 [==============================] - 1s 26ms/step - loss: 0.4308 - accuracy: 0.8208\n",
            "Epoch 36/200\n",
            "34/34 [==============================] - 1s 27ms/step - loss: 0.4269 - accuracy: 0.8261\n",
            "Epoch 37/200\n",
            "34/34 [==============================] - 1s 27ms/step - loss: 0.4295 - accuracy: 0.8219\n",
            "Epoch 38/200\n",
            "34/34 [==============================] - 1s 25ms/step - loss: 0.4269 - accuracy: 0.8231\n",
            "Epoch 39/200\n",
            "34/34 [==============================] - 1s 24ms/step - loss: 0.4288 - accuracy: 0.8235\n",
            "Epoch 40/200\n",
            "34/34 [==============================] - 1s 23ms/step - loss: 0.4270 - accuracy: 0.8226\n",
            "Epoch 41/200\n",
            "34/34 [==============================] - 1s 24ms/step - loss: 0.4241 - accuracy: 0.8238\n",
            "Epoch 42/200\n",
            "34/34 [==============================] - 1s 25ms/step - loss: 0.4245 - accuracy: 0.8246\n",
            "Epoch 43/200\n",
            "34/34 [==============================] - 1s 25ms/step - loss: 0.4276 - accuracy: 0.8219\n",
            "Epoch 44/200\n",
            "34/34 [==============================] - 1s 24ms/step - loss: 0.4248 - accuracy: 0.8216\n",
            "Epoch 45/200\n",
            "34/34 [==============================] - 1s 26ms/step - loss: 0.4269 - accuracy: 0.8215\n",
            "Epoch 46/200\n",
            "34/34 [==============================] - 1s 26ms/step - loss: 0.4235 - accuracy: 0.8255\n",
            "Epoch 47/200\n",
            "34/34 [==============================] - 1s 24ms/step - loss: 0.4240 - accuracy: 0.8251\n",
            "Epoch 48/200\n",
            "34/34 [==============================] - 1s 23ms/step - loss: 0.4236 - accuracy: 0.8253\n",
            "Epoch 49/200\n",
            "34/34 [==============================] - 1s 23ms/step - loss: 0.4255 - accuracy: 0.8255\n",
            "Epoch 50/200\n",
            "34/34 [==============================] - 1s 23ms/step - loss: 0.4239 - accuracy: 0.8244\n",
            "Epoch 51/200\n",
            "34/34 [==============================] - 1s 27ms/step - loss: 0.4208 - accuracy: 0.8251\n",
            "Epoch 52/200\n",
            "34/34 [==============================] - 1s 26ms/step - loss: 0.4259 - accuracy: 0.8269\n",
            "Epoch 53/200\n",
            "34/34 [==============================] - 1s 27ms/step - loss: 0.4199 - accuracy: 0.8251\n",
            "Epoch 54/200\n",
            "34/34 [==============================] - 1s 27ms/step - loss: 0.4244 - accuracy: 0.8254\n",
            "Epoch 55/200\n",
            "34/34 [==============================] - 1s 27ms/step - loss: 0.4180 - accuracy: 0.8290\n",
            "Epoch 56/200\n",
            "34/34 [==============================] - 1s 27ms/step - loss: 0.4223 - accuracy: 0.8253\n",
            "Epoch 57/200\n",
            "34/34 [==============================] - 1s 26ms/step - loss: 0.4216 - accuracy: 0.8253\n",
            "Epoch 58/200\n",
            "34/34 [==============================] - 1s 26ms/step - loss: 0.4246 - accuracy: 0.8266\n",
            "Epoch 59/200\n",
            "34/34 [==============================] - 1s 27ms/step - loss: 0.4186 - accuracy: 0.8263\n",
            "Epoch 60/200\n",
            "34/34 [==============================] - 1s 26ms/step - loss: 0.4189 - accuracy: 0.8256\n",
            "Epoch 61/200\n",
            "34/34 [==============================] - 1s 28ms/step - loss: 0.4212 - accuracy: 0.8265\n",
            "Epoch 62/200\n",
            "34/34 [==============================] - 1s 27ms/step - loss: 0.4206 - accuracy: 0.8248\n",
            "Epoch 63/200\n",
            "34/34 [==============================] - 1s 27ms/step - loss: 0.4186 - accuracy: 0.8267\n",
            "Epoch 64/200\n",
            "34/34 [==============================] - 1s 25ms/step - loss: 0.4185 - accuracy: 0.8271\n",
            "Epoch 65/200\n",
            "34/34 [==============================] - 1s 25ms/step - loss: 0.4190 - accuracy: 0.8265\n",
            "Epoch 66/200\n",
            "34/34 [==============================] - 1s 27ms/step - loss: 0.4178 - accuracy: 0.8276\n",
            "Epoch 67/200\n",
            "34/34 [==============================] - 1s 26ms/step - loss: 0.4183 - accuracy: 0.8274\n",
            "Epoch 68/200\n",
            "34/34 [==============================] - 1s 26ms/step - loss: 0.4166 - accuracy: 0.8282\n",
            "Epoch 69/200\n",
            "34/34 [==============================] - 1s 23ms/step - loss: 0.4178 - accuracy: 0.8282\n",
            "Epoch 70/200\n",
            "34/34 [==============================] - 1s 26ms/step - loss: 0.4158 - accuracy: 0.8279\n",
            "Epoch 71/200\n",
            "34/34 [==============================] - 1s 27ms/step - loss: 0.4130 - accuracy: 0.8304\n",
            "Epoch 72/200\n",
            "34/34 [==============================] - 1s 25ms/step - loss: 0.4168 - accuracy: 0.8307\n",
            "Epoch 73/200\n",
            "34/34 [==============================] - 1s 24ms/step - loss: 0.4133 - accuracy: 0.8318\n",
            "Epoch 74/200\n",
            "34/34 [==============================] - 1s 23ms/step - loss: 0.4174 - accuracy: 0.8323\n",
            "Epoch 75/200\n",
            "34/34 [==============================] - 1s 27ms/step - loss: 0.4179 - accuracy: 0.8288\n",
            "Epoch 76/200\n",
            "34/34 [==============================] - 1s 26ms/step - loss: 0.4139 - accuracy: 0.8303\n",
            "Epoch 77/200\n",
            "34/34 [==============================] - 1s 26ms/step - loss: 0.4168 - accuracy: 0.8313\n",
            "Epoch 78/200\n",
            "34/34 [==============================] - 1s 27ms/step - loss: 0.4148 - accuracy: 0.8286\n",
            "Epoch 79/200\n",
            "34/34 [==============================] - 1s 25ms/step - loss: 0.4142 - accuracy: 0.8289\n",
            "Epoch 80/200\n",
            "34/34 [==============================] - 1s 26ms/step - loss: 0.4091 - accuracy: 0.8311\n",
            "Epoch 81/200\n",
            "34/34 [==============================] - 1s 27ms/step - loss: 0.4119 - accuracy: 0.8323\n",
            "Epoch 82/200\n",
            "34/34 [==============================] - 1s 27ms/step - loss: 0.4118 - accuracy: 0.8303\n",
            "Epoch 83/200\n",
            "34/34 [==============================] - 1s 26ms/step - loss: 0.4102 - accuracy: 0.8296\n",
            "Epoch 84/200\n",
            "34/34 [==============================] - 1s 25ms/step - loss: 0.4122 - accuracy: 0.8339\n",
            "Epoch 85/200\n",
            "34/34 [==============================] - 1s 24ms/step - loss: 0.4104 - accuracy: 0.8333\n",
            "Epoch 86/200\n",
            "34/34 [==============================] - 1s 24ms/step - loss: 0.4096 - accuracy: 0.8316\n",
            "Epoch 87/200\n",
            "34/34 [==============================] - 1s 26ms/step - loss: 0.4113 - accuracy: 0.8321\n",
            "Epoch 88/200\n",
            "34/34 [==============================] - 1s 27ms/step - loss: 0.4101 - accuracy: 0.8307\n",
            "Epoch 89/200\n",
            "34/34 [==============================] - 1s 26ms/step - loss: 0.4076 - accuracy: 0.8328\n",
            "Epoch 90/200\n",
            "34/34 [==============================] - 1s 24ms/step - loss: 0.4081 - accuracy: 0.8303\n",
            "Epoch 91/200\n",
            "34/34 [==============================] - 1s 24ms/step - loss: 0.4055 - accuracy: 0.8328\n",
            "Epoch 92/200\n",
            "34/34 [==============================] - 1s 23ms/step - loss: 0.4043 - accuracy: 0.8347\n",
            "Epoch 93/200\n",
            "34/34 [==============================] - 1s 24ms/step - loss: 0.4106 - accuracy: 0.8301\n",
            "Epoch 94/200\n",
            "34/34 [==============================] - 1s 27ms/step - loss: 0.4064 - accuracy: 0.8355\n",
            "Epoch 95/200\n",
            "34/34 [==============================] - 1s 23ms/step - loss: 0.4078 - accuracy: 0.8335\n",
            "Epoch 96/200\n",
            "34/34 [==============================] - 1s 26ms/step - loss: 0.4063 - accuracy: 0.8325\n",
            "Epoch 97/200\n",
            "34/34 [==============================] - 1s 24ms/step - loss: 0.4087 - accuracy: 0.8331\n",
            "Epoch 98/200\n",
            "34/34 [==============================] - 1s 25ms/step - loss: 0.4023 - accuracy: 0.8344\n",
            "Epoch 99/200\n",
            "34/34 [==============================] - 1s 27ms/step - loss: 0.4067 - accuracy: 0.8323\n",
            "Epoch 100/200\n",
            "34/34 [==============================] - 1s 27ms/step - loss: 0.4086 - accuracy: 0.8333\n",
            "Epoch 101/200\n",
            "34/34 [==============================] - 1s 28ms/step - loss: 0.4040 - accuracy: 0.8336\n",
            "Epoch 102/200\n",
            "34/34 [==============================] - 1s 27ms/step - loss: 0.4087 - accuracy: 0.8330\n",
            "Epoch 103/200\n",
            "34/34 [==============================] - 1s 27ms/step - loss: 0.4082 - accuracy: 0.8344\n",
            "Epoch 104/200\n",
            "34/34 [==============================] - 1s 27ms/step - loss: 0.4027 - accuracy: 0.8342\n",
            "Epoch 105/200\n",
            "34/34 [==============================] - 1s 28ms/step - loss: 0.4052 - accuracy: 0.8349\n",
            "Epoch 106/200\n",
            "34/34 [==============================] - 1s 25ms/step - loss: 0.4037 - accuracy: 0.8340\n",
            "Epoch 107/200\n",
            "34/34 [==============================] - 1s 25ms/step - loss: 0.4046 - accuracy: 0.8366\n",
            "Epoch 108/200\n",
            "34/34 [==============================] - 1s 28ms/step - loss: 0.4079 - accuracy: 0.8343\n",
            "Epoch 109/200\n",
            "34/34 [==============================] - 1s 27ms/step - loss: 0.4028 - accuracy: 0.8350\n",
            "Epoch 110/200\n",
            "34/34 [==============================] - 1s 27ms/step - loss: 0.4014 - accuracy: 0.8349\n",
            "Epoch 111/200\n",
            "34/34 [==============================] - 1s 26ms/step - loss: 0.4072 - accuracy: 0.8340\n",
            "Epoch 112/200\n",
            "34/34 [==============================] - 1s 28ms/step - loss: 0.4022 - accuracy: 0.8354\n",
            "Epoch 113/200\n",
            "34/34 [==============================] - 1s 27ms/step - loss: 0.4045 - accuracy: 0.8370\n",
            "Epoch 114/200\n",
            "34/34 [==============================] - 1s 27ms/step - loss: 0.4062 - accuracy: 0.8364\n",
            "Epoch 115/200\n",
            "34/34 [==============================] - 1s 28ms/step - loss: 0.3986 - accuracy: 0.8361\n",
            "Epoch 116/200\n",
            "34/34 [==============================] - 1s 28ms/step - loss: 0.4006 - accuracy: 0.8362\n",
            "Epoch 117/200\n",
            "34/34 [==============================] - 1s 28ms/step - loss: 0.4030 - accuracy: 0.8367\n",
            "Epoch 118/200\n",
            "34/34 [==============================] - 1s 27ms/step - loss: 0.3975 - accuracy: 0.8380\n",
            "Epoch 119/200\n",
            "34/34 [==============================] - 1s 26ms/step - loss: 0.4034 - accuracy: 0.8346\n",
            "Epoch 120/200\n",
            "34/34 [==============================] - 1s 25ms/step - loss: 0.4037 - accuracy: 0.8330\n",
            "Epoch 121/200\n",
            "34/34 [==============================] - 1s 27ms/step - loss: 0.3997 - accuracy: 0.8374\n",
            "Epoch 122/200\n",
            "34/34 [==============================] - 1s 24ms/step - loss: 0.3999 - accuracy: 0.8371\n",
            "Epoch 123/200\n",
            "34/34 [==============================] - 1s 23ms/step - loss: 0.4027 - accuracy: 0.8346\n",
            "Epoch 124/200\n",
            "34/34 [==============================] - 1s 25ms/step - loss: 0.4021 - accuracy: 0.8361\n",
            "Epoch 125/200\n",
            "34/34 [==============================] - 1s 24ms/step - loss: 0.4016 - accuracy: 0.8364\n",
            "Epoch 126/200\n",
            "34/34 [==============================] - 1s 28ms/step - loss: 0.3942 - accuracy: 0.8375\n",
            "Epoch 127/200\n",
            "34/34 [==============================] - 1s 27ms/step - loss: 0.3936 - accuracy: 0.8390\n",
            "Epoch 128/200\n",
            "34/34 [==============================] - 1s 24ms/step - loss: 0.3963 - accuracy: 0.8397\n",
            "Epoch 129/200\n",
            "34/34 [==============================] - 1s 24ms/step - loss: 0.3952 - accuracy: 0.8412\n",
            "Epoch 130/200\n",
            "34/34 [==============================] - 1s 24ms/step - loss: 0.3946 - accuracy: 0.8386\n",
            "Epoch 131/200\n",
            "34/34 [==============================] - 1s 27ms/step - loss: 0.3959 - accuracy: 0.8396\n",
            "Epoch 132/200\n",
            "34/34 [==============================] - 1s 28ms/step - loss: 0.3976 - accuracy: 0.8358\n",
            "Epoch 133/200\n",
            "34/34 [==============================] - 1s 27ms/step - loss: 0.3942 - accuracy: 0.8374\n",
            "Epoch 134/200\n",
            "34/34 [==============================] - 1s 28ms/step - loss: 0.3935 - accuracy: 0.8393\n",
            "Epoch 135/200\n",
            "34/34 [==============================] - 1s 25ms/step - loss: 0.3955 - accuracy: 0.8380\n",
            "Epoch 136/200\n",
            "34/34 [==============================] - 1s 29ms/step - loss: 0.3937 - accuracy: 0.8373\n",
            "Epoch 137/200\n",
            "34/34 [==============================] - 1s 28ms/step - loss: 0.3979 - accuracy: 0.8367\n",
            "Epoch 138/200\n",
            "34/34 [==============================] - 1s 27ms/step - loss: 0.3953 - accuracy: 0.8404\n",
            "Epoch 139/200\n",
            "34/34 [==============================] - 1s 27ms/step - loss: 0.3943 - accuracy: 0.8406\n",
            "Epoch 140/200\n",
            "34/34 [==============================] - 1s 25ms/step - loss: 0.3974 - accuracy: 0.8390\n",
            "Epoch 141/200\n",
            "34/34 [==============================] - 1s 26ms/step - loss: 0.3929 - accuracy: 0.8406\n",
            "Epoch 142/200\n",
            "34/34 [==============================] - 1s 28ms/step - loss: 0.3925 - accuracy: 0.8377\n",
            "Epoch 143/200\n",
            "34/34 [==============================] - 1s 28ms/step - loss: 0.3870 - accuracy: 0.8426\n",
            "Epoch 144/200\n",
            "34/34 [==============================] - 1s 27ms/step - loss: 0.3940 - accuracy: 0.8392\n",
            "Epoch 145/200\n",
            "34/34 [==============================] - 1s 24ms/step - loss: 0.3938 - accuracy: 0.8393\n",
            "Epoch 146/200\n",
            "34/34 [==============================] - 1s 28ms/step - loss: 0.3880 - accuracy: 0.8410\n",
            "Epoch 147/200\n",
            "34/34 [==============================] - 1s 26ms/step - loss: 0.3921 - accuracy: 0.8411\n",
            "Epoch 148/200\n",
            "34/34 [==============================] - 1s 28ms/step - loss: 0.3913 - accuracy: 0.8392\n",
            "Epoch 149/200\n",
            "34/34 [==============================] - 1s 26ms/step - loss: 0.3886 - accuracy: 0.8388\n",
            "Epoch 150/200\n",
            "34/34 [==============================] - 1s 26ms/step - loss: 0.3852 - accuracy: 0.8435\n",
            "Epoch 151/200\n",
            "34/34 [==============================] - 1s 26ms/step - loss: 0.3882 - accuracy: 0.8423\n",
            "Epoch 152/200\n",
            "34/34 [==============================] - 1s 27ms/step - loss: 0.3885 - accuracy: 0.8412\n",
            "Epoch 153/200\n",
            "34/34 [==============================] - 1s 25ms/step - loss: 0.3872 - accuracy: 0.8406\n",
            "Epoch 154/200\n",
            "34/34 [==============================] - 1s 25ms/step - loss: 0.3863 - accuracy: 0.8420\n",
            "Epoch 155/200\n",
            "34/34 [==============================] - 1s 28ms/step - loss: 0.3911 - accuracy: 0.8427\n",
            "Epoch 156/200\n",
            "34/34 [==============================] - 1s 28ms/step - loss: 0.3899 - accuracy: 0.8450\n",
            "Epoch 157/200\n",
            "34/34 [==============================] - 1s 28ms/step - loss: 0.3837 - accuracy: 0.8431\n",
            "Epoch 158/200\n",
            "34/34 [==============================] - 1s 26ms/step - loss: 0.3938 - accuracy: 0.8406\n",
            "Epoch 159/200\n",
            "34/34 [==============================] - 1s 26ms/step - loss: 0.3862 - accuracy: 0.8432\n",
            "Epoch 160/200\n",
            "34/34 [==============================] - 1s 27ms/step - loss: 0.3867 - accuracy: 0.8426\n",
            "Epoch 161/200\n",
            "34/34 [==============================] - 1s 29ms/step - loss: 0.3865 - accuracy: 0.8410\n",
            "Epoch 162/200\n",
            "34/34 [==============================] - 1s 30ms/step - loss: 0.3854 - accuracy: 0.8429\n",
            "Epoch 163/200\n",
            "34/34 [==============================] - 1s 27ms/step - loss: 0.3835 - accuracy: 0.8411\n",
            "Epoch 164/200\n",
            "34/34 [==============================] - 1s 26ms/step - loss: 0.3880 - accuracy: 0.8421\n",
            "Epoch 165/200\n",
            "34/34 [==============================] - 1s 25ms/step - loss: 0.3862 - accuracy: 0.8418\n",
            "Epoch 166/200\n",
            "34/34 [==============================] - 1s 29ms/step - loss: 0.3809 - accuracy: 0.8411\n",
            "Epoch 167/200\n",
            "34/34 [==============================] - 1s 28ms/step - loss: 0.3839 - accuracy: 0.8436\n",
            "Epoch 168/200\n",
            "34/34 [==============================] - 1s 26ms/step - loss: 0.3857 - accuracy: 0.8428\n",
            "Epoch 169/200\n",
            "34/34 [==============================] - 1s 25ms/step - loss: 0.3813 - accuracy: 0.8420\n",
            "Epoch 170/200\n",
            "34/34 [==============================] - 1s 25ms/step - loss: 0.3806 - accuracy: 0.8421\n",
            "Epoch 171/200\n",
            "34/34 [==============================] - 1s 28ms/step - loss: 0.3806 - accuracy: 0.8415\n",
            "Epoch 172/200\n",
            "34/34 [==============================] - 1s 27ms/step - loss: 0.3785 - accuracy: 0.8442\n",
            "Epoch 173/200\n",
            "34/34 [==============================] - 1s 26ms/step - loss: 0.3837 - accuracy: 0.8436\n",
            "Epoch 174/200\n",
            "34/34 [==============================] - 1s 27ms/step - loss: 0.3798 - accuracy: 0.8444\n",
            "Epoch 175/200\n",
            "34/34 [==============================] - 1s 26ms/step - loss: 0.3826 - accuracy: 0.8438\n",
            "Epoch 176/200\n",
            "34/34 [==============================] - 1s 28ms/step - loss: 0.3768 - accuracy: 0.8472\n",
            "Epoch 177/200\n",
            "34/34 [==============================] - 1s 29ms/step - loss: 0.3784 - accuracy: 0.8424\n",
            "Epoch 178/200\n",
            "34/34 [==============================] - 1s 28ms/step - loss: 0.3749 - accuracy: 0.8450\n",
            "Epoch 179/200\n",
            "34/34 [==============================] - 1s 26ms/step - loss: 0.3839 - accuracy: 0.8428\n",
            "Epoch 180/200\n",
            "34/34 [==============================] - 1s 27ms/step - loss: 0.3795 - accuracy: 0.8455\n",
            "Epoch 181/200\n",
            "34/34 [==============================] - 1s 27ms/step - loss: 0.3719 - accuracy: 0.8500\n",
            "Epoch 182/200\n",
            "34/34 [==============================] - 1s 25ms/step - loss: 0.3717 - accuracy: 0.8483\n",
            "Epoch 183/200\n",
            "34/34 [==============================] - 1s 26ms/step - loss: 0.3773 - accuracy: 0.8466\n",
            "Epoch 184/200\n",
            "34/34 [==============================] - 1s 29ms/step - loss: 0.3775 - accuracy: 0.8456\n",
            "Epoch 185/200\n",
            "34/34 [==============================] - 1s 28ms/step - loss: 0.3770 - accuracy: 0.8451\n",
            "Epoch 186/200\n",
            "34/34 [==============================] - 1s 29ms/step - loss: 0.3723 - accuracy: 0.8482\n",
            "Epoch 187/200\n",
            "34/34 [==============================] - 1s 25ms/step - loss: 0.3734 - accuracy: 0.8459\n",
            "Epoch 188/200\n",
            "34/34 [==============================] - 1s 25ms/step - loss: 0.3751 - accuracy: 0.8469\n",
            "Epoch 189/200\n",
            "34/34 [==============================] - 1s 27ms/step - loss: 0.3744 - accuracy: 0.8457\n",
            "Epoch 190/200\n",
            "34/34 [==============================] - 1s 28ms/step - loss: 0.3687 - accuracy: 0.8470\n",
            "Epoch 191/200\n",
            "34/34 [==============================] - 1s 28ms/step - loss: 0.3753 - accuracy: 0.8474\n",
            "Epoch 192/200\n",
            "34/34 [==============================] - 1s 28ms/step - loss: 0.3696 - accuracy: 0.8486\n",
            "Epoch 193/200\n",
            "34/34 [==============================] - 1s 28ms/step - loss: 0.3718 - accuracy: 0.8479\n",
            "Epoch 194/200\n",
            "34/34 [==============================] - 1s 27ms/step - loss: 0.3722 - accuracy: 0.8471\n",
            "Epoch 195/200\n",
            "34/34 [==============================] - 1s 25ms/step - loss: 0.3688 - accuracy: 0.8493\n",
            "Epoch 196/200\n",
            "34/34 [==============================] - 1s 24ms/step - loss: 0.3753 - accuracy: 0.8455\n",
            "Epoch 197/200\n",
            "34/34 [==============================] - 1s 24ms/step - loss: 0.3674 - accuracy: 0.8472\n",
            "Epoch 198/200\n",
            "34/34 [==============================] - 1s 25ms/step - loss: 0.3685 - accuracy: 0.8477\n",
            "Epoch 199/200\n",
            "34/34 [==============================] - 1s 26ms/step - loss: 0.3721 - accuracy: 0.8478\n",
            "Epoch 200/200\n",
            "34/34 [==============================] - 1s 26ms/step - loss: 0.3647 - accuracy: 0.8488\n",
            "Model: \"sequential\"\n",
            "_________________________________________________________________\n",
            "Layer (type)                 Output Shape              Param #   \n",
            "=================================================================\n",
            "dense (Dense)                (None, 512)               11264     \n",
            "_________________________________________________________________\n",
            "batch_normalization (BatchNo (None, 512)               2048      \n",
            "_________________________________________________________________\n",
            "dense_1 (Dense)              (None, 512)               262656    \n",
            "_________________________________________________________________\n",
            "batch_normalization_1 (Batch (None, 512)               2048      \n",
            "_________________________________________________________________\n",
            "dense_2 (Dense)              (None, 256)               131328    \n",
            "_________________________________________________________________\n",
            "dense_3 (Dense)              (None, 1)                 257       \n",
            "=================================================================\n",
            "Total params: 409,601\n",
            "Trainable params: 407,553\n",
            "Non-trainable params: 2,048\n",
            "_________________________________________________________________\n"
          ]
        }
      ]
    },
    {
      "cell_type": "markdown",
      "metadata": {
        "id": "NWS1YFLVsRnc"
      },
      "source": [
        "Results"
      ]
    },
    {
      "cell_type": "code",
      "metadata": {
        "colab": {
          "base_uri": "https://localhost:8080/",
          "height": 501
        },
        "id": "Dm5SKDPBsTzz",
        "outputId": "74d23134-4196-4b53-f240-7bfc2e70baa2"
      },
      "source": [
        "loss_df = pd.DataFrame(model.history.history)\n",
        "loss_df.plot(figsize=(15,8))"
      ],
      "execution_count": 9,
      "outputs": [
        {
          "output_type": "execute_result",
          "data": {
            "text/plain": [
              "<matplotlib.axes._subplots.AxesSubplot at 0x7f7110af5c90>"
            ]
          },
          "metadata": {},
          "execution_count": 9
        },
        {
          "output_type": "display_data",
          "data": {
            "image/png": "[encoded data removed]",
            "text/plain": [
              "<Figure size 1080x576 with 1 Axes>"
            ]
          },
          "metadata": {
            "needs_background": "light"
          }
        }
      ]
    },
    {
      "cell_type": "code",
      "metadata": {
        "colab": {
          "base_uri": "https://localhost:8080/",
          "height": 283
        },
        "id": "XhPBt7l6st0j",
        "outputId": "1f41e226-bd54-44bc-97d4-958640f6d597"
      },
      "source": [
        "y_pred = model.predict(test_X)\n",
        "\n",
        "from sklearn import metrics\n",
        "\n",
        "\n",
        "fig = plt.pyplot.plot(figsize=(10,5))\n",
        "plt.pyplot.scatter(test_Y,y_pred)\n",
        "\n",
        "plt.pyplot.plot(test_Y,test_Y,'r')"
      ],
      "execution_count": 12,
      "outputs": [
        {
          "output_type": "execute_result",
          "data": {
            "text/plain": [
              "[<matplotlib.lines.Line2D at 0x7f7111d47850>]"
            ]
          },
          "metadata": {},
          "execution_count": 12
        },
        {
          "output_type": "display_data",
          "data": {
            "image/png": "[encoded data removed]",
            "text/plain": [
              "<Figure size 432x288 with 1 Axes>"
            ]
          },
          "metadata": {
            "needs_background": "light"
          }
        }
      ]
    },
    {
      "cell_type": "code",
      "metadata": {
        "id": "hH_4V2SByjfh",
        "colab": {
          "base_uri": "https://localhost:8080/"
        },
        "outputId": "2c8d6311-b7fe-4d84-c6ed-b8457123de29"
      },
      "source": [
        "from sklearn.metrics import accuracy_score\n",
        "from sklearn.metrics import precision_score\n",
        "from sklearn.metrics import recall_score\n",
        "from sklearn.metrics import f1_score\n",
        "\n",
        "\n",
        "\n",
        "y_pred = (y_pred >= 0.65).astype(int).ravel()\n",
        " \n",
        "\n",
        "accuracy = accuracy_score(test_Y, y_pred)\n",
        "print('Accuracy: %f' % accuracy)\n",
        "\n",
        "precision = precision_score(test_Y, y_pred)\n",
        "print('Precision: %f' % precision)\n",
        "\n",
        "recall = recall_score(test_Y, y_pred)\n",
        "print('Recall: %f' % recall)\n",
        "\n",
        "f1 = f1_score(test_Y, y_pred)\n",
        "print('F1 score: %f' % f1)\n",
        "\n",
        "\n"
      ],
      "execution_count": 14,
      "outputs": [
        {
          "output_type": "stream",
          "name": "stdout",
          "text": [
            "Accuracy: 0.811121\n",
            "Precision: 0.629630\n",
            "Recall: 0.080000\n",
            "F1 score: 0.141962\n"
          ]
        }
      ]
    }
  ]
}